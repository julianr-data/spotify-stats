{
 "cells": [
  {
   "cell_type": "code",
   "execution_count": 1,
   "id": "ff671098",
   "metadata": {},
   "outputs": [
    {
     "data": {
      "text/plain": [
       "'\\n5. Armar pie chart (la funcion se armaria en app)\\n\\n6. Repetimos 2 veces mas la funcion, pasandole los df de mediano y corto plazo\\n'"
      ]
     },
     "execution_count": 1,
     "metadata": {},
     "output_type": "execute_result"
    }
   ],
   "source": [
    "'''FUNCION QUE TOMA DFS DE TOP ARTISTS Y DEVUELVE INPUT PARA UN PIE/SUNBURST'''\n",
    "\n",
    "'''\n",
    "El resultado es un df final que lista generos, y artistas por genero escuchado.\n",
    "Idealmente tambien bajaria al nivel cancion, pero eso hace la funcionn muy complicada, \n",
    "y el grafico demasiado dificil de leer.\n",
    "'''\n",
    "\n",
    "'''\n",
    "explicar que le procedimiento seria:\n",
    "1. Tomar df de largo plazo de artistas\n",
    "2. Tomar genero por cada artista\n",
    "\n",
    "pero de acuerdo a lo que dice aca:\n",
    "https://github.com/spotify/web-api/issues/157\n",
    "(y a otros posts viejos hasta el 2015 incluso)\n",
    "\n",
    "lso endpoints de album no tienen genero ni lo han tenido nunca (probabelmente por politicas \n",
    "internas de spoty no quieren exponerlos en la api, o directamente porque ni lo usan), de forma que\n",
    "la unica alternativa es ver los generos desde el artista\n",
    "'''\n",
    "\n",
    "'''\n",
    "aclarar en la pagina misma que los generos por cancion pueden no ser correctos, dado que spotify \n",
    "no da generos por cancion y que entonces realizamos paroximacion en abse a la categorizacion de los artistas\n",
    "\n",
    "aclarar que existe un porcentaje siggnificativo de artistas, muchas veces conocidos! que no tienen genero para spotify  \n",
    "\n",
    "'''\n",
    "\n",
    "'''\n",
    "5. Armar pie chart (la funcion se armaria en app)\n",
    "\n",
    "6. Repetimos 2 veces mas la funcion, pasandole los df de mediano y corto plazo\n",
    "'''"
   ]
  },
  {
   "cell_type": "code",
   "execution_count": 2,
   "id": "e9faa5fd",
   "metadata": {},
   "outputs": [
    {
     "data": {
      "text/plain": [
       "'para la pagina en si:\\nfuncon plot artist sunburst, le entra un df llamado top genres sb data long\\n(copiar el else por si no hay datos en el df)\\n\\n\\ntop genres sb data long es un df creado por:\\n\\n\\ncreate sb data, funcion a la q entra un df (top artist data short term), y top genres (top genres short term)\\n\\n\\ntop artist data short term lo tengo\\n\\ntop genres short term: variable que a su vez viene de get genre count\\n\\n\\n\\nget genre count: le entra un df del user top artist data\\n\\n\\n'"
      ]
     },
     "execution_count": 2,
     "metadata": {},
     "output_type": "execute_result"
    }
   ],
   "source": [
    "'''para la pagina en si:\n",
    "funcon plot artist sunburst, le entra un df llamado top genres sb data long\n",
    "(copiar el else por si no hay datos en el df)\n",
    "\n",
    "\n",
    "top genres sb data long es un df creado por:\n",
    "\n",
    "\n",
    "create sb data, funcion a la q entra un df (top artist data short term), y top genres (top genres short term)\n",
    "\n",
    "\n",
    "top artist data short term lo tengo\n",
    "\n",
    "top genres short term: variable que a su vez viene de get genre count\n",
    "\n",
    "\n",
    "\n",
    "get genre count: le entra un df del user top artist data\n",
    "\n",
    "\n",
    "'''"
   ]
  },
  {
   "cell_type": "code",
   "execution_count": 4,
   "id": "37aef5ab",
   "metadata": {},
   "outputs": [],
   "source": [
    "# imports\n",
    "import pandas as pd\n",
    "import numpy as np\n",
    "import plotly.express as px\n",
    "\n",
    "df_tr = pd.read_csv(\"test_csvs/user_top_tracks_long_term_df.csv\")\n",
    "df_art = pd.read_csv(\"test_csvs/user_top_artists_long_term_df.csv\")"
   ]
  },
  {
   "cell_type": "code",
   "execution_count": 7,
   "id": "eed3fbb4",
   "metadata": {},
   "outputs": [
    {
     "data": {
      "text/plain": [
       "Index(['type', 'artist_name', 'genres', 'popularity', 'image', 'followers',\n",
       "       'artist_id', 'url', 'uri'],\n",
       "      dtype='object')"
      ]
     },
     "execution_count": 7,
     "metadata": {},
     "output_type": "execute_result"
    }
   ],
   "source": [
    "df_art.columns"
   ]
  },
  {
   "cell_type": "code",
   "execution_count": 11,
   "id": "53ba77e3",
   "metadata": {},
   "outputs": [
    {
     "name": "stdout",
     "output_type": "stream",
     "text": [
      "['pop']\n",
      "['dance pop', 'pop', 'uk pop']\n",
      "['pop']\n",
      "['alt z', 'boston folk', 'indie pop']\n",
      "['argentine rock', 'latin alternative', 'latin rock', 'rock en espanol']\n",
      "['hollywood', 'movie tunes', 'soundtrack']\n",
      "['pop', 'r&b en espanol']\n",
      "['Uncategorized']\n",
      "['alternative metal', 'metal', 'progressive death metal', 'progressive metal', 'swedish metal', 'swedish progressive metal']\n",
      "['ann arbor indie', 'funk rock', 'instrumental funk']\n",
      "['beatlesque', 'british invasion', 'classic rock', 'merseybeat', 'psychedelic rock', 'rock']\n",
      "['latin alternative', 'latin pop']\n",
      "['nyc pop', 'retro soul']\n",
      "['instrumental funk']\n",
      "['nueva cancion']\n",
      "['art pop', 'electropop', 'pop']\n",
      "['argentine rock', 'latin alternative', 'latin rock', 'post-punk argentina', 'rock en espanol']\n",
      "['dance pop', 'pop']\n",
      "['album rock', 'art rock', 'classic rock', 'progressive rock', 'psychedelic rock', 'rock', 'symphonic rock']\n",
      "['hard rock', 'metal', 'nwobhm', 'rock']\n",
      "['folklore argentino', 'folklore surero']\n",
      "['progressive metal', 'progressive rock']\n",
      "['Uncategorized']\n",
      "['Uncategorized']\n",
      "['argentine rock', 'rock nacional']\n",
      "['Uncategorized']\n",
      "['british folk', 'folk', 'melancholia', 'singer-songwriter']\n",
      "['colombian pop', 'dance pop', 'latin pop', 'pop']\n",
      "['argentine hip hop', 'r&b argentino', 'trap argentino', 'trap latino', 'urbano latino']\n",
      "['fantasy metal', 'finnish metal', 'finnish power metal', 'gothic metal', 'gothic symphonic metal', 'opera metal', 'power metal', 'symphonic metal']\n",
      "['Uncategorized']\n",
      "['indie pop', 'lilith', 'piano rock']\n",
      "['alternative metal', 'hard rock', 'melodic thrash', 'metal', 'nu metal', 'old school thrash', 'rock', 'speed metal', 'thrash metal']\n",
      "['argentine rock', 'latin alternative', 'latin rock', 'rock en espanol', 'ska argentino']\n",
      "['alternative metal', 'nu metal', 'rap metal', 'rock']\n",
      "['argentine rock', 'latin alternative', 'latin rock', 'post-punk argentina', 'rock en espanol', 'ska argentino']\n",
      "['pop']\n",
      "['musique militaire', 'russian folk']\n",
      "['argentine rock', 'folklore argentino', 'rock nacional']\n",
      "['lo-fi beats']\n",
      "['album rock', 'blues rock', 'classic rock', 'electric blues', 'mellow gold', 'rock', 'singer-songwriter', 'soft rock']\n",
      "['Uncategorized']\n",
      "['classical', 'classical performance', 'israeli classical piano', 'orchestral performance']\n",
      "['cancion infantil latinoamericana', 'musica para ninos']\n",
      "['downtempo', 'dream pop', 'indietronica', 'modern rock']\n",
      "['Uncategorized']\n",
      "['canadian singer-songwriter', 'melancholia', 'permanent wave', 'singer-songwriter']\n",
      "['dance pop', 'dance rock', 'permanent wave', 'pop rock', 'rock']\n",
      "['Uncategorized']\n",
      "['folklore argentino']\n"
     ]
    }
   ],
   "source": [
    "# genre_count\n",
    "\n",
    "def count_genres(df):\n",
    "    gcount = {}\n",
    "    for genre_object in df['genres']:\n",
    "        genre_string = genre_object#.to_string(index=False)\n",
    "        if genre_string == \"Series([], )\" or genre_string == \"[]\":\n",
    "            genre_list = [\"Uncategorized\"]\n",
    "        else:\n",
    "            genre_list = genre_string[1:-1].replace(\"'\",\"\").replace(\", \", \",\").split(\",\")\n",
    "        print(genre_list)\n",
    "    \n",
    "# TERMINAR ESTO\n",
    "count_genres(df_art)"
   ]
  },
  {
   "cell_type": "code",
   "execution_count": null,
   "id": "7dd77bd0",
   "metadata": {},
   "outputs": [],
   "source": [
    "df_art.columns"
   ]
  },
  {
   "cell_type": "code",
   "execution_count": null,
   "id": "11ff86cf",
   "metadata": {},
   "outputs": [],
   "source": [
    "''' \n",
    "agarrar cada cancionid, ver el artistaid, ver en el df de artistas q generos tiene, poner:\n",
    "cancion_name1, artista_name1, genero1\n",
    "cancion_name1, artista_name1, genero2\n",
    "cancion_name1, artista_name1, genero3\n",
    "cancion_name2, artista_name1, genero1\n",
    "cancion_name2, artista_name1, genero2\n",
    "cancion_name2, artista_name1, genero3\n",
    "cancion_name3, artista_name2, genero1\n",
    "cancion_name4, artista_name3, genero1\n",
    "'''\n",
    "\n",
    "track_name = []\n",
    "artist_name = []\n",
    "genre = []\n"
   ]
  },
  {
   "cell_type": "code",
   "execution_count": null,
   "id": "979cfed9",
   "metadata": {},
   "outputs": [],
   "source": [
    "\n",
    "artid_list = df_art.artist_id.tolist()\n",
    "\n",
    "final_artistlist, final_genrelist = [], []\n",
    "\n",
    "for artid in artid_list:\n",
    "    artname = df_art.loc[df_art[\"artist_id\"] == artid, \"artist_name\"].to_string(index=False)\n",
    "    artgenres = df_art.loc[df_art[\"artist_id\"] == artid, \"genres\"].to_string(index=False)\n",
    "    if artgenres == \"Series([], )\" or artgenres == \"[]\":\n",
    "        artgenres = [\"Uncategorized\"]\n",
    "    else:\n",
    "        artgenres = artgenres[1:-1].replace(\"'\",\"\").replace(\", \", \",\").split(\",\")\n",
    "    for genre in artgenres:\n",
    "        final_artistlist.append(artname)\n",
    "        final_genrelist.append(genre)\n",
    "    \n",
    "    print()\n",
    "    print(artid)\n",
    "    print(artname)\n",
    "    print(artgenres)\n",
    "    \n",
    "'''\n",
    "por cada artist id\n",
    "    tomar el nombre y el genero\n",
    "    if genero blablabla poner uncategorized, \n",
    "    else por cada genero appendear\n",
    "    \n",
    "    \n",
    "''' "
   ]
  },
  {
   "cell_type": "code",
   "execution_count": null,
   "id": "515003f5",
   "metadata": {},
   "outputs": [],
   "source": [
    "pd.set_option('display.max_rows', 100)\n",
    " \n",
    "## AT THIS POINT IM GETTING A LOT OF 'SERIES' ARTISTS BECAUSE IM USING BOTH TOP LONG TERM DATAFRAMES, \n",
    "## BUT THEY DONT NECESSARILY COINCIDE IN THE ARTISTS THEY HAVE\n",
    "## TO SOLVE THIS I SHOULD MAKE A MASTER REFERENCE DATAFRAME WHERE ALL NAMES ARE CHECKED\n",
    "\n",
    "# Another option, to explore in a separate notebook, is to have code meant for \n",
    "# a graph that only shows genres and artists. That way the graph will also be less cluttered. \n",
    "\n",
    "sb_df = pd.DataFrame({\"artist\": final_artistlist, \"genre\": final_genrelist}) \n",
    "sb_df"
   ]
  },
  {
   "cell_type": "code",
   "execution_count": null,
   "id": "e798fd1f",
   "metadata": {},
   "outputs": [],
   "source": [
    "fig = px.sunburst(sb_df, path=['genre', \"artist\"])\n",
    "fig.show()"
   ]
  },
  {
   "cell_type": "code",
   "execution_count": null,
   "id": "02d73ac5",
   "metadata": {},
   "outputs": [],
   "source": []
  },
  {
   "cell_type": "code",
   "execution_count": null,
   "id": "3193ac75",
   "metadata": {},
   "outputs": [],
   "source": []
  },
  {
   "cell_type": "code",
   "execution_count": null,
   "id": "c4f73dcd",
   "metadata": {},
   "outputs": [],
   "source": []
  },
  {
   "cell_type": "code",
   "execution_count": null,
   "id": "0c7446c4",
   "metadata": {},
   "outputs": [],
   "source": []
  },
  {
   "cell_type": "code",
   "execution_count": null,
   "id": "ae18c30a",
   "metadata": {},
   "outputs": [],
   "source": [
    "lista1 = [\"rock nacional\", \"rock pop\", \"rock latino\", \"pop\",\"rock nacional\", \"rock pop\", \"rock latino\", \"pop\", \"pop\", \"pop\", \"pop\", \"folklore\"] \n",
    "lista2 = [\"fito\", \"fito\", \"fito\", \"fito\", \"charly\", \"charly\", \"charly\", \"charly\", \"ariana\", \"taylor\", \"abel pintos\", \"abel pintos\"]\n",
    "testdf = pd.DataFrame({\"genero\": lista1, \"artista\": lista2})\n",
    "testdf"
   ]
  },
  {
   "cell_type": "code",
   "execution_count": null,
   "id": "c32b0821",
   "metadata": {},
   "outputs": [],
   "source": [
    "lista3 = [\"fito\", \"charly\", \"ariana\", \"taylor\", \"abel\"]\n",
    "lista4 = [[\"rock nacional\", \"rock pop\", \"rock latino\", \"pop\"], \n",
    "          [\"rock nacional\", \"rock pop\", \"rock latino\", \"pop\"],\n",
    "          [\"pop\"],\n",
    "          [\"pop\"],\n",
    "          [\"folklore\", \"pop\"]]\n",
    "\n",
    "testdf2 = pd.DataFrame({\"artista\": lista3, \"genero\": lista4})\n",
    "testdf2"
   ]
  },
  {
   "cell_type": "code",
   "execution_count": null,
   "id": "f6f6123b",
   "metadata": {},
   "outputs": [],
   "source": [
    "testfig = px.sunburst(testdf2, path=['genero', 'artista'])\n",
    "testfig.show()"
   ]
  },
  {
   "cell_type": "code",
   "execution_count": null,
   "id": "d284bb6e",
   "metadata": {},
   "outputs": [],
   "source": []
  },
  {
   "cell_type": "code",
   "execution_count": null,
   "id": "331ba8b3",
   "metadata": {},
   "outputs": [],
   "source": []
  },
  {
   "cell_type": "code",
   "execution_count": null,
   "id": "a52597a5",
   "metadata": {},
   "outputs": [],
   "source": []
  },
  {
   "cell_type": "code",
   "execution_count": null,
   "id": "00fed368",
   "metadata": {},
   "outputs": [],
   "source": [
    "# intentar solo con datos de artistas\n",
    "fig = px.sunburst(df_art, path=['genres', 'artist_name'])\n",
    "fig.show()"
   ]
  },
  {
   "cell_type": "code",
   "execution_count": null,
   "id": "2c3e4399",
   "metadata": {},
   "outputs": [],
   "source": []
  },
  {
   "cell_type": "code",
   "execution_count": null,
   "id": "9633297c",
   "metadata": {},
   "outputs": [],
   "source": []
  },
  {
   "cell_type": "code",
   "execution_count": null,
   "id": "6dc28697",
   "metadata": {},
   "outputs": [],
   "source": []
  },
  {
   "cell_type": "code",
   "execution_count": null,
   "id": "bbffbf1b",
   "metadata": {},
   "outputs": [],
   "source": []
  },
  {
   "cell_type": "code",
   "execution_count": null,
   "id": "10497578",
   "metadata": {},
   "outputs": [],
   "source": [
    "tips = px.data.tips()\n",
    "tips"
   ]
  },
  {
   "cell_type": "code",
   "execution_count": null,
   "id": "8a6af194",
   "metadata": {},
   "outputs": [],
   "source": [
    "fig = px.sunburst(tips, path=['day', 'time', 'sex', \"smoker\"], values='total_bill')\n",
    "fig.show()"
   ]
  }
 ],
 "metadata": {
  "kernelspec": {
   "display_name": "Python 3 (ipykernel)",
   "language": "python",
   "name": "python3"
  },
  "language_info": {
   "codemirror_mode": {
    "name": "ipython",
    "version": 3
   },
   "file_extension": ".py",
   "mimetype": "text/x-python",
   "name": "python",
   "nbconvert_exporter": "python",
   "pygments_lexer": "ipython3",
   "version": "3.10.6"
  },
  "toc": {
   "base_numbering": 1,
   "nav_menu": {},
   "number_sections": true,
   "sideBar": true,
   "skip_h1_title": false,
   "title_cell": "Table of Contents",
   "title_sidebar": "Contents",
   "toc_cell": false,
   "toc_position": {},
   "toc_section_display": true,
   "toc_window_display": false
  }
 },
 "nbformat": 4,
 "nbformat_minor": 5
}

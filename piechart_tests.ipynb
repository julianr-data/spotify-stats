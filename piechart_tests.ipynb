{
 "cells": [
  {
   "cell_type": "code",
   "execution_count": 1,
   "id": "ff671098",
   "metadata": {},
   "outputs": [
    {
     "data": {
      "text/plain": [
       "'\\n1. Tomar df de largo plazo de tracks\\n2. Por cada item, intentar tomar genero\\n3. Si el genero esta, append to list\\n4. Si genero = NaN ir al df largo plazo de artistas, buscar le artista, unpack & append los generos\\n\\n5. Armar la estadistica, insistencia del genero escuchado sobre total\\n6. Armar pie chart (la funcion se armaria en app)\\n\\n7. Repetimos 2 veces mas la funcion, pasandole los df de mediano y corto plazo\\n'"
      ]
     },
     "execution_count": 1,
     "metadata": {},
     "output_type": "execute_result"
    }
   ],
   "source": [
    "'''FUNCION QUE TOMA DFS DE TOP ARTISTS Y TRACKS Y DEVUELVE INPUT PARA UN PIE/SUNBURST'''\n",
    "\n",
    "'''\n",
    "El resultado es un df final que lista generos, y artistas por genero escuchado.\n",
    "Idealmente tambien bajaria al nivel cancion, pero el genero por cancion no viene en la API.\n",
    "Entonces necesito:\n",
    "\n",
    "Pop: dua lipa, ariana, fito\n",
    "Rock: charly, juanse, fito\n",
    "'''\n",
    "\n",
    "'''\n",
    "explicar que le procedimiento seria:\n",
    "1. Tomar df de largo plazo de tracks\n",
    "2. Por cada item, intentar tomar genero\n",
    "3. Si genero = NaN ir al df largo plazo de artistas, buscar le artista, unpack & append los generos\n",
    "\n",
    "pero de acuerdo a lo que dice aca:\n",
    "https://github.com/spotify/web-api/issues/157\n",
    "(y a otros posts viejos hasta el 2015 incluso)\n",
    "\n",
    "lso endpoints de album no tienen genero ni lo han tenido nunca (probabelmente por politicas \n",
    "internas de spoty no quieren exponerlos en la api, o directamente porque ni lo usan), de forma que\n",
    "la unica alternativa es ver los generos desde el artista\n",
    "'''\n",
    "\n",
    "'''\n",
    "aclarar en la pagina misma que los generos por cancion pueden no ser correctos, dado que spotify \n",
    "no da generos por cancion y que entonces realizamos paroximacion en abse a la categorizacion de los artistas\n",
    "'''\n",
    "\n",
    "'''\n",
    "5. Armar pie chart (la funcion se armaria en app)\n",
    "\n",
    "6. Repetimos 2 veces mas la funcion, pasandole los df de mediano y corto plazo\n",
    "'''"
   ]
  },
  {
   "cell_type": "code",
   "execution_count": 3,
   "id": "37aef5ab",
   "metadata": {},
   "outputs": [],
   "source": [
    "# imports\n",
    "\n",
    "import pandas as pd\n",
    "import numpy as np\n",
    "import plotly.express as px\n",
    "\n",
    "df_tr = pd.read_csv(\"test_csvs/user_top_tracks_long_term_df.csv\")\n",
    "df_art = pd.read_csv(\"test_csvs/user_top_artists_long_term_df.csv\")"
   ]
  },
  {
   "cell_type": "code",
   "execution_count": 10,
   "id": "7dd77bd0",
   "metadata": {},
   "outputs": [
    {
     "data": {
      "text/plain": [
       "Index(['type', 'artist_name', 'genres', 'popularity', 'image', 'followers',\n",
       "       'artist_id', 'url', 'uri'],\n",
       "      dtype='object')"
      ]
     },
     "execution_count": 10,
     "metadata": {},
     "output_type": "execute_result"
    }
   ],
   "source": [
    "df_art.columns"
   ]
  },
  {
   "cell_type": "code",
   "execution_count": null,
   "id": "11ff86cf",
   "metadata": {},
   "outputs": [],
   "source": [
    "''' \n",
    "agarrar cada cancionid, ver el artistaid, ver en el df de artistas q generos tiene, poner:\n",
    "cancion_name1, artista_name1, genero1\n",
    "cancion_name1, artista_name1, genero2\n",
    "cancion_name1, artista_name1, genero3\n",
    "cancion_name2, artista_name1, genero1\n",
    "cancion_name2, artista_name1, genero2\n",
    "cancion_name2, artista_name1, genero3\n",
    "cancion_name3, artista_name2, genero1\n",
    "cancion_name4, artista_name3, genero1\n",
    "'''\n",
    "\n",
    "track_name = []\n",
    "artist_name = []\n",
    "genre = []\n"
   ]
  },
  {
   "cell_type": "code",
   "execution_count": 45,
   "id": "979cfed9",
   "metadata": {},
   "outputs": [
    {
     "data": {
      "text/plain": [
       "\"State Of Grace (Taylor's Version)\""
      ]
     },
     "execution_count": 45,
     "metadata": {},
     "output_type": "execute_result"
    }
   ],
   "source": [
    "df_tr.track_id.tolist() = trackid_list\n",
    "\n",
    "\n",
    "artid = df_tr.loc[[2]][\"artist_id\"].to_string(index=False)\n",
    "artname = df_art.loc[df_art[\"artist_id\"] == artid, \"artist_name\"].to_string(index=False)\n",
    "trackname = df_tr.loc[[2]][\"track_name\"].to_string(index=False)\n",
    "\n",
    "\n",
    "for trackid in trackid_list:\n",
    "    \n",
    "\n",
    "\n",
    "'''\n",
    "creo final_tracklist, final_artistlist, final_genrelist\n",
    "al final las voy a converitr en df\n",
    "\n",
    "para cada track\n",
    "        saco al artist id del artista, voy al df de artista\n",
    "        tomo la cell genres, la hago lista\n",
    "        por cada genre de esa lista\n",
    "            final_tracklist append trackname\n",
    "            final_artistlist append artistname\n",
    "            final_genrelist append genero\n",
    "        \n",
    "        \n",
    "'''"
   ]
  },
  {
   "cell_type": "code",
   "execution_count": 49,
   "id": "5bc44d2c",
   "metadata": {},
   "outputs": [
    {
     "data": {
      "text/html": [
       "<div>\n",
       "<style scoped>\n",
       "    .dataframe tbody tr th:only-of-type {\n",
       "        vertical-align: middle;\n",
       "    }\n",
       "\n",
       "    .dataframe tbody tr th {\n",
       "        vertical-align: top;\n",
       "    }\n",
       "\n",
       "    .dataframe thead th {\n",
       "        text-align: right;\n",
       "    }\n",
       "</style>\n",
       "<table border=\"1\" class=\"dataframe\">\n",
       "  <thead>\n",
       "    <tr style=\"text-align: right;\">\n",
       "      <th></th>\n",
       "      <th>artist_name</th>\n",
       "      <th>artist_url</th>\n",
       "      <th>artist_id</th>\n",
       "      <th>album_name</th>\n",
       "      <th>album_release_date</th>\n",
       "      <th>album_image_url</th>\n",
       "      <th>album_external_url</th>\n",
       "      <th>album_total_tracks</th>\n",
       "      <th>album_label</th>\n",
       "      <th>album_group</th>\n",
       "      <th>...</th>\n",
       "      <th>track_duration</th>\n",
       "      <th>track_external_url</th>\n",
       "      <th>track_name</th>\n",
       "      <th>track_popularity</th>\n",
       "      <th>track_preview_url</th>\n",
       "      <th>track_number_in_album</th>\n",
       "      <th>track_href</th>\n",
       "      <th>track_id</th>\n",
       "      <th>track_explicit</th>\n",
       "      <th>track_available_markets</th>\n",
       "    </tr>\n",
       "  </thead>\n",
       "  <tbody>\n",
       "    <tr>\n",
       "      <th>0</th>\n",
       "      <td>Dua Lipa</td>\n",
       "      <td>https://open.spotify.com/artist/6M2wZ9GZgrQXHC...</td>\n",
       "      <td>6M2wZ9GZgrQXHCFfjv46we</td>\n",
       "      <td>Future Nostalgia</td>\n",
       "      <td>2020-03-27</td>\n",
       "      <td>https://i.scdn.co/image/ab67616d0000b273bd26ed...</td>\n",
       "      <td>https://open.spotify.com/album/7fJJK56U9fHixgO...</td>\n",
       "      <td>11</td>\n",
       "      <td>NaN</td>\n",
       "      <td>ALBUM</td>\n",
       "      <td>...</td>\n",
       "      <td>184881</td>\n",
       "      <td>https://open.spotify.com/track/6zrJLhslleCHby0...</td>\n",
       "      <td>Future Nostalgia</td>\n",
       "      <td>59</td>\n",
       "      <td>https://p.scdn.co/mp3-preview/c6693afdc743aa1b...</td>\n",
       "      <td>1</td>\n",
       "      <td>https://api.spotify.com/v1/tracks/6zrJLhslleCH...</td>\n",
       "      <td>6zrJLhslleCHby0wbUnvVy</td>\n",
       "      <td>False</td>\n",
       "      <td>['AD', 'AE', 'AR', 'AU', 'BE', 'BG', 'BH', 'BO...</td>\n",
       "    </tr>\n",
       "    <tr>\n",
       "      <th>1</th>\n",
       "      <td>Taylor Swift</td>\n",
       "      <td>https://open.spotify.com/artist/06HL4z0CvFAxyc...</td>\n",
       "      <td>06HL4z0CvFAxyc27GXpf02</td>\n",
       "      <td>Red (Taylor's Version)</td>\n",
       "      <td>2021-11-12</td>\n",
       "      <td>https://i.scdn.co/image/ab67616d0000b273318443...</td>\n",
       "      <td>https://open.spotify.com/album/6kZ42qRrzov54Lc...</td>\n",
       "      <td>30</td>\n",
       "      <td>NaN</td>\n",
       "      <td>ALBUM</td>\n",
       "      <td>...</td>\n",
       "      <td>223093</td>\n",
       "      <td>https://open.spotify.com/track/4OAuvHryIVv4kMD...</td>\n",
       "      <td>Red (Taylor's Version)</td>\n",
       "      <td>79</td>\n",
       "      <td>https://p.scdn.co/mp3-preview/14ef132577de4995...</td>\n",
       "      <td>2</td>\n",
       "      <td>https://api.spotify.com/v1/tracks/4OAuvHryIVv4...</td>\n",
       "      <td>4OAuvHryIVv4kMDNSLuPt6</td>\n",
       "      <td>False</td>\n",
       "      <td>['AD', 'AE', 'AR', 'AT', 'AU', 'BE', 'BG', 'BH...</td>\n",
       "    </tr>\n",
       "    <tr>\n",
       "      <th>2</th>\n",
       "      <td>Taylor Swift</td>\n",
       "      <td>https://open.spotify.com/artist/06HL4z0CvFAxyc...</td>\n",
       "      <td>06HL4z0CvFAxyc27GXpf02</td>\n",
       "      <td>Red (Taylor's Version)</td>\n",
       "      <td>2021-11-12</td>\n",
       "      <td>https://i.scdn.co/image/ab67616d0000b273318443...</td>\n",
       "      <td>https://open.spotify.com/album/6kZ42qRrzov54Lc...</td>\n",
       "      <td>30</td>\n",
       "      <td>NaN</td>\n",
       "      <td>ALBUM</td>\n",
       "      <td>...</td>\n",
       "      <td>295413</td>\n",
       "      <td>https://open.spotify.com/track/6lzc0Al0zfZOIFs...</td>\n",
       "      <td>State Of Grace (Taylor's Version)</td>\n",
       "      <td>72</td>\n",
       "      <td>https://p.scdn.co/mp3-preview/3b79d68fb7dc8b22...</td>\n",
       "      <td>1</td>\n",
       "      <td>https://api.spotify.com/v1/tracks/6lzc0Al0zfZO...</td>\n",
       "      <td>6lzc0Al0zfZOIFsFvBS1ki</td>\n",
       "      <td>False</td>\n",
       "      <td>['AD', 'AE', 'AR', 'AT', 'AU', 'BE', 'BG', 'BH...</td>\n",
       "    </tr>\n",
       "    <tr>\n",
       "      <th>3</th>\n",
       "      <td>Nicki Nicole</td>\n",
       "      <td>https://open.spotify.com/artist/2UZIAOlrnyZmyz...</td>\n",
       "      <td>2UZIAOlrnyZmyzt1nuXr9y</td>\n",
       "      <td>Nicki Nicole (Live at NPR's Tiny Desk)</td>\n",
       "      <td>2022-06-30</td>\n",
       "      <td>https://i.scdn.co/image/ab67616d0000b273ca6c91...</td>\n",
       "      <td>https://open.spotify.com/album/56vHzz7py4Ki3p9...</td>\n",
       "      <td>5</td>\n",
       "      <td>NaN</td>\n",
       "      <td>SINGLE</td>\n",
       "      <td>...</td>\n",
       "      <td>197412</td>\n",
       "      <td>https://open.spotify.com/track/1sdOQxBSDlGc922...</td>\n",
       "      <td>Colocao - Tiny Desk</td>\n",
       "      <td>47</td>\n",
       "      <td>https://p.scdn.co/mp3-preview/a217624c0824f7e4...</td>\n",
       "      <td>1</td>\n",
       "      <td>https://api.spotify.com/v1/tracks/1sdOQxBSDlGc...</td>\n",
       "      <td>1sdOQxBSDlGc922jSMhPVy</td>\n",
       "      <td>True</td>\n",
       "      <td>['AD', 'AE', 'AR', 'AT', 'AU', 'BE', 'BG', 'BH...</td>\n",
       "    </tr>\n",
       "    <tr>\n",
       "      <th>4</th>\n",
       "      <td>Julian R. Fogel</td>\n",
       "      <td>https://open.spotify.com/artist/4yrcVUvbTkZyhy...</td>\n",
       "      <td>4yrcVUvbTkZyhyVdsq5vsS</td>\n",
       "      <td>Canciones de Cuarentena</td>\n",
       "      <td>2020-06-27</td>\n",
       "      <td>https://i.scdn.co/image/ab67616d0000b273eab579...</td>\n",
       "      <td>https://open.spotify.com/album/7DfsKYy6npqnA9D...</td>\n",
       "      <td>2</td>\n",
       "      <td>NaN</td>\n",
       "      <td>SINGLE</td>\n",
       "      <td>...</td>\n",
       "      <td>190900</td>\n",
       "      <td>https://open.spotify.com/track/4HXYyIQSl8jCvvO...</td>\n",
       "      <td>Tibidabo</td>\n",
       "      <td>0</td>\n",
       "      <td>https://p.scdn.co/mp3-preview/459c3e9fe37b76ed...</td>\n",
       "      <td>1</td>\n",
       "      <td>https://api.spotify.com/v1/tracks/4HXYyIQSl8jC...</td>\n",
       "      <td>4HXYyIQSl8jCvvOo31bXMx</td>\n",
       "      <td>False</td>\n",
       "      <td>['AD', 'AE', 'AR', 'AT', 'AU', 'BE', 'BG', 'BH...</td>\n",
       "    </tr>\n",
       "    <tr>\n",
       "      <th>5</th>\n",
       "      <td>Julian R. Fogel</td>\n",
       "      <td>https://open.spotify.com/artist/4yrcVUvbTkZyhy...</td>\n",
       "      <td>4yrcVUvbTkZyhyVdsq5vsS</td>\n",
       "      <td>No entres ahí!</td>\n",
       "      <td>2019-10-18</td>\n",
       "      <td>https://i.scdn.co/image/ab67616d0000b273cfe30f...</td>\n",
       "      <td>https://open.spotify.com/album/3tN4dUOGkciu9uU...</td>\n",
       "      <td>1</td>\n",
       "      <td>NaN</td>\n",
       "      <td>SINGLE</td>\n",
       "      <td>...</td>\n",
       "      <td>256365</td>\n",
       "      <td>https://open.spotify.com/track/5T1gpQGyqUMiKHm...</td>\n",
       "      <td>No entres ahí!</td>\n",
       "      <td>0</td>\n",
       "      <td>https://p.scdn.co/mp3-preview/cea8b79042cf7943...</td>\n",
       "      <td>1</td>\n",
       "      <td>https://api.spotify.com/v1/tracks/5T1gpQGyqUMi...</td>\n",
       "      <td>5T1gpQGyqUMiKHmGBUAtHR</td>\n",
       "      <td>False</td>\n",
       "      <td>['AD', 'AE', 'AR', 'AT', 'AU', 'BE', 'BG', 'BH...</td>\n",
       "    </tr>\n",
       "    <tr>\n",
       "      <th>6</th>\n",
       "      <td>Justin Hurwitz</td>\n",
       "      <td>https://open.spotify.com/artist/2snm3HmsnDUDxb...</td>\n",
       "      <td>2snm3HmsnDUDxbIChdl2Oj</td>\n",
       "      <td>Babylon (Music from the Motion Picture)</td>\n",
       "      <td>2022-12-09</td>\n",
       "      <td>https://i.scdn.co/image/ab67616d0000b273acd28a...</td>\n",
       "      <td>https://open.spotify.com/album/0jCuKxy96iDfx9J...</td>\n",
       "      <td>48</td>\n",
       "      <td>NaN</td>\n",
       "      <td>ALBUM</td>\n",
       "      <td>...</td>\n",
       "      <td>240000</td>\n",
       "      <td>https://open.spotify.com/track/0Hn9iSg0dwEfw7a...</td>\n",
       "      <td>Welcome</td>\n",
       "      <td>49</td>\n",
       "      <td>https://p.scdn.co/mp3-preview/669d7be9d1fa080c...</td>\n",
       "      <td>1</td>\n",
       "      <td>https://api.spotify.com/v1/tracks/0Hn9iSg0dwEf...</td>\n",
       "      <td>0Hn9iSg0dwEfw7a7o8JjUZ</td>\n",
       "      <td>False</td>\n",
       "      <td>['AD', 'AE', 'AR', 'AT', 'AU', 'BE', 'BG', 'BH...</td>\n",
       "    </tr>\n",
       "    <tr>\n",
       "      <th>7</th>\n",
       "      <td>Dua Lipa</td>\n",
       "      <td>https://open.spotify.com/artist/6M2wZ9GZgrQXHC...</td>\n",
       "      <td>6M2wZ9GZgrQXHCFfjv46we</td>\n",
       "      <td>Future Nostalgia</td>\n",
       "      <td>2020-03-27</td>\n",
       "      <td>https://i.scdn.co/image/ab67616d0000b273bd26ed...</td>\n",
       "      <td>https://open.spotify.com/album/7fJJK56U9fHixgO...</td>\n",
       "      <td>11</td>\n",
       "      <td>NaN</td>\n",
       "      <td>ALBUM</td>\n",
       "      <td>...</td>\n",
       "      <td>221820</td>\n",
       "      <td>https://open.spotify.com/track/017PF4Q3l4DBUiW...</td>\n",
       "      <td>Break My Heart</td>\n",
       "      <td>79</td>\n",
       "      <td>https://p.scdn.co/mp3-preview/a0078bbdb4351ec2...</td>\n",
       "      <td>9</td>\n",
       "      <td>https://api.spotify.com/v1/tracks/017PF4Q3l4DB...</td>\n",
       "      <td>017PF4Q3l4DBUiWoXk4OWT</td>\n",
       "      <td>False</td>\n",
       "      <td>['AD', 'AE', 'AR', 'AU', 'BE', 'BG', 'BH', 'BO...</td>\n",
       "    </tr>\n",
       "    <tr>\n",
       "      <th>8</th>\n",
       "      <td>Emma Stone</td>\n",
       "      <td>https://open.spotify.com/artist/68Uwx1d3EbjDJh...</td>\n",
       "      <td>68Uwx1d3EbjDJhYsLjqvIq</td>\n",
       "      <td>La La Land (Original Motion Picture Soundtrack)</td>\n",
       "      <td>2016-12-09</td>\n",
       "      <td>https://i.scdn.co/image/ab67616d0000b2730bdf4d...</td>\n",
       "      <td>https://open.spotify.com/album/3GU8BzFEAdFSRjc...</td>\n",
       "      <td>15</td>\n",
       "      <td>NaN</td>\n",
       "      <td>ALBUM</td>\n",
       "      <td>...</td>\n",
       "      <td>259613</td>\n",
       "      <td>https://open.spotify.com/track/39ncDMVidHOeQge...</td>\n",
       "      <td>Someone In The Crowd</td>\n",
       "      <td>62</td>\n",
       "      <td>https://p.scdn.co/mp3-preview/931a58a2a3d4a8b4...</td>\n",
       "      <td>2</td>\n",
       "      <td>https://api.spotify.com/v1/tracks/39ncDMVidHOe...</td>\n",
       "      <td>39ncDMVidHOeQgeC5anYZM</td>\n",
       "      <td>False</td>\n",
       "      <td>['AD', 'AE', 'AR', 'AT', 'AU', 'BE', 'BG', 'BH...</td>\n",
       "    </tr>\n",
       "    <tr>\n",
       "      <th>9</th>\n",
       "      <td>Dua Lipa</td>\n",
       "      <td>https://open.spotify.com/artist/6M2wZ9GZgrQXHC...</td>\n",
       "      <td>6M2wZ9GZgrQXHCFfjv46we</td>\n",
       "      <td>Future Nostalgia</td>\n",
       "      <td>2020-03-27</td>\n",
       "      <td>https://i.scdn.co/image/ab67616d0000b273bd26ed...</td>\n",
       "      <td>https://open.spotify.com/album/7fJJK56U9fHixgO...</td>\n",
       "      <td>11</td>\n",
       "      <td>NaN</td>\n",
       "      <td>ALBUM</td>\n",
       "      <td>...</td>\n",
       "      <td>193829</td>\n",
       "      <td>https://open.spotify.com/track/3AzjcOeAmA57TIO...</td>\n",
       "      <td>Physical</td>\n",
       "      <td>78</td>\n",
       "      <td>https://p.scdn.co/mp3-preview/a40862d3e14b3758...</td>\n",
       "      <td>4</td>\n",
       "      <td>https://api.spotify.com/v1/tracks/3AzjcOeAmA57...</td>\n",
       "      <td>3AzjcOeAmA57TIOr9zF1ZW</td>\n",
       "      <td>False</td>\n",
       "      <td>['AD', 'AE', 'AR', 'AU', 'BE', 'BG', 'BH', 'BO...</td>\n",
       "    </tr>\n",
       "    <tr>\n",
       "      <th>10</th>\n",
       "      <td>Taylor Swift</td>\n",
       "      <td>https://open.spotify.com/artist/06HL4z0CvFAxyc...</td>\n",
       "      <td>06HL4z0CvFAxyc27GXpf02</td>\n",
       "      <td>Red (Taylor's Version)</td>\n",
       "      <td>2021-11-12</td>\n",
       "      <td>https://i.scdn.co/image/ab67616d0000b273318443...</td>\n",
       "      <td>https://open.spotify.com/album/6kZ42qRrzov54Lc...</td>\n",
       "      <td>30</td>\n",
       "      <td>NaN</td>\n",
       "      <td>ALBUM</td>\n",
       "      <td>...</td>\n",
       "      <td>219760</td>\n",
       "      <td>https://open.spotify.com/track/6AtZLIzUINvExIU...</td>\n",
       "      <td>I Knew You Were Trouble (Taylor's Version)</td>\n",
       "      <td>79</td>\n",
       "      <td>https://p.scdn.co/mp3-preview/c9076346853dd9b9...</td>\n",
       "      <td>4</td>\n",
       "      <td>https://api.spotify.com/v1/tracks/6AtZLIzUINvE...</td>\n",
       "      <td>6AtZLIzUINvExIUy4QhdjP</td>\n",
       "      <td>False</td>\n",
       "      <td>['AD', 'AE', 'AR', 'AT', 'AU', 'BE', 'BG', 'BH...</td>\n",
       "    </tr>\n",
       "    <tr>\n",
       "      <th>11</th>\n",
       "      <td>Nicki Nicole</td>\n",
       "      <td>https://open.spotify.com/artist/2UZIAOlrnyZmyz...</td>\n",
       "      <td>2UZIAOlrnyZmyzt1nuXr9y</td>\n",
       "      <td>Nicki Nicole (Live at NPR's Tiny Desk)</td>\n",
       "      <td>2022-06-30</td>\n",
       "      <td>https://i.scdn.co/image/ab67616d0000b273ca6c91...</td>\n",
       "      <td>https://open.spotify.com/album/56vHzz7py4Ki3p9...</td>\n",
       "      <td>5</td>\n",
       "      <td>NaN</td>\n",
       "      <td>SINGLE</td>\n",
       "      <td>...</td>\n",
       "      <td>194663</td>\n",
       "      <td>https://open.spotify.com/track/4A036RsBqPPMaGA...</td>\n",
       "      <td>Mala Vida/Wapo Traketero - Tiny Desk</td>\n",
       "      <td>47</td>\n",
       "      <td>https://p.scdn.co/mp3-preview/24fa0b85ea58abcd...</td>\n",
       "      <td>2</td>\n",
       "      <td>https://api.spotify.com/v1/tracks/4A036RsBqPPM...</td>\n",
       "      <td>4A036RsBqPPMaGAcle29eO</td>\n",
       "      <td>True</td>\n",
       "      <td>['AD', 'AE', 'AR', 'AT', 'AU', 'BE', 'BG', 'BH...</td>\n",
       "    </tr>\n",
       "    <tr>\n",
       "      <th>12</th>\n",
       "      <td>CA7RIEL</td>\n",
       "      <td>https://open.spotify.com/artist/348pk4o3EhKmsS...</td>\n",
       "      <td>348pk4o3EhKmsSahzuClSf</td>\n",
       "      <td>McFly</td>\n",
       "      <td>2019-12-12</td>\n",
       "      <td>https://i.scdn.co/image/ab67616d0000b27349d320...</td>\n",
       "      <td>https://open.spotify.com/album/2vyTiubhMe0dlwK...</td>\n",
       "      <td>1</td>\n",
       "      <td>NaN</td>\n",
       "      <td>SINGLE</td>\n",
       "      <td>...</td>\n",
       "      <td>144014</td>\n",
       "      <td>https://open.spotify.com/track/28Qkq4zVzDQpNgI...</td>\n",
       "      <td>McFly</td>\n",
       "      <td>54</td>\n",
       "      <td>https://p.scdn.co/mp3-preview/e6426e9c87ba1c14...</td>\n",
       "      <td>1</td>\n",
       "      <td>https://api.spotify.com/v1/tracks/28Qkq4zVzDQp...</td>\n",
       "      <td>28Qkq4zVzDQpNgIb4r00lu</td>\n",
       "      <td>False</td>\n",
       "      <td>['AD', 'AE', 'AR', 'AT', 'AU', 'BE', 'BG', 'BH...</td>\n",
       "    </tr>\n",
       "    <tr>\n",
       "      <th>13</th>\n",
       "      <td>Billie Eilish</td>\n",
       "      <td>https://open.spotify.com/artist/6qqNVTkY8uBg9c...</td>\n",
       "      <td>6qqNVTkY8uBg9cP3Jd7DAH</td>\n",
       "      <td>WHEN WE ALL FALL ASLEEP, WHERE DO WE GO?</td>\n",
       "      <td>2019-03-29</td>\n",
       "      <td>https://i.scdn.co/image/ab67616d0000b27350a314...</td>\n",
       "      <td>https://open.spotify.com/album/0S0KGZnfBGSIssf...</td>\n",
       "      <td>14</td>\n",
       "      <td>NaN</td>\n",
       "      <td>ALBUM</td>\n",
       "      <td>...</td>\n",
       "      <td>168839</td>\n",
       "      <td>https://open.spotify.com/track/6IRdLKIyS4p7XNi...</td>\n",
       "      <td>all the good girls go to hell</td>\n",
       "      <td>76</td>\n",
       "      <td>https://p.scdn.co/mp3-preview/8182ac34d71d8115...</td>\n",
       "      <td>5</td>\n",
       "      <td>https://api.spotify.com/v1/tracks/6IRdLKIyS4p7...</td>\n",
       "      <td>6IRdLKIyS4p7XNiP8r6rsx</td>\n",
       "      <td>False</td>\n",
       "      <td>['AD', 'AE', 'AR', 'AT', 'AU', 'BE', 'BG', 'BH...</td>\n",
       "    </tr>\n",
       "    <tr>\n",
       "      <th>14</th>\n",
       "      <td>Ariana Grande</td>\n",
       "      <td>https://open.spotify.com/artist/66CXWjxzNUsdJx...</td>\n",
       "      <td>66CXWjxzNUsdJxJ2JdwvnR</td>\n",
       "      <td>Positions</td>\n",
       "      <td>2020-10-30</td>\n",
       "      <td>https://i.scdn.co/image/ab67616d0000b2735ef878...</td>\n",
       "      <td>https://open.spotify.com/album/3euz4vS7ezKGnNS...</td>\n",
       "      <td>14</td>\n",
       "      <td>NaN</td>\n",
       "      <td>ALBUM</td>\n",
       "      <td>...</td>\n",
       "      <td>173710</td>\n",
       "      <td>https://open.spotify.com/track/6Im9k8u9iIzKMrm...</td>\n",
       "      <td>34+35</td>\n",
       "      <td>80</td>\n",
       "      <td>https://p.scdn.co/mp3-preview/fe2e489895adc1c3...</td>\n",
       "      <td>2</td>\n",
       "      <td>https://api.spotify.com/v1/tracks/6Im9k8u9iIzK...</td>\n",
       "      <td>6Im9k8u9iIzKMrmV7BWtlF</td>\n",
       "      <td>True</td>\n",
       "      <td>['AD', 'AE', 'AR', 'AT', 'AU', 'BE', 'BG', 'BH...</td>\n",
       "    </tr>\n",
       "    <tr>\n",
       "      <th>15</th>\n",
       "      <td>Ariana Grande</td>\n",
       "      <td>https://open.spotify.com/artist/66CXWjxzNUsdJx...</td>\n",
       "      <td>66CXWjxzNUsdJxJ2JdwvnR</td>\n",
       "      <td>thank u, next</td>\n",
       "      <td>2019-02-08</td>\n",
       "      <td>https://i.scdn.co/image/ab67616d0000b27356ac7b...</td>\n",
       "      <td>https://open.spotify.com/album/2fYhqwDWXjbpjaI...</td>\n",
       "      <td>12</td>\n",
       "      <td>NaN</td>\n",
       "      <td>ALBUM</td>\n",
       "      <td>...</td>\n",
       "      <td>178626</td>\n",
       "      <td>https://open.spotify.com/track/6ocbgoVGwYJhOv1...</td>\n",
       "      <td>7 rings</td>\n",
       "      <td>86</td>\n",
       "      <td>https://p.scdn.co/mp3-preview/6e849e35b318ed68...</td>\n",
       "      <td>10</td>\n",
       "      <td>https://api.spotify.com/v1/tracks/6ocbgoVGwYJh...</td>\n",
       "      <td>6ocbgoVGwYJhOv1GgI9NsF</td>\n",
       "      <td>True</td>\n",
       "      <td>['AD', 'AE', 'AR', 'AT', 'AU', 'BE', 'BG', 'BH...</td>\n",
       "    </tr>\n",
       "    <tr>\n",
       "      <th>16</th>\n",
       "      <td>Billy Joel</td>\n",
       "      <td>https://open.spotify.com/artist/6zFYqv1mOsgBRQ...</td>\n",
       "      <td>6zFYqv1mOsgBRQbae3JJ9e</td>\n",
       "      <td>The Stranger (Legacy Edition)</td>\n",
       "      <td>1977</td>\n",
       "      <td>https://i.scdn.co/image/ab67616d0000b2736ce611...</td>\n",
       "      <td>https://open.spotify.com/album/1Mhn9VosyjtWn4d...</td>\n",
       "      <td>21</td>\n",
       "      <td>NaN</td>\n",
       "      <td>ALBUM</td>\n",
       "      <td>...</td>\n",
       "      <td>214240</td>\n",
       "      <td>https://open.spotify.com/track/4U45aEWtQhrm8A5...</td>\n",
       "      <td>Vienna</td>\n",
       "      <td>80</td>\n",
       "      <td>https://p.scdn.co/mp3-preview/20063b69f912e042...</td>\n",
       "      <td>5</td>\n",
       "      <td>https://api.spotify.com/v1/tracks/4U45aEWtQhrm...</td>\n",
       "      <td>4U45aEWtQhrm8A5mxPaFZ7</td>\n",
       "      <td>False</td>\n",
       "      <td>['AD', 'AE', 'AR', 'AT', 'AU', 'BE', 'BG', 'BH...</td>\n",
       "    </tr>\n",
       "    <tr>\n",
       "      <th>17</th>\n",
       "      <td>Ariana Grande</td>\n",
       "      <td>https://open.spotify.com/artist/66CXWjxzNUsdJx...</td>\n",
       "      <td>66CXWjxzNUsdJxJ2JdwvnR</td>\n",
       "      <td>thank u, next</td>\n",
       "      <td>2019-02-08</td>\n",
       "      <td>https://i.scdn.co/image/ab67616d0000b27356ac7b...</td>\n",
       "      <td>https://open.spotify.com/album/2fYhqwDWXjbpjaI...</td>\n",
       "      <td>12</td>\n",
       "      <td>NaN</td>\n",
       "      <td>ALBUM</td>\n",
       "      <td>...</td>\n",
       "      <td>207320</td>\n",
       "      <td>https://open.spotify.com/track/3e9HZxeyfWwjeyP...</td>\n",
       "      <td>thank u, next</td>\n",
       "      <td>83</td>\n",
       "      <td>https://p.scdn.co/mp3-preview/44b7c169577a7c80...</td>\n",
       "      <td>11</td>\n",
       "      <td>https://api.spotify.com/v1/tracks/3e9HZxeyfWwj...</td>\n",
       "      <td>3e9HZxeyfWwjeyPAMmWSSQ</td>\n",
       "      <td>True</td>\n",
       "      <td>['AD', 'AE', 'AR', 'AT', 'AU', 'BE', 'BG', 'BH...</td>\n",
       "    </tr>\n",
       "    <tr>\n",
       "      <th>18</th>\n",
       "      <td>Doja Cat</td>\n",
       "      <td>https://open.spotify.com/artist/5cj0lLjcoR7YOS...</td>\n",
       "      <td>5cj0lLjcoR7YOSnhnX0Po5</td>\n",
       "      <td>Kiss Me More (feat. SZA)</td>\n",
       "      <td>2021-04-09</td>\n",
       "      <td>https://i.scdn.co/image/ab67616d0000b273908280...</td>\n",
       "      <td>https://open.spotify.com/album/1OnzqJTL9bwe4kv...</td>\n",
       "      <td>1</td>\n",
       "      <td>NaN</td>\n",
       "      <td>SINGLE</td>\n",
       "      <td>...</td>\n",
       "      <td>208866</td>\n",
       "      <td>https://open.spotify.com/track/748mdHapucXQri7...</td>\n",
       "      <td>Kiss Me More (feat. SZA)</td>\n",
       "      <td>80</td>\n",
       "      <td>https://p.scdn.co/mp3-preview/e3ea7622ca746e1e...</td>\n",
       "      <td>1</td>\n",
       "      <td>https://api.spotify.com/v1/tracks/748mdHapucXQ...</td>\n",
       "      <td>748mdHapucXQri7IAO8yFK</td>\n",
       "      <td>True</td>\n",
       "      <td>['AD', 'AE', 'AR', 'AT', 'AU', 'BE', 'BG', 'BH...</td>\n",
       "    </tr>\n",
       "    <tr>\n",
       "      <th>19</th>\n",
       "      <td>Lizzy McAlpine</td>\n",
       "      <td>https://open.spotify.com/artist/1GmsPCcpKgF9Oh...</td>\n",
       "      <td>1GmsPCcpKgF9OhlNXjOsbS</td>\n",
       "      <td>five seconds flat</td>\n",
       "      <td>2022-04-08</td>\n",
       "      <td>https://i.scdn.co/image/ab67616d0000b27337c3a1...</td>\n",
       "      <td>https://open.spotify.com/album/7vh3nkUP7HlDQIe...</td>\n",
       "      <td>14</td>\n",
       "      <td>NaN</td>\n",
       "      <td>ALBUM</td>\n",
       "      <td>...</td>\n",
       "      <td>268432</td>\n",
       "      <td>https://open.spotify.com/track/6bpZMLiRQDm2Xcj...</td>\n",
       "      <td>doomsday</td>\n",
       "      <td>2</td>\n",
       "      <td>NaN</td>\n",
       "      <td>1</td>\n",
       "      <td>https://api.spotify.com/v1/tracks/6bpZMLiRQDm2...</td>\n",
       "      <td>6bpZMLiRQDm2XcjZudu3xV</td>\n",
       "      <td>False</td>\n",
       "      <td>[]</td>\n",
       "    </tr>\n",
       "    <tr>\n",
       "      <th>20</th>\n",
       "      <td>Dua Lipa</td>\n",
       "      <td>https://open.spotify.com/artist/6M2wZ9GZgrQXHC...</td>\n",
       "      <td>6M2wZ9GZgrQXHCFfjv46we</td>\n",
       "      <td>Future Nostalgia (The Moonlight Edition)</td>\n",
       "      <td>2021-02-11</td>\n",
       "      <td>https://i.scdn.co/image/ab67616d0000b273ef12a4...</td>\n",
       "      <td>https://open.spotify.com/album/0JeyP8r2hBxYIox...</td>\n",
       "      <td>19</td>\n",
       "      <td>NaN</td>\n",
       "      <td>ALBUM</td>\n",
       "      <td>...</td>\n",
       "      <td>165506</td>\n",
       "      <td>https://open.spotify.com/track/1diS6nkxMQc3wwC...</td>\n",
       "      <td>We're Good</td>\n",
       "      <td>76</td>\n",
       "      <td>https://p.scdn.co/mp3-preview/0ed0e3241d7dd381...</td>\n",
       "      <td>13</td>\n",
       "      <td>https://api.spotify.com/v1/tracks/1diS6nkxMQc3...</td>\n",
       "      <td>1diS6nkxMQc3wwC4G1j0bh</td>\n",
       "      <td>False</td>\n",
       "      <td>['AD', 'AE', 'AR', 'AU', 'BE', 'BG', 'BH', 'BO...</td>\n",
       "    </tr>\n",
       "    <tr>\n",
       "      <th>21</th>\n",
       "      <td>La La Land Cast</td>\n",
       "      <td>https://open.spotify.com/artist/6T70tWxqyIpdVb...</td>\n",
       "      <td>6T70tWxqyIpdVbsFvPzqM3</td>\n",
       "      <td>La La Land (Original Motion Picture Soundtrack)</td>\n",
       "      <td>2016-12-09</td>\n",
       "      <td>https://i.scdn.co/image/ab67616d0000b2730bdf4d...</td>\n",
       "      <td>https://open.spotify.com/album/3GU8BzFEAdFSRjc...</td>\n",
       "      <td>15</td>\n",
       "      <td>NaN</td>\n",
       "      <td>ALBUM</td>\n",
       "      <td>...</td>\n",
       "      <td>228173</td>\n",
       "      <td>https://open.spotify.com/track/5kRBzRZmZTXVg8o...</td>\n",
       "      <td>Another Day Of Sun</td>\n",
       "      <td>67</td>\n",
       "      <td>https://p.scdn.co/mp3-preview/d3f7ec6ec7263c5a...</td>\n",
       "      <td>1</td>\n",
       "      <td>https://api.spotify.com/v1/tracks/5kRBzRZmZTXV...</td>\n",
       "      <td>5kRBzRZmZTXVg8okC7SJFZ</td>\n",
       "      <td>False</td>\n",
       "      <td>['AD', 'AE', 'AR', 'AT', 'AU', 'BE', 'BG', 'BH...</td>\n",
       "    </tr>\n",
       "    <tr>\n",
       "      <th>22</th>\n",
       "      <td>Rage Against The Machine</td>\n",
       "      <td>https://open.spotify.com/artist/2d0hyoQ5ynDBnk...</td>\n",
       "      <td>2d0hyoQ5ynDBnkvAbJKORj</td>\n",
       "      <td>Evil Empire</td>\n",
       "      <td>1996-04-16</td>\n",
       "      <td>https://i.scdn.co/image/ab67616d0000b273053f00...</td>\n",
       "      <td>https://open.spotify.com/album/24E6rDvGDuYFjlG...</td>\n",
       "      <td>11</td>\n",
       "      <td>NaN</td>\n",
       "      <td>ALBUM</td>\n",
       "      <td>...</td>\n",
       "      <td>229466</td>\n",
       "      <td>https://open.spotify.com/track/0tZ3mElWcr74OOh...</td>\n",
       "      <td>Bulls On Parade</td>\n",
       "      <td>76</td>\n",
       "      <td>https://p.scdn.co/mp3-preview/c1626784be02379a...</td>\n",
       "      <td>2</td>\n",
       "      <td>https://api.spotify.com/v1/tracks/0tZ3mElWcr74...</td>\n",
       "      <td>0tZ3mElWcr74OOhKEiNz1x</td>\n",
       "      <td>True</td>\n",
       "      <td>['AD', 'AE', 'AR', 'AT', 'AU', 'BE', 'BG', 'BH...</td>\n",
       "    </tr>\n",
       "    <tr>\n",
       "      <th>23</th>\n",
       "      <td>Olivia Rodrigo</td>\n",
       "      <td>https://open.spotify.com/artist/1McMsnEElThX1k...</td>\n",
       "      <td>1McMsnEElThX1knmY4oliG</td>\n",
       "      <td>SOUR</td>\n",
       "      <td>2021-05-21</td>\n",
       "      <td>https://i.scdn.co/image/ab67616d0000b273a91c10...</td>\n",
       "      <td>https://open.spotify.com/album/6s84u2TUpR3wdUv...</td>\n",
       "      <td>11</td>\n",
       "      <td>NaN</td>\n",
       "      <td>ALBUM</td>\n",
       "      <td>...</td>\n",
       "      <td>178146</td>\n",
       "      <td>https://open.spotify.com/track/4ZtFanR9U6ndgdd...</td>\n",
       "      <td>good 4 u</td>\n",
       "      <td>86</td>\n",
       "      <td>https://p.scdn.co/mp3-preview/b842388e0a8bb4c8...</td>\n",
       "      <td>6</td>\n",
       "      <td>https://api.spotify.com/v1/tracks/4ZtFanR9U6nd...</td>\n",
       "      <td>4ZtFanR9U6ndgddUvNcjcG</td>\n",
       "      <td>True</td>\n",
       "      <td>['AD', 'AE', 'AR', 'AT', 'AU', 'BE', 'BG', 'BH...</td>\n",
       "    </tr>\n",
       "    <tr>\n",
       "      <th>24</th>\n",
       "      <td>Dua Lipa</td>\n",
       "      <td>https://open.spotify.com/artist/6M2wZ9GZgrQXHC...</td>\n",
       "      <td>6M2wZ9GZgrQXHCFfjv46we</td>\n",
       "      <td>Future Nostalgia</td>\n",
       "      <td>2020-03-27</td>\n",
       "      <td>https://i.scdn.co/image/ab67616d0000b273bd26ed...</td>\n",
       "      <td>https://open.spotify.com/album/7fJJK56U9fHixgO...</td>\n",
       "      <td>11</td>\n",
       "      <td>NaN</td>\n",
       "      <td>ALBUM</td>\n",
       "      <td>...</td>\n",
       "      <td>203807</td>\n",
       "      <td>https://open.spotify.com/track/39LLxExYz6ewLAc...</td>\n",
       "      <td>Levitating</td>\n",
       "      <td>84</td>\n",
       "      <td>https://p.scdn.co/mp3-preview/ac28d1b0be285ed3...</td>\n",
       "      <td>5</td>\n",
       "      <td>https://api.spotify.com/v1/tracks/39LLxExYz6ew...</td>\n",
       "      <td>39LLxExYz6ewLAcYrzQQyP</td>\n",
       "      <td>False</td>\n",
       "      <td>['AD', 'AE', 'AR', 'AU', 'BE', 'BG', 'BH', 'BO...</td>\n",
       "    </tr>\n",
       "    <tr>\n",
       "      <th>25</th>\n",
       "      <td>CA7RIEL</td>\n",
       "      <td>https://open.spotify.com/artist/348pk4o3EhKmsS...</td>\n",
       "      <td>348pk4o3EhKmsSahzuClSf</td>\n",
       "      <td>OUKE</td>\n",
       "      <td>2019-03-22</td>\n",
       "      <td>https://i.scdn.co/image/ab67616d0000b2737f62c4...</td>\n",
       "      <td>https://open.spotify.com/album/3JBQlYOqSgbdGgl...</td>\n",
       "      <td>1</td>\n",
       "      <td>NaN</td>\n",
       "      <td>SINGLE</td>\n",
       "      <td>...</td>\n",
       "      <td>178263</td>\n",
       "      <td>https://open.spotify.com/track/02vK8PPOQPDcbxN...</td>\n",
       "      <td>OUKE</td>\n",
       "      <td>56</td>\n",
       "      <td>https://p.scdn.co/mp3-preview/f8af61e3c4c3b5bc...</td>\n",
       "      <td>1</td>\n",
       "      <td>https://api.spotify.com/v1/tracks/02vK8PPOQPDc...</td>\n",
       "      <td>02vK8PPOQPDcbxNe4YHdme</td>\n",
       "      <td>False</td>\n",
       "      <td>['AD', 'AE', 'AR', 'AT', 'AU', 'BE', 'BG', 'BH...</td>\n",
       "    </tr>\n",
       "    <tr>\n",
       "      <th>26</th>\n",
       "      <td>Julian R. Fogel</td>\n",
       "      <td>https://open.spotify.com/artist/4yrcVUvbTkZyhy...</td>\n",
       "      <td>4yrcVUvbTkZyhyVdsq5vsS</td>\n",
       "      <td>Canciones de Cuarentena</td>\n",
       "      <td>2020-06-27</td>\n",
       "      <td>https://i.scdn.co/image/ab67616d0000b273eab579...</td>\n",
       "      <td>https://open.spotify.com/album/7DfsKYy6npqnA9D...</td>\n",
       "      <td>2</td>\n",
       "      <td>NaN</td>\n",
       "      <td>SINGLE</td>\n",
       "      <td>...</td>\n",
       "      <td>147677</td>\n",
       "      <td>https://open.spotify.com/track/6swFSkyUQ86vj5O...</td>\n",
       "      <td>Viento dile a la lluvia</td>\n",
       "      <td>0</td>\n",
       "      <td>https://p.scdn.co/mp3-preview/e49eee42285a8933...</td>\n",
       "      <td>2</td>\n",
       "      <td>https://api.spotify.com/v1/tracks/6swFSkyUQ86v...</td>\n",
       "      <td>6swFSkyUQ86vj5On35JFaD</td>\n",
       "      <td>False</td>\n",
       "      <td>['AD', 'AE', 'AR', 'AT', 'AU', 'BE', 'BG', 'BH...</td>\n",
       "    </tr>\n",
       "    <tr>\n",
       "      <th>27</th>\n",
       "      <td>Billie Eilish</td>\n",
       "      <td>https://open.spotify.com/artist/6qqNVTkY8uBg9c...</td>\n",
       "      <td>6qqNVTkY8uBg9cP3Jd7DAH</td>\n",
       "      <td>WHEN WE ALL FALL ASLEEP, WHERE DO WE GO?</td>\n",
       "      <td>2019-03-29</td>\n",
       "      <td>https://i.scdn.co/image/ab67616d0000b27350a314...</td>\n",
       "      <td>https://open.spotify.com/album/0S0KGZnfBGSIssf...</td>\n",
       "      <td>14</td>\n",
       "      <td>NaN</td>\n",
       "      <td>ALBUM</td>\n",
       "      <td>...</td>\n",
       "      <td>180952</td>\n",
       "      <td>https://open.spotify.com/track/3XF5xLJHOQQRbWy...</td>\n",
       "      <td>you should see me in a crown</td>\n",
       "      <td>78</td>\n",
       "      <td>https://p.scdn.co/mp3-preview/6780bddcdc6dde42...</td>\n",
       "      <td>4</td>\n",
       "      <td>https://api.spotify.com/v1/tracks/3XF5xLJHOQQR...</td>\n",
       "      <td>3XF5xLJHOQQRbWya6hBp7d</td>\n",
       "      <td>False</td>\n",
       "      <td>['AD', 'AE', 'AR', 'AT', 'AU', 'BE', 'BG', 'BH...</td>\n",
       "    </tr>\n",
       "    <tr>\n",
       "      <th>28</th>\n",
       "      <td>GROUPLOVE</td>\n",
       "      <td>https://open.spotify.com/artist/3kVUvbeRdcrqQ3...</td>\n",
       "      <td>3kVUvbeRdcrqQ3oHk5hPdx</td>\n",
       "      <td>BoJack Horseman (Music from the Netflix Origin...</td>\n",
       "      <td>2017-09-08</td>\n",
       "      <td>https://i.scdn.co/image/ab67616d0000b2738c71f0...</td>\n",
       "      <td>https://open.spotify.com/album/1TCONwUgvvjqSYJ...</td>\n",
       "      <td>25</td>\n",
       "      <td>NaN</td>\n",
       "      <td>COMPILATION</td>\n",
       "      <td>...</td>\n",
       "      <td>43613</td>\n",
       "      <td>https://open.spotify.com/track/5d4ERnrRRe9o4I7...</td>\n",
       "      <td>Back in the 90's</td>\n",
       "      <td>53</td>\n",
       "      <td>https://p.scdn.co/mp3-preview/655f2949de8bb74b...</td>\n",
       "      <td>9</td>\n",
       "      <td>https://api.spotify.com/v1/tracks/5d4ERnrRRe9o...</td>\n",
       "      <td>5d4ERnrRRe9o4I7aFLFTvP</td>\n",
       "      <td>False</td>\n",
       "      <td>['AD', 'AE', 'AR', 'AT', 'AU', 'BE', 'BG', 'BH...</td>\n",
       "    </tr>\n",
       "    <tr>\n",
       "      <th>29</th>\n",
       "      <td>Sabrina Carpenter</td>\n",
       "      <td>https://open.spotify.com/artist/74KM79TiuVKeVC...</td>\n",
       "      <td>74KM79TiuVKeVCqs8QtB0B</td>\n",
       "      <td>emails i can't send</td>\n",
       "      <td>2022-07-15</td>\n",
       "      <td>https://i.scdn.co/image/ab67616d0000b273700f7b...</td>\n",
       "      <td>https://open.spotify.com/album/5kDmlA2g9Y1YCbN...</td>\n",
       "      <td>13</td>\n",
       "      <td>NaN</td>\n",
       "      <td>ALBUM</td>\n",
       "      <td>...</td>\n",
       "      <td>191025</td>\n",
       "      <td>https://open.spotify.com/track/1RAeuvRyRzCweAK...</td>\n",
       "      <td>bet u wanna</td>\n",
       "      <td>62</td>\n",
       "      <td>https://p.scdn.co/mp3-preview/a9c6773fd78c8887...</td>\n",
       "      <td>8</td>\n",
       "      <td>https://api.spotify.com/v1/tracks/1RAeuvRyRzCw...</td>\n",
       "      <td>1RAeuvRyRzCweAK3jUT0ZW</td>\n",
       "      <td>False</td>\n",
       "      <td>['AD', 'AE', 'AR', 'AT', 'AU', 'BE', 'BG', 'BH...</td>\n",
       "    </tr>\n",
       "    <tr>\n",
       "      <th>30</th>\n",
       "      <td>Lawrence</td>\n",
       "      <td>https://open.spotify.com/artist/5rwUYLyUq8gBsV...</td>\n",
       "      <td>5rwUYLyUq8gBsVaOUcUxpE</td>\n",
       "      <td>Hotel TV</td>\n",
       "      <td>2021-07-23</td>\n",
       "      <td>https://i.scdn.co/image/ab67616d0000b2738e0ad4...</td>\n",
       "      <td>https://open.spotify.com/album/1U3ORbSHYUQLGYB...</td>\n",
       "      <td>12</td>\n",
       "      <td>NaN</td>\n",
       "      <td>ALBUM</td>\n",
       "      <td>...</td>\n",
       "      <td>208066</td>\n",
       "      <td>https://open.spotify.com/track/5PEIORAOmwjDV7O...</td>\n",
       "      <td>Don't Lose Sight</td>\n",
       "      <td>54</td>\n",
       "      <td>https://p.scdn.co/mp3-preview/f607eb03a6c98938...</td>\n",
       "      <td>1</td>\n",
       "      <td>https://api.spotify.com/v1/tracks/5PEIORAOmwjD...</td>\n",
       "      <td>5PEIORAOmwjDV7OYzxHsvd</td>\n",
       "      <td>True</td>\n",
       "      <td>['AD', 'AE', 'AR', 'AT', 'AU', 'BE', 'BG', 'BH...</td>\n",
       "    </tr>\n",
       "    <tr>\n",
       "      <th>31</th>\n",
       "      <td>Julian R. Fogel</td>\n",
       "      <td>https://open.spotify.com/artist/4yrcVUvbTkZyhy...</td>\n",
       "      <td>4yrcVUvbTkZyhyVdsq5vsS</td>\n",
       "      <td>8-Bit Revolutionary Songs</td>\n",
       "      <td>2020-03-30</td>\n",
       "      <td>https://i.scdn.co/image/ab67616d0000b273d5038b...</td>\n",
       "      <td>https://open.spotify.com/album/0HU0FSUWt2ncRP3...</td>\n",
       "      <td>2</td>\n",
       "      <td>NaN</td>\n",
       "      <td>SINGLE</td>\n",
       "      <td>...</td>\n",
       "      <td>69555</td>\n",
       "      <td>https://open.spotify.com/track/6KGxpbD7KFnQWpI...</td>\n",
       "      <td>A las Barricadas</td>\n",
       "      <td>0</td>\n",
       "      <td>https://p.scdn.co/mp3-preview/0d0f3c3fa0c956a9...</td>\n",
       "      <td>1</td>\n",
       "      <td>https://api.spotify.com/v1/tracks/6KGxpbD7KFnQ...</td>\n",
       "      <td>6KGxpbD7KFnQWpIX67wRdP</td>\n",
       "      <td>False</td>\n",
       "      <td>['AD', 'AE', 'AR', 'AT', 'AU', 'BE', 'BG', 'BH...</td>\n",
       "    </tr>\n",
       "    <tr>\n",
       "      <th>32</th>\n",
       "      <td>Himesh Patel</td>\n",
       "      <td>https://open.spotify.com/artist/7mFiLle487vR83...</td>\n",
       "      <td>7mFiLle487vR83fsFmcKgt</td>\n",
       "      <td>Yesterday (Original Motion Picture Soundtrack)</td>\n",
       "      <td>2019-06-21</td>\n",
       "      <td>https://i.scdn.co/image/ab67616d0000b273df276f...</td>\n",
       "      <td>https://open.spotify.com/album/58a9QAnhIUfHWyQ...</td>\n",
       "      <td>27</td>\n",
       "      <td>NaN</td>\n",
       "      <td>ALBUM</td>\n",
       "      <td>...</td>\n",
       "      <td>105106</td>\n",
       "      <td>https://open.spotify.com/track/3n5iTxuhweOCxLd...</td>\n",
       "      <td>I Saw Her Standing There - Tracks On The Track...</td>\n",
       "      <td>31</td>\n",
       "      <td>https://p.scdn.co/mp3-preview/acb0003bcec4a6d8...</td>\n",
       "      <td>5</td>\n",
       "      <td>https://api.spotify.com/v1/tracks/3n5iTxuhweOC...</td>\n",
       "      <td>3n5iTxuhweOCxLdQKn1qbz</td>\n",
       "      <td>False</td>\n",
       "      <td>['AD', 'AE', 'AR', 'AT', 'AU', 'BE', 'BG', 'BH...</td>\n",
       "    </tr>\n",
       "    <tr>\n",
       "      <th>33</th>\n",
       "      <td>Dua Lipa</td>\n",
       "      <td>https://open.spotify.com/artist/6M2wZ9GZgrQXHC...</td>\n",
       "      <td>6M2wZ9GZgrQXHCFfjv46we</td>\n",
       "      <td>Future Nostalgia</td>\n",
       "      <td>2020-03-27</td>\n",
       "      <td>https://i.scdn.co/image/ab67616d0000b273bd26ed...</td>\n",
       "      <td>https://open.spotify.com/album/7fJJK56U9fHixgO...</td>\n",
       "      <td>11</td>\n",
       "      <td>NaN</td>\n",
       "      <td>ALBUM</td>\n",
       "      <td>...</td>\n",
       "      <td>183290</td>\n",
       "      <td>https://open.spotify.com/track/3PfIrDoz19wz7qK...</td>\n",
       "      <td>Don't Start Now</td>\n",
       "      <td>83</td>\n",
       "      <td>https://p.scdn.co/mp3-preview/cfc6684fc467e40b...</td>\n",
       "      <td>2</td>\n",
       "      <td>https://api.spotify.com/v1/tracks/3PfIrDoz19wz...</td>\n",
       "      <td>3PfIrDoz19wz7qK7tYeu62</td>\n",
       "      <td>False</td>\n",
       "      <td>['AD', 'AE', 'AR', 'AU', 'BE', 'BG', 'BH', 'BO...</td>\n",
       "    </tr>\n",
       "    <tr>\n",
       "      <th>34</th>\n",
       "      <td>Taylor Swift</td>\n",
       "      <td>https://open.spotify.com/artist/06HL4z0CvFAxyc...</td>\n",
       "      <td>06HL4z0CvFAxyc27GXpf02</td>\n",
       "      <td>Midnights</td>\n",
       "      <td>2022-10-21</td>\n",
       "      <td>https://i.scdn.co/image/ab67616d0000b273bb54dd...</td>\n",
       "      <td>https://open.spotify.com/album/151w1FgRZfnKZA9...</td>\n",
       "      <td>13</td>\n",
       "      <td>NaN</td>\n",
       "      <td>ALBUM</td>\n",
       "      <td>...</td>\n",
       "      <td>200690</td>\n",
       "      <td>https://open.spotify.com/track/0V3wPSX9ygBnCm8...</td>\n",
       "      <td>Anti-Hero</td>\n",
       "      <td>94</td>\n",
       "      <td>https://p.scdn.co/mp3-preview/8587a38f3496e9b1...</td>\n",
       "      <td>3</td>\n",
       "      <td>https://api.spotify.com/v1/tracks/0V3wPSX9ygBn...</td>\n",
       "      <td>0V3wPSX9ygBnCm8psDIegu</td>\n",
       "      <td>False</td>\n",
       "      <td>['AD', 'AE', 'AR', 'AT', 'AU', 'BE', 'BG', 'BH...</td>\n",
       "    </tr>\n",
       "    <tr>\n",
       "      <th>35</th>\n",
       "      <td>Lawrence</td>\n",
       "      <td>https://open.spotify.com/artist/5rwUYLyUq8gBsV...</td>\n",
       "      <td>5rwUYLyUq8gBsVaOUcUxpE</td>\n",
       "      <td>Freckles</td>\n",
       "      <td>2020-10-30</td>\n",
       "      <td>https://i.scdn.co/image/ab67616d0000b2733b56f2...</td>\n",
       "      <td>https://open.spotify.com/album/7nyBhusYXv36r8l...</td>\n",
       "      <td>1</td>\n",
       "      <td>NaN</td>\n",
       "      <td>SINGLE</td>\n",
       "      <td>...</td>\n",
       "      <td>189413</td>\n",
       "      <td>https://open.spotify.com/track/0PeMHmjYZTbQnWm...</td>\n",
       "      <td>Freckles</td>\n",
       "      <td>37</td>\n",
       "      <td>https://p.scdn.co/mp3-preview/7389012f8a4f9892...</td>\n",
       "      <td>1</td>\n",
       "      <td>https://api.spotify.com/v1/tracks/0PeMHmjYZTbQ...</td>\n",
       "      <td>0PeMHmjYZTbQnWmQjYAM2k</td>\n",
       "      <td>False</td>\n",
       "      <td>['AD', 'AE', 'AR', 'AT', 'AU', 'BE', 'BG', 'BH...</td>\n",
       "    </tr>\n",
       "    <tr>\n",
       "      <th>36</th>\n",
       "      <td>Dylan Small</td>\n",
       "      <td>https://open.spotify.com/artist/6Di5PvWGKPYfwl...</td>\n",
       "      <td>6Di5PvWGKPYfwlLav6uNkP</td>\n",
       "      <td>Son</td>\n",
       "      <td>2021-04-12</td>\n",
       "      <td>https://i.scdn.co/image/ab67616d0000b273805b47...</td>\n",
       "      <td>https://open.spotify.com/album/3MxxjqhDNd3U5t3...</td>\n",
       "      <td>1</td>\n",
       "      <td>NaN</td>\n",
       "      <td>SINGLE</td>\n",
       "      <td>...</td>\n",
       "      <td>227964</td>\n",
       "      <td>https://open.spotify.com/track/0fcun9QJUPhiDEc...</td>\n",
       "      <td>Son</td>\n",
       "      <td>0</td>\n",
       "      <td>https://p.scdn.co/mp3-preview/a9195cdfc82cde0f...</td>\n",
       "      <td>1</td>\n",
       "      <td>https://api.spotify.com/v1/tracks/0fcun9QJUPhi...</td>\n",
       "      <td>0fcun9QJUPhiDEcDnadnxy</td>\n",
       "      <td>False</td>\n",
       "      <td>['AD', 'AE', 'AR', 'AT', 'AU', 'BE', 'BG', 'BH...</td>\n",
       "    </tr>\n",
       "    <tr>\n",
       "      <th>37</th>\n",
       "      <td>Abdulhadi Al Amshan</td>\n",
       "      <td>https://open.spotify.com/artist/0cjQfBE89pEDpi...</td>\n",
       "      <td>0cjQfBE89pEDpiylE0yp0V</td>\n",
       "      <td>My Dark World (Ecstasy the book)</td>\n",
       "      <td>2021-03-21</td>\n",
       "      <td>https://i.scdn.co/image/ab67616d0000b27354d8e6...</td>\n",
       "      <td>https://open.spotify.com/album/7KUbmOrnV7pH8T0...</td>\n",
       "      <td>1</td>\n",
       "      <td>NaN</td>\n",
       "      <td>SINGLE</td>\n",
       "      <td>...</td>\n",
       "      <td>64272</td>\n",
       "      <td>https://open.spotify.com/track/7MfpfZynvDyiAfg...</td>\n",
       "      <td>My Dark World (Ecstasy the book)</td>\n",
       "      <td>0</td>\n",
       "      <td>https://p.scdn.co/mp3-preview/80e1c4d4142bb2e8...</td>\n",
       "      <td>1</td>\n",
       "      <td>https://api.spotify.com/v1/tracks/7MfpfZynvDyi...</td>\n",
       "      <td>7MfpfZynvDyiAfg9YmvsCl</td>\n",
       "      <td>False</td>\n",
       "      <td>['AD', 'AE', 'AR', 'AT', 'AU', 'BE', 'BG', 'BH...</td>\n",
       "    </tr>\n",
       "    <tr>\n",
       "      <th>38</th>\n",
       "      <td>Sabrina Carpenter</td>\n",
       "      <td>https://open.spotify.com/artist/74KM79TiuVKeVC...</td>\n",
       "      <td>74KM79TiuVKeVCqs8QtB0B</td>\n",
       "      <td>emails i can't send</td>\n",
       "      <td>2022-07-15</td>\n",
       "      <td>https://i.scdn.co/image/ab67616d0000b273700f7b...</td>\n",
       "      <td>https://open.spotify.com/album/5kDmlA2g9Y1YCbN...</td>\n",
       "      <td>13</td>\n",
       "      <td>NaN</td>\n",
       "      <td>ALBUM</td>\n",
       "      <td>...</td>\n",
       "      <td>163648</td>\n",
       "      <td>https://open.spotify.com/track/6dgUya35uo964z7...</td>\n",
       "      <td>Nonsense</td>\n",
       "      <td>90</td>\n",
       "      <td>https://p.scdn.co/mp3-preview/e40303992e72f58b...</td>\n",
       "      <td>9</td>\n",
       "      <td>https://api.spotify.com/v1/tracks/6dgUya35uo96...</td>\n",
       "      <td>6dgUya35uo964z7GZXM07g</td>\n",
       "      <td>False</td>\n",
       "      <td>['AD', 'AE', 'AR', 'AT', 'AU', 'BE', 'BG', 'BH...</td>\n",
       "    </tr>\n",
       "    <tr>\n",
       "      <th>39</th>\n",
       "      <td>Taylor Swift</td>\n",
       "      <td>https://open.spotify.com/artist/06HL4z0CvFAxyc...</td>\n",
       "      <td>06HL4z0CvFAxyc27GXpf02</td>\n",
       "      <td>Lover</td>\n",
       "      <td>2019-08-23</td>\n",
       "      <td>https://i.scdn.co/image/ab67616d0000b273e787cf...</td>\n",
       "      <td>https://open.spotify.com/album/1NAmidJlEaVgA3M...</td>\n",
       "      <td>18</td>\n",
       "      <td>NaN</td>\n",
       "      <td>ALBUM</td>\n",
       "      <td>...</td>\n",
       "      <td>193000</td>\n",
       "      <td>https://open.spotify.com/track/2Rk4JlNc2TPmZe2...</td>\n",
       "      <td>ME! (feat. Brendon Urie of Panic! At The Disco)</td>\n",
       "      <td>80</td>\n",
       "      <td>https://p.scdn.co/mp3-preview/112259950773ea79...</td>\n",
       "      <td>16</td>\n",
       "      <td>https://api.spotify.com/v1/tracks/2Rk4JlNc2TPm...</td>\n",
       "      <td>2Rk4JlNc2TPmZe2af99d45</td>\n",
       "      <td>False</td>\n",
       "      <td>['AD', 'AE', 'AR', 'AT', 'AU', 'BE', 'BG', 'BH...</td>\n",
       "    </tr>\n",
       "    <tr>\n",
       "      <th>40</th>\n",
       "      <td>Dua Lipa</td>\n",
       "      <td>https://open.spotify.com/artist/6M2wZ9GZgrQXHC...</td>\n",
       "      <td>6M2wZ9GZgrQXHCFfjv46we</td>\n",
       "      <td>Future Nostalgia</td>\n",
       "      <td>2020-03-27</td>\n",
       "      <td>https://i.scdn.co/image/ab67616d0000b273bd26ed...</td>\n",
       "      <td>https://open.spotify.com/album/7fJJK56U9fHixgO...</td>\n",
       "      <td>11</td>\n",
       "      <td>NaN</td>\n",
       "      <td>ALBUM</td>\n",
       "      <td>...</td>\n",
       "      <td>218754</td>\n",
       "      <td>https://open.spotify.com/track/6uAFJ75WDAoAPyC...</td>\n",
       "      <td>Good In Bed</td>\n",
       "      <td>62</td>\n",
       "      <td>https://p.scdn.co/mp3-preview/545a54c3282c9d4a...</td>\n",
       "      <td>10</td>\n",
       "      <td>https://api.spotify.com/v1/tracks/6uAFJ75WDAoA...</td>\n",
       "      <td>6uAFJ75WDAoAPyCWJAtvks</td>\n",
       "      <td>True</td>\n",
       "      <td>['AD', 'AE', 'AR', 'AU', 'BE', 'BG', 'BH', 'BO...</td>\n",
       "    </tr>\n",
       "    <tr>\n",
       "      <th>41</th>\n",
       "      <td>Ryan Gosling</td>\n",
       "      <td>https://open.spotify.com/artist/6kXm2YCtdUOpRY...</td>\n",
       "      <td>6kXm2YCtdUOpRYNKeKhfue</td>\n",
       "      <td>La La Land (Original Motion Picture Soundtrack)</td>\n",
       "      <td>2016-12-09</td>\n",
       "      <td>https://i.scdn.co/image/ab67616d0000b2730bdf4d...</td>\n",
       "      <td>https://open.spotify.com/album/3GU8BzFEAdFSRjc...</td>\n",
       "      <td>15</td>\n",
       "      <td>NaN</td>\n",
       "      <td>ALBUM</td>\n",
       "      <td>...</td>\n",
       "      <td>236506</td>\n",
       "      <td>https://open.spotify.com/track/4r9hiElqKWMPT4Z...</td>\n",
       "      <td>A Lovely Night</td>\n",
       "      <td>64</td>\n",
       "      <td>https://p.scdn.co/mp3-preview/82639ed00add5352...</td>\n",
       "      <td>4</td>\n",
       "      <td>https://api.spotify.com/v1/tracks/4r9hiElqKWMP...</td>\n",
       "      <td>4r9hiElqKWMPT4Z3vN2exq</td>\n",
       "      <td>False</td>\n",
       "      <td>['AD', 'AE', 'AR', 'AT', 'AU', 'BE', 'BG', 'BH...</td>\n",
       "    </tr>\n",
       "    <tr>\n",
       "      <th>42</th>\n",
       "      <td>Taylor Swift</td>\n",
       "      <td>https://open.spotify.com/artist/06HL4z0CvFAxyc...</td>\n",
       "      <td>06HL4z0CvFAxyc27GXpf02</td>\n",
       "      <td>1989 (Deluxe)</td>\n",
       "      <td>2014-01-01</td>\n",
       "      <td>https://i.scdn.co/image/ab67616d0000b27352b2a3...</td>\n",
       "      <td>https://open.spotify.com/album/1yGbNOtRIgdIiGH...</td>\n",
       "      <td>19</td>\n",
       "      <td>NaN</td>\n",
       "      <td>ALBUM</td>\n",
       "      <td>...</td>\n",
       "      <td>231826</td>\n",
       "      <td>https://open.spotify.com/track/1u8c2t2Cy7UBoG4...</td>\n",
       "      <td>Blank Space</td>\n",
       "      <td>88</td>\n",
       "      <td>https://p.scdn.co/mp3-preview/a4930adb3f973bf4...</td>\n",
       "      <td>2</td>\n",
       "      <td>https://api.spotify.com/v1/tracks/1u8c2t2Cy7UB...</td>\n",
       "      <td>1u8c2t2Cy7UBoG4ArRcF5g</td>\n",
       "      <td>False</td>\n",
       "      <td>['AD', 'AE', 'AR', 'AT', 'AU', 'BE', 'BG', 'BH...</td>\n",
       "    </tr>\n",
       "    <tr>\n",
       "      <th>43</th>\n",
       "      <td>Taylor Swift</td>\n",
       "      <td>https://open.spotify.com/artist/06HL4z0CvFAxyc...</td>\n",
       "      <td>06HL4z0CvFAxyc27GXpf02</td>\n",
       "      <td>folklore</td>\n",
       "      <td>2020-07-24</td>\n",
       "      <td>https://i.scdn.co/image/ab67616d0000b27395f754...</td>\n",
       "      <td>https://open.spotify.com/album/2fenSS68JI1h4Fo...</td>\n",
       "      <td>16</td>\n",
       "      <td>NaN</td>\n",
       "      <td>ALBUM</td>\n",
       "      <td>...</td>\n",
       "      <td>239560</td>\n",
       "      <td>https://open.spotify.com/track/4R2kfaDFhslZEMJ...</td>\n",
       "      <td>cardigan</td>\n",
       "      <td>89</td>\n",
       "      <td>https://p.scdn.co/mp3-preview/45d916e1938d4a79...</td>\n",
       "      <td>2</td>\n",
       "      <td>https://api.spotify.com/v1/tracks/4R2kfaDFhslZ...</td>\n",
       "      <td>4R2kfaDFhslZEMJqAFNpdd</td>\n",
       "      <td>False</td>\n",
       "      <td>['AD', 'AE', 'AR', 'AT', 'AU', 'BE', 'BG', 'BH...</td>\n",
       "    </tr>\n",
       "    <tr>\n",
       "      <th>44</th>\n",
       "      <td>Lawrence</td>\n",
       "      <td>https://open.spotify.com/artist/5rwUYLyUq8gBsV...</td>\n",
       "      <td>5rwUYLyUq8gBsVaOUcUxpE</td>\n",
       "      <td>Hotel TV</td>\n",
       "      <td>2021-07-23</td>\n",
       "      <td>https://i.scdn.co/image/ab67616d0000b2738e0ad4...</td>\n",
       "      <td>https://open.spotify.com/album/1U3ORbSHYUQLGYB...</td>\n",
       "      <td>12</td>\n",
       "      <td>NaN</td>\n",
       "      <td>ALBUM</td>\n",
       "      <td>...</td>\n",
       "      <td>151320</td>\n",
       "      <td>https://open.spotify.com/track/1oRACEX7ci9Irxs...</td>\n",
       "      <td>It's Not All About You</td>\n",
       "      <td>46</td>\n",
       "      <td>https://p.scdn.co/mp3-preview/b3d74c8580d0b8fe...</td>\n",
       "      <td>7</td>\n",
       "      <td>https://api.spotify.com/v1/tracks/1oRACEX7ci9I...</td>\n",
       "      <td>1oRACEX7ci9IrxsbxfvAsw</td>\n",
       "      <td>False</td>\n",
       "      <td>['AD', 'AE', 'AR', 'AT', 'AU', 'BE', 'BG', 'BH...</td>\n",
       "    </tr>\n",
       "    <tr>\n",
       "      <th>45</th>\n",
       "      <td>Lizzy McAlpine</td>\n",
       "      <td>https://open.spotify.com/artist/1GmsPCcpKgF9Oh...</td>\n",
       "      <td>1GmsPCcpKgF9OhlNXjOsbS</td>\n",
       "      <td>five seconds flat</td>\n",
       "      <td>2022-04-08</td>\n",
       "      <td>https://i.scdn.co/image/ab67616d0000b27337c3a1...</td>\n",
       "      <td>https://open.spotify.com/album/7vh3nkUP7HlDQIe...</td>\n",
       "      <td>14</td>\n",
       "      <td>NaN</td>\n",
       "      <td>ALBUM</td>\n",
       "      <td>...</td>\n",
       "      <td>214468</td>\n",
       "      <td>https://open.spotify.com/track/3WP4iglY7SPmXuc...</td>\n",
       "      <td>erase me (feat. Jacob Collier)</td>\n",
       "      <td>1</td>\n",
       "      <td>NaN</td>\n",
       "      <td>3</td>\n",
       "      <td>https://api.spotify.com/v1/tracks/3WP4iglY7SPm...</td>\n",
       "      <td>3WP4iglY7SPmXucvNLJq2G</td>\n",
       "      <td>False</td>\n",
       "      <td>[]</td>\n",
       "    </tr>\n",
       "    <tr>\n",
       "      <th>46</th>\n",
       "      <td>ROSALÍA</td>\n",
       "      <td>https://open.spotify.com/artist/7ltDVBr6mKbRvo...</td>\n",
       "      <td>7ltDVBr6mKbRvohxheJ9h1</td>\n",
       "      <td>El Mal Querer</td>\n",
       "      <td>2018-11-02</td>\n",
       "      <td>https://i.scdn.co/image/ab67616d0000b273f4d64a...</td>\n",
       "      <td>https://open.spotify.com/album/355bjCHzRJztCza...</td>\n",
       "      <td>11</td>\n",
       "      <td>NaN</td>\n",
       "      <td>ALBUM</td>\n",
       "      <td>...</td>\n",
       "      <td>150027</td>\n",
       "      <td>https://open.spotify.com/track/1B0BQaSRHxhI0AU...</td>\n",
       "      <td>MALAMENTE - Cap.1: Augurio</td>\n",
       "      <td>70</td>\n",
       "      <td>https://p.scdn.co/mp3-preview/2192c81582a6f79a...</td>\n",
       "      <td>1</td>\n",
       "      <td>https://api.spotify.com/v1/tracks/1B0BQaSRHxhI...</td>\n",
       "      <td>1B0BQaSRHxhI0AUlItY3LK</td>\n",
       "      <td>False</td>\n",
       "      <td>['AD', 'AE', 'AR', 'AT', 'AU', 'BE', 'BG', 'BH...</td>\n",
       "    </tr>\n",
       "    <tr>\n",
       "      <th>47</th>\n",
       "      <td>Miley Cyrus</td>\n",
       "      <td>https://open.spotify.com/artist/5YGY8feqx7naU7...</td>\n",
       "      <td>5YGY8feqx7naU7z4HrwZM6</td>\n",
       "      <td>Flowers</td>\n",
       "      <td>2023-01-13</td>\n",
       "      <td>https://i.scdn.co/image/ab67616d0000b273f42954...</td>\n",
       "      <td>https://open.spotify.com/album/7I0tjwFtxUwBC1v...</td>\n",
       "      <td>1</td>\n",
       "      <td>NaN</td>\n",
       "      <td>SINGLE</td>\n",
       "      <td>...</td>\n",
       "      <td>200454</td>\n",
       "      <td>https://open.spotify.com/track/0yLdNVWF3Srea0u...</td>\n",
       "      <td>Flowers</td>\n",
       "      <td>97</td>\n",
       "      <td>https://p.scdn.co/mp3-preview/9fbe346e805ed219...</td>\n",
       "      <td>1</td>\n",
       "      <td>https://api.spotify.com/v1/tracks/0yLdNVWF3Sre...</td>\n",
       "      <td>0yLdNVWF3Srea0uzk55zFn</td>\n",
       "      <td>False</td>\n",
       "      <td>['AD', 'AE', 'AR', 'AT', 'AU', 'BE', 'BG', 'BH...</td>\n",
       "    </tr>\n",
       "    <tr>\n",
       "      <th>48</th>\n",
       "      <td>Shefa</td>\n",
       "      <td>https://open.spotify.com/artist/6865jgnW89TIjW...</td>\n",
       "      <td>6865jgnW89TIjWXr3Cuh33</td>\n",
       "      <td>Shefa</td>\n",
       "      <td>2020-05-17</td>\n",
       "      <td>https://i.scdn.co/image/ab67616d0000b2734e7747...</td>\n",
       "      <td>https://open.spotify.com/album/1lViY59tMDJC2T9...</td>\n",
       "      <td>5</td>\n",
       "      <td>NaN</td>\n",
       "      <td>SINGLE</td>\n",
       "      <td>...</td>\n",
       "      <td>284741</td>\n",
       "      <td>https://open.spotify.com/track/1PyXioCJ8EmfxtZ...</td>\n",
       "      <td>Modeh Ani</td>\n",
       "      <td>7</td>\n",
       "      <td>https://p.scdn.co/mp3-preview/2561aac5d1d2763a...</td>\n",
       "      <td>1</td>\n",
       "      <td>https://api.spotify.com/v1/tracks/1PyXioCJ8Emf...</td>\n",
       "      <td>1PyXioCJ8EmfxtZ5ajGX2O</td>\n",
       "      <td>False</td>\n",
       "      <td>['AD', 'AE', 'AR', 'AT', 'AU', 'BE', 'BG', 'BH...</td>\n",
       "    </tr>\n",
       "    <tr>\n",
       "      <th>49</th>\n",
       "      <td>Destruyan a Los Robots</td>\n",
       "      <td>https://open.spotify.com/artist/4wsXXEmFF9uwQS...</td>\n",
       "      <td>4wsXXEmFF9uwQSOTFKZvs0</td>\n",
       "      <td>Futuro Rural</td>\n",
       "      <td>2018-03-01</td>\n",
       "      <td>https://i.scdn.co/image/ab67616d0000b2732dfb94...</td>\n",
       "      <td>https://open.spotify.com/album/0N6URNi8jtA04Wl...</td>\n",
       "      <td>9</td>\n",
       "      <td>NaN</td>\n",
       "      <td>ALBUM</td>\n",
       "      <td>...</td>\n",
       "      <td>226520</td>\n",
       "      <td>https://open.spotify.com/track/3Meap9iW6gLfrG7...</td>\n",
       "      <td>La Edad Que Tengo</td>\n",
       "      <td>0</td>\n",
       "      <td>https://p.scdn.co/mp3-preview/3dd9d368482406e4...</td>\n",
       "      <td>4</td>\n",
       "      <td>https://api.spotify.com/v1/tracks/3Meap9iW6gLf...</td>\n",
       "      <td>3Meap9iW6gLfrG7jzVlZxL</td>\n",
       "      <td>False</td>\n",
       "      <td>['AD', 'AE', 'AR', 'AT', 'AU', 'BE', 'BG', 'BH...</td>\n",
       "    </tr>\n",
       "  </tbody>\n",
       "</table>\n",
       "<p>50 rows × 21 columns</p>\n",
       "</div>"
      ],
      "text/plain": [
       "                 artist_name   \n",
       "0                   Dua Lipa  \\\n",
       "1               Taylor Swift   \n",
       "2               Taylor Swift   \n",
       "3               Nicki Nicole   \n",
       "4            Julian R. Fogel   \n",
       "5            Julian R. Fogel   \n",
       "6             Justin Hurwitz   \n",
       "7                   Dua Lipa   \n",
       "8                 Emma Stone   \n",
       "9                   Dua Lipa   \n",
       "10              Taylor Swift   \n",
       "11              Nicki Nicole   \n",
       "12                   CA7RIEL   \n",
       "13             Billie Eilish   \n",
       "14             Ariana Grande   \n",
       "15             Ariana Grande   \n",
       "16                Billy Joel   \n",
       "17             Ariana Grande   \n",
       "18                  Doja Cat   \n",
       "19            Lizzy McAlpine   \n",
       "20                  Dua Lipa   \n",
       "21           La La Land Cast   \n",
       "22  Rage Against The Machine   \n",
       "23            Olivia Rodrigo   \n",
       "24                  Dua Lipa   \n",
       "25                   CA7RIEL   \n",
       "26           Julian R. Fogel   \n",
       "27             Billie Eilish   \n",
       "28                 GROUPLOVE   \n",
       "29         Sabrina Carpenter   \n",
       "30                  Lawrence   \n",
       "31           Julian R. Fogel   \n",
       "32              Himesh Patel   \n",
       "33                  Dua Lipa   \n",
       "34              Taylor Swift   \n",
       "35                  Lawrence   \n",
       "36               Dylan Small   \n",
       "37       Abdulhadi Al Amshan   \n",
       "38         Sabrina Carpenter   \n",
       "39              Taylor Swift   \n",
       "40                  Dua Lipa   \n",
       "41              Ryan Gosling   \n",
       "42              Taylor Swift   \n",
       "43              Taylor Swift   \n",
       "44                  Lawrence   \n",
       "45            Lizzy McAlpine   \n",
       "46                   ROSALÍA   \n",
       "47               Miley Cyrus   \n",
       "48                     Shefa   \n",
       "49    Destruyan a Los Robots   \n",
       "\n",
       "                                           artist_url               artist_id   \n",
       "0   https://open.spotify.com/artist/6M2wZ9GZgrQXHC...  6M2wZ9GZgrQXHCFfjv46we  \\\n",
       "1   https://open.spotify.com/artist/06HL4z0CvFAxyc...  06HL4z0CvFAxyc27GXpf02   \n",
       "2   https://open.spotify.com/artist/06HL4z0CvFAxyc...  06HL4z0CvFAxyc27GXpf02   \n",
       "3   https://open.spotify.com/artist/2UZIAOlrnyZmyz...  2UZIAOlrnyZmyzt1nuXr9y   \n",
       "4   https://open.spotify.com/artist/4yrcVUvbTkZyhy...  4yrcVUvbTkZyhyVdsq5vsS   \n",
       "5   https://open.spotify.com/artist/4yrcVUvbTkZyhy...  4yrcVUvbTkZyhyVdsq5vsS   \n",
       "6   https://open.spotify.com/artist/2snm3HmsnDUDxb...  2snm3HmsnDUDxbIChdl2Oj   \n",
       "7   https://open.spotify.com/artist/6M2wZ9GZgrQXHC...  6M2wZ9GZgrQXHCFfjv46we   \n",
       "8   https://open.spotify.com/artist/68Uwx1d3EbjDJh...  68Uwx1d3EbjDJhYsLjqvIq   \n",
       "9   https://open.spotify.com/artist/6M2wZ9GZgrQXHC...  6M2wZ9GZgrQXHCFfjv46we   \n",
       "10  https://open.spotify.com/artist/06HL4z0CvFAxyc...  06HL4z0CvFAxyc27GXpf02   \n",
       "11  https://open.spotify.com/artist/2UZIAOlrnyZmyz...  2UZIAOlrnyZmyzt1nuXr9y   \n",
       "12  https://open.spotify.com/artist/348pk4o3EhKmsS...  348pk4o3EhKmsSahzuClSf   \n",
       "13  https://open.spotify.com/artist/6qqNVTkY8uBg9c...  6qqNVTkY8uBg9cP3Jd7DAH   \n",
       "14  https://open.spotify.com/artist/66CXWjxzNUsdJx...  66CXWjxzNUsdJxJ2JdwvnR   \n",
       "15  https://open.spotify.com/artist/66CXWjxzNUsdJx...  66CXWjxzNUsdJxJ2JdwvnR   \n",
       "16  https://open.spotify.com/artist/6zFYqv1mOsgBRQ...  6zFYqv1mOsgBRQbae3JJ9e   \n",
       "17  https://open.spotify.com/artist/66CXWjxzNUsdJx...  66CXWjxzNUsdJxJ2JdwvnR   \n",
       "18  https://open.spotify.com/artist/5cj0lLjcoR7YOS...  5cj0lLjcoR7YOSnhnX0Po5   \n",
       "19  https://open.spotify.com/artist/1GmsPCcpKgF9Oh...  1GmsPCcpKgF9OhlNXjOsbS   \n",
       "20  https://open.spotify.com/artist/6M2wZ9GZgrQXHC...  6M2wZ9GZgrQXHCFfjv46we   \n",
       "21  https://open.spotify.com/artist/6T70tWxqyIpdVb...  6T70tWxqyIpdVbsFvPzqM3   \n",
       "22  https://open.spotify.com/artist/2d0hyoQ5ynDBnk...  2d0hyoQ5ynDBnkvAbJKORj   \n",
       "23  https://open.spotify.com/artist/1McMsnEElThX1k...  1McMsnEElThX1knmY4oliG   \n",
       "24  https://open.spotify.com/artist/6M2wZ9GZgrQXHC...  6M2wZ9GZgrQXHCFfjv46we   \n",
       "25  https://open.spotify.com/artist/348pk4o3EhKmsS...  348pk4o3EhKmsSahzuClSf   \n",
       "26  https://open.spotify.com/artist/4yrcVUvbTkZyhy...  4yrcVUvbTkZyhyVdsq5vsS   \n",
       "27  https://open.spotify.com/artist/6qqNVTkY8uBg9c...  6qqNVTkY8uBg9cP3Jd7DAH   \n",
       "28  https://open.spotify.com/artist/3kVUvbeRdcrqQ3...  3kVUvbeRdcrqQ3oHk5hPdx   \n",
       "29  https://open.spotify.com/artist/74KM79TiuVKeVC...  74KM79TiuVKeVCqs8QtB0B   \n",
       "30  https://open.spotify.com/artist/5rwUYLyUq8gBsV...  5rwUYLyUq8gBsVaOUcUxpE   \n",
       "31  https://open.spotify.com/artist/4yrcVUvbTkZyhy...  4yrcVUvbTkZyhyVdsq5vsS   \n",
       "32  https://open.spotify.com/artist/7mFiLle487vR83...  7mFiLle487vR83fsFmcKgt   \n",
       "33  https://open.spotify.com/artist/6M2wZ9GZgrQXHC...  6M2wZ9GZgrQXHCFfjv46we   \n",
       "34  https://open.spotify.com/artist/06HL4z0CvFAxyc...  06HL4z0CvFAxyc27GXpf02   \n",
       "35  https://open.spotify.com/artist/5rwUYLyUq8gBsV...  5rwUYLyUq8gBsVaOUcUxpE   \n",
       "36  https://open.spotify.com/artist/6Di5PvWGKPYfwl...  6Di5PvWGKPYfwlLav6uNkP   \n",
       "37  https://open.spotify.com/artist/0cjQfBE89pEDpi...  0cjQfBE89pEDpiylE0yp0V   \n",
       "38  https://open.spotify.com/artist/74KM79TiuVKeVC...  74KM79TiuVKeVCqs8QtB0B   \n",
       "39  https://open.spotify.com/artist/06HL4z0CvFAxyc...  06HL4z0CvFAxyc27GXpf02   \n",
       "40  https://open.spotify.com/artist/6M2wZ9GZgrQXHC...  6M2wZ9GZgrQXHCFfjv46we   \n",
       "41  https://open.spotify.com/artist/6kXm2YCtdUOpRY...  6kXm2YCtdUOpRYNKeKhfue   \n",
       "42  https://open.spotify.com/artist/06HL4z0CvFAxyc...  06HL4z0CvFAxyc27GXpf02   \n",
       "43  https://open.spotify.com/artist/06HL4z0CvFAxyc...  06HL4z0CvFAxyc27GXpf02   \n",
       "44  https://open.spotify.com/artist/5rwUYLyUq8gBsV...  5rwUYLyUq8gBsVaOUcUxpE   \n",
       "45  https://open.spotify.com/artist/1GmsPCcpKgF9Oh...  1GmsPCcpKgF9OhlNXjOsbS   \n",
       "46  https://open.spotify.com/artist/7ltDVBr6mKbRvo...  7ltDVBr6mKbRvohxheJ9h1   \n",
       "47  https://open.spotify.com/artist/5YGY8feqx7naU7...  5YGY8feqx7naU7z4HrwZM6   \n",
       "48  https://open.spotify.com/artist/6865jgnW89TIjW...  6865jgnW89TIjWXr3Cuh33   \n",
       "49  https://open.spotify.com/artist/4wsXXEmFF9uwQS...  4wsXXEmFF9uwQSOTFKZvs0   \n",
       "\n",
       "                                           album_name album_release_date   \n",
       "0                                    Future Nostalgia         2020-03-27  \\\n",
       "1                              Red (Taylor's Version)         2021-11-12   \n",
       "2                              Red (Taylor's Version)         2021-11-12   \n",
       "3              Nicki Nicole (Live at NPR's Tiny Desk)         2022-06-30   \n",
       "4                             Canciones de Cuarentena         2020-06-27   \n",
       "5                                      No entres ahí!         2019-10-18   \n",
       "6             Babylon (Music from the Motion Picture)         2022-12-09   \n",
       "7                                    Future Nostalgia         2020-03-27   \n",
       "8     La La Land (Original Motion Picture Soundtrack)         2016-12-09   \n",
       "9                                    Future Nostalgia         2020-03-27   \n",
       "10                             Red (Taylor's Version)         2021-11-12   \n",
       "11             Nicki Nicole (Live at NPR's Tiny Desk)         2022-06-30   \n",
       "12                                              McFly         2019-12-12   \n",
       "13           WHEN WE ALL FALL ASLEEP, WHERE DO WE GO?         2019-03-29   \n",
       "14                                          Positions         2020-10-30   \n",
       "15                                      thank u, next         2019-02-08   \n",
       "16                      The Stranger (Legacy Edition)               1977   \n",
       "17                                      thank u, next         2019-02-08   \n",
       "18                           Kiss Me More (feat. SZA)         2021-04-09   \n",
       "19                                  five seconds flat         2022-04-08   \n",
       "20           Future Nostalgia (The Moonlight Edition)         2021-02-11   \n",
       "21    La La Land (Original Motion Picture Soundtrack)         2016-12-09   \n",
       "22                                        Evil Empire         1996-04-16   \n",
       "23                                               SOUR         2021-05-21   \n",
       "24                                   Future Nostalgia         2020-03-27   \n",
       "25                                               OUKE         2019-03-22   \n",
       "26                            Canciones de Cuarentena         2020-06-27   \n",
       "27           WHEN WE ALL FALL ASLEEP, WHERE DO WE GO?         2019-03-29   \n",
       "28  BoJack Horseman (Music from the Netflix Origin...         2017-09-08   \n",
       "29                                emails i can't send         2022-07-15   \n",
       "30                                           Hotel TV         2021-07-23   \n",
       "31                          8-Bit Revolutionary Songs         2020-03-30   \n",
       "32     Yesterday (Original Motion Picture Soundtrack)         2019-06-21   \n",
       "33                                   Future Nostalgia         2020-03-27   \n",
       "34                                          Midnights         2022-10-21   \n",
       "35                                           Freckles         2020-10-30   \n",
       "36                                                Son         2021-04-12   \n",
       "37                   My Dark World (Ecstasy the book)         2021-03-21   \n",
       "38                                emails i can't send         2022-07-15   \n",
       "39                                              Lover         2019-08-23   \n",
       "40                                   Future Nostalgia         2020-03-27   \n",
       "41    La La Land (Original Motion Picture Soundtrack)         2016-12-09   \n",
       "42                                      1989 (Deluxe)         2014-01-01   \n",
       "43                                           folklore         2020-07-24   \n",
       "44                                           Hotel TV         2021-07-23   \n",
       "45                                  five seconds flat         2022-04-08   \n",
       "46                                      El Mal Querer         2018-11-02   \n",
       "47                                            Flowers         2023-01-13   \n",
       "48                                              Shefa         2020-05-17   \n",
       "49                                       Futuro Rural         2018-03-01   \n",
       "\n",
       "                                      album_image_url   \n",
       "0   https://i.scdn.co/image/ab67616d0000b273bd26ed...  \\\n",
       "1   https://i.scdn.co/image/ab67616d0000b273318443...   \n",
       "2   https://i.scdn.co/image/ab67616d0000b273318443...   \n",
       "3   https://i.scdn.co/image/ab67616d0000b273ca6c91...   \n",
       "4   https://i.scdn.co/image/ab67616d0000b273eab579...   \n",
       "5   https://i.scdn.co/image/ab67616d0000b273cfe30f...   \n",
       "6   https://i.scdn.co/image/ab67616d0000b273acd28a...   \n",
       "7   https://i.scdn.co/image/ab67616d0000b273bd26ed...   \n",
       "8   https://i.scdn.co/image/ab67616d0000b2730bdf4d...   \n",
       "9   https://i.scdn.co/image/ab67616d0000b273bd26ed...   \n",
       "10  https://i.scdn.co/image/ab67616d0000b273318443...   \n",
       "11  https://i.scdn.co/image/ab67616d0000b273ca6c91...   \n",
       "12  https://i.scdn.co/image/ab67616d0000b27349d320...   \n",
       "13  https://i.scdn.co/image/ab67616d0000b27350a314...   \n",
       "14  https://i.scdn.co/image/ab67616d0000b2735ef878...   \n",
       "15  https://i.scdn.co/image/ab67616d0000b27356ac7b...   \n",
       "16  https://i.scdn.co/image/ab67616d0000b2736ce611...   \n",
       "17  https://i.scdn.co/image/ab67616d0000b27356ac7b...   \n",
       "18  https://i.scdn.co/image/ab67616d0000b273908280...   \n",
       "19  https://i.scdn.co/image/ab67616d0000b27337c3a1...   \n",
       "20  https://i.scdn.co/image/ab67616d0000b273ef12a4...   \n",
       "21  https://i.scdn.co/image/ab67616d0000b2730bdf4d...   \n",
       "22  https://i.scdn.co/image/ab67616d0000b273053f00...   \n",
       "23  https://i.scdn.co/image/ab67616d0000b273a91c10...   \n",
       "24  https://i.scdn.co/image/ab67616d0000b273bd26ed...   \n",
       "25  https://i.scdn.co/image/ab67616d0000b2737f62c4...   \n",
       "26  https://i.scdn.co/image/ab67616d0000b273eab579...   \n",
       "27  https://i.scdn.co/image/ab67616d0000b27350a314...   \n",
       "28  https://i.scdn.co/image/ab67616d0000b2738c71f0...   \n",
       "29  https://i.scdn.co/image/ab67616d0000b273700f7b...   \n",
       "30  https://i.scdn.co/image/ab67616d0000b2738e0ad4...   \n",
       "31  https://i.scdn.co/image/ab67616d0000b273d5038b...   \n",
       "32  https://i.scdn.co/image/ab67616d0000b273df276f...   \n",
       "33  https://i.scdn.co/image/ab67616d0000b273bd26ed...   \n",
       "34  https://i.scdn.co/image/ab67616d0000b273bb54dd...   \n",
       "35  https://i.scdn.co/image/ab67616d0000b2733b56f2...   \n",
       "36  https://i.scdn.co/image/ab67616d0000b273805b47...   \n",
       "37  https://i.scdn.co/image/ab67616d0000b27354d8e6...   \n",
       "38  https://i.scdn.co/image/ab67616d0000b273700f7b...   \n",
       "39  https://i.scdn.co/image/ab67616d0000b273e787cf...   \n",
       "40  https://i.scdn.co/image/ab67616d0000b273bd26ed...   \n",
       "41  https://i.scdn.co/image/ab67616d0000b2730bdf4d...   \n",
       "42  https://i.scdn.co/image/ab67616d0000b27352b2a3...   \n",
       "43  https://i.scdn.co/image/ab67616d0000b27395f754...   \n",
       "44  https://i.scdn.co/image/ab67616d0000b2738e0ad4...   \n",
       "45  https://i.scdn.co/image/ab67616d0000b27337c3a1...   \n",
       "46  https://i.scdn.co/image/ab67616d0000b273f4d64a...   \n",
       "47  https://i.scdn.co/image/ab67616d0000b273f42954...   \n",
       "48  https://i.scdn.co/image/ab67616d0000b2734e7747...   \n",
       "49  https://i.scdn.co/image/ab67616d0000b2732dfb94...   \n",
       "\n",
       "                                   album_external_url  album_total_tracks   \n",
       "0   https://open.spotify.com/album/7fJJK56U9fHixgO...                  11  \\\n",
       "1   https://open.spotify.com/album/6kZ42qRrzov54Lc...                  30   \n",
       "2   https://open.spotify.com/album/6kZ42qRrzov54Lc...                  30   \n",
       "3   https://open.spotify.com/album/56vHzz7py4Ki3p9...                   5   \n",
       "4   https://open.spotify.com/album/7DfsKYy6npqnA9D...                   2   \n",
       "5   https://open.spotify.com/album/3tN4dUOGkciu9uU...                   1   \n",
       "6   https://open.spotify.com/album/0jCuKxy96iDfx9J...                  48   \n",
       "7   https://open.spotify.com/album/7fJJK56U9fHixgO...                  11   \n",
       "8   https://open.spotify.com/album/3GU8BzFEAdFSRjc...                  15   \n",
       "9   https://open.spotify.com/album/7fJJK56U9fHixgO...                  11   \n",
       "10  https://open.spotify.com/album/6kZ42qRrzov54Lc...                  30   \n",
       "11  https://open.spotify.com/album/56vHzz7py4Ki3p9...                   5   \n",
       "12  https://open.spotify.com/album/2vyTiubhMe0dlwK...                   1   \n",
       "13  https://open.spotify.com/album/0S0KGZnfBGSIssf...                  14   \n",
       "14  https://open.spotify.com/album/3euz4vS7ezKGnNS...                  14   \n",
       "15  https://open.spotify.com/album/2fYhqwDWXjbpjaI...                  12   \n",
       "16  https://open.spotify.com/album/1Mhn9VosyjtWn4d...                  21   \n",
       "17  https://open.spotify.com/album/2fYhqwDWXjbpjaI...                  12   \n",
       "18  https://open.spotify.com/album/1OnzqJTL9bwe4kv...                   1   \n",
       "19  https://open.spotify.com/album/7vh3nkUP7HlDQIe...                  14   \n",
       "20  https://open.spotify.com/album/0JeyP8r2hBxYIox...                  19   \n",
       "21  https://open.spotify.com/album/3GU8BzFEAdFSRjc...                  15   \n",
       "22  https://open.spotify.com/album/24E6rDvGDuYFjlG...                  11   \n",
       "23  https://open.spotify.com/album/6s84u2TUpR3wdUv...                  11   \n",
       "24  https://open.spotify.com/album/7fJJK56U9fHixgO...                  11   \n",
       "25  https://open.spotify.com/album/3JBQlYOqSgbdGgl...                   1   \n",
       "26  https://open.spotify.com/album/7DfsKYy6npqnA9D...                   2   \n",
       "27  https://open.spotify.com/album/0S0KGZnfBGSIssf...                  14   \n",
       "28  https://open.spotify.com/album/1TCONwUgvvjqSYJ...                  25   \n",
       "29  https://open.spotify.com/album/5kDmlA2g9Y1YCbN...                  13   \n",
       "30  https://open.spotify.com/album/1U3ORbSHYUQLGYB...                  12   \n",
       "31  https://open.spotify.com/album/0HU0FSUWt2ncRP3...                   2   \n",
       "32  https://open.spotify.com/album/58a9QAnhIUfHWyQ...                  27   \n",
       "33  https://open.spotify.com/album/7fJJK56U9fHixgO...                  11   \n",
       "34  https://open.spotify.com/album/151w1FgRZfnKZA9...                  13   \n",
       "35  https://open.spotify.com/album/7nyBhusYXv36r8l...                   1   \n",
       "36  https://open.spotify.com/album/3MxxjqhDNd3U5t3...                   1   \n",
       "37  https://open.spotify.com/album/7KUbmOrnV7pH8T0...                   1   \n",
       "38  https://open.spotify.com/album/5kDmlA2g9Y1YCbN...                  13   \n",
       "39  https://open.spotify.com/album/1NAmidJlEaVgA3M...                  18   \n",
       "40  https://open.spotify.com/album/7fJJK56U9fHixgO...                  11   \n",
       "41  https://open.spotify.com/album/3GU8BzFEAdFSRjc...                  15   \n",
       "42  https://open.spotify.com/album/1yGbNOtRIgdIiGH...                  19   \n",
       "43  https://open.spotify.com/album/2fenSS68JI1h4Fo...                  16   \n",
       "44  https://open.spotify.com/album/1U3ORbSHYUQLGYB...                  12   \n",
       "45  https://open.spotify.com/album/7vh3nkUP7HlDQIe...                  14   \n",
       "46  https://open.spotify.com/album/355bjCHzRJztCza...                  11   \n",
       "47  https://open.spotify.com/album/7I0tjwFtxUwBC1v...                   1   \n",
       "48  https://open.spotify.com/album/1lViY59tMDJC2T9...                   5   \n",
       "49  https://open.spotify.com/album/0N6URNi8jtA04Wl...                   9   \n",
       "\n",
       "    album_label  album_group  ...  track_duration   \n",
       "0           NaN        ALBUM  ...          184881  \\\n",
       "1           NaN        ALBUM  ...          223093   \n",
       "2           NaN        ALBUM  ...          295413   \n",
       "3           NaN       SINGLE  ...          197412   \n",
       "4           NaN       SINGLE  ...          190900   \n",
       "5           NaN       SINGLE  ...          256365   \n",
       "6           NaN        ALBUM  ...          240000   \n",
       "7           NaN        ALBUM  ...          221820   \n",
       "8           NaN        ALBUM  ...          259613   \n",
       "9           NaN        ALBUM  ...          193829   \n",
       "10          NaN        ALBUM  ...          219760   \n",
       "11          NaN       SINGLE  ...          194663   \n",
       "12          NaN       SINGLE  ...          144014   \n",
       "13          NaN        ALBUM  ...          168839   \n",
       "14          NaN        ALBUM  ...          173710   \n",
       "15          NaN        ALBUM  ...          178626   \n",
       "16          NaN        ALBUM  ...          214240   \n",
       "17          NaN        ALBUM  ...          207320   \n",
       "18          NaN       SINGLE  ...          208866   \n",
       "19          NaN        ALBUM  ...          268432   \n",
       "20          NaN        ALBUM  ...          165506   \n",
       "21          NaN        ALBUM  ...          228173   \n",
       "22          NaN        ALBUM  ...          229466   \n",
       "23          NaN        ALBUM  ...          178146   \n",
       "24          NaN        ALBUM  ...          203807   \n",
       "25          NaN       SINGLE  ...          178263   \n",
       "26          NaN       SINGLE  ...          147677   \n",
       "27          NaN        ALBUM  ...          180952   \n",
       "28          NaN  COMPILATION  ...           43613   \n",
       "29          NaN        ALBUM  ...          191025   \n",
       "30          NaN        ALBUM  ...          208066   \n",
       "31          NaN       SINGLE  ...           69555   \n",
       "32          NaN        ALBUM  ...          105106   \n",
       "33          NaN        ALBUM  ...          183290   \n",
       "34          NaN        ALBUM  ...          200690   \n",
       "35          NaN       SINGLE  ...          189413   \n",
       "36          NaN       SINGLE  ...          227964   \n",
       "37          NaN       SINGLE  ...           64272   \n",
       "38          NaN        ALBUM  ...          163648   \n",
       "39          NaN        ALBUM  ...          193000   \n",
       "40          NaN        ALBUM  ...          218754   \n",
       "41          NaN        ALBUM  ...          236506   \n",
       "42          NaN        ALBUM  ...          231826   \n",
       "43          NaN        ALBUM  ...          239560   \n",
       "44          NaN        ALBUM  ...          151320   \n",
       "45          NaN        ALBUM  ...          214468   \n",
       "46          NaN        ALBUM  ...          150027   \n",
       "47          NaN       SINGLE  ...          200454   \n",
       "48          NaN       SINGLE  ...          284741   \n",
       "49          NaN        ALBUM  ...          226520   \n",
       "\n",
       "                                   track_external_url   \n",
       "0   https://open.spotify.com/track/6zrJLhslleCHby0...  \\\n",
       "1   https://open.spotify.com/track/4OAuvHryIVv4kMD...   \n",
       "2   https://open.spotify.com/track/6lzc0Al0zfZOIFs...   \n",
       "3   https://open.spotify.com/track/1sdOQxBSDlGc922...   \n",
       "4   https://open.spotify.com/track/4HXYyIQSl8jCvvO...   \n",
       "5   https://open.spotify.com/track/5T1gpQGyqUMiKHm...   \n",
       "6   https://open.spotify.com/track/0Hn9iSg0dwEfw7a...   \n",
       "7   https://open.spotify.com/track/017PF4Q3l4DBUiW...   \n",
       "8   https://open.spotify.com/track/39ncDMVidHOeQge...   \n",
       "9   https://open.spotify.com/track/3AzjcOeAmA57TIO...   \n",
       "10  https://open.spotify.com/track/6AtZLIzUINvExIU...   \n",
       "11  https://open.spotify.com/track/4A036RsBqPPMaGA...   \n",
       "12  https://open.spotify.com/track/28Qkq4zVzDQpNgI...   \n",
       "13  https://open.spotify.com/track/6IRdLKIyS4p7XNi...   \n",
       "14  https://open.spotify.com/track/6Im9k8u9iIzKMrm...   \n",
       "15  https://open.spotify.com/track/6ocbgoVGwYJhOv1...   \n",
       "16  https://open.spotify.com/track/4U45aEWtQhrm8A5...   \n",
       "17  https://open.spotify.com/track/3e9HZxeyfWwjeyP...   \n",
       "18  https://open.spotify.com/track/748mdHapucXQri7...   \n",
       "19  https://open.spotify.com/track/6bpZMLiRQDm2Xcj...   \n",
       "20  https://open.spotify.com/track/1diS6nkxMQc3wwC...   \n",
       "21  https://open.spotify.com/track/5kRBzRZmZTXVg8o...   \n",
       "22  https://open.spotify.com/track/0tZ3mElWcr74OOh...   \n",
       "23  https://open.spotify.com/track/4ZtFanR9U6ndgdd...   \n",
       "24  https://open.spotify.com/track/39LLxExYz6ewLAc...   \n",
       "25  https://open.spotify.com/track/02vK8PPOQPDcbxN...   \n",
       "26  https://open.spotify.com/track/6swFSkyUQ86vj5O...   \n",
       "27  https://open.spotify.com/track/3XF5xLJHOQQRbWy...   \n",
       "28  https://open.spotify.com/track/5d4ERnrRRe9o4I7...   \n",
       "29  https://open.spotify.com/track/1RAeuvRyRzCweAK...   \n",
       "30  https://open.spotify.com/track/5PEIORAOmwjDV7O...   \n",
       "31  https://open.spotify.com/track/6KGxpbD7KFnQWpI...   \n",
       "32  https://open.spotify.com/track/3n5iTxuhweOCxLd...   \n",
       "33  https://open.spotify.com/track/3PfIrDoz19wz7qK...   \n",
       "34  https://open.spotify.com/track/0V3wPSX9ygBnCm8...   \n",
       "35  https://open.spotify.com/track/0PeMHmjYZTbQnWm...   \n",
       "36  https://open.spotify.com/track/0fcun9QJUPhiDEc...   \n",
       "37  https://open.spotify.com/track/7MfpfZynvDyiAfg...   \n",
       "38  https://open.spotify.com/track/6dgUya35uo964z7...   \n",
       "39  https://open.spotify.com/track/2Rk4JlNc2TPmZe2...   \n",
       "40  https://open.spotify.com/track/6uAFJ75WDAoAPyC...   \n",
       "41  https://open.spotify.com/track/4r9hiElqKWMPT4Z...   \n",
       "42  https://open.spotify.com/track/1u8c2t2Cy7UBoG4...   \n",
       "43  https://open.spotify.com/track/4R2kfaDFhslZEMJ...   \n",
       "44  https://open.spotify.com/track/1oRACEX7ci9Irxs...   \n",
       "45  https://open.spotify.com/track/3WP4iglY7SPmXuc...   \n",
       "46  https://open.spotify.com/track/1B0BQaSRHxhI0AU...   \n",
       "47  https://open.spotify.com/track/0yLdNVWF3Srea0u...   \n",
       "48  https://open.spotify.com/track/1PyXioCJ8EmfxtZ...   \n",
       "49  https://open.spotify.com/track/3Meap9iW6gLfrG7...   \n",
       "\n",
       "                                           track_name track_popularity   \n",
       "0                                    Future Nostalgia               59  \\\n",
       "1                              Red (Taylor's Version)               79   \n",
       "2                   State Of Grace (Taylor's Version)               72   \n",
       "3                                 Colocao - Tiny Desk               47   \n",
       "4                                            Tibidabo                0   \n",
       "5                                      No entres ahí!                0   \n",
       "6                                             Welcome               49   \n",
       "7                                      Break My Heart               79   \n",
       "8                                Someone In The Crowd               62   \n",
       "9                                            Physical               78   \n",
       "10         I Knew You Were Trouble (Taylor's Version)               79   \n",
       "11               Mala Vida/Wapo Traketero - Tiny Desk               47   \n",
       "12                                              McFly               54   \n",
       "13                      all the good girls go to hell               76   \n",
       "14                                              34+35               80   \n",
       "15                                            7 rings               86   \n",
       "16                                             Vienna               80   \n",
       "17                                      thank u, next               83   \n",
       "18                           Kiss Me More (feat. SZA)               80   \n",
       "19                                           doomsday                2   \n",
       "20                                         We're Good               76   \n",
       "21                                 Another Day Of Sun               67   \n",
       "22                                    Bulls On Parade               76   \n",
       "23                                           good 4 u               86   \n",
       "24                                         Levitating               84   \n",
       "25                                               OUKE               56   \n",
       "26                            Viento dile a la lluvia                0   \n",
       "27                       you should see me in a crown               78   \n",
       "28                                   Back in the 90's               53   \n",
       "29                                        bet u wanna               62   \n",
       "30                                   Don't Lose Sight               54   \n",
       "31                                   A las Barricadas                0   \n",
       "32  I Saw Her Standing There - Tracks On The Track...               31   \n",
       "33                                    Don't Start Now               83   \n",
       "34                                          Anti-Hero               94   \n",
       "35                                           Freckles               37   \n",
       "36                                                Son                0   \n",
       "37                   My Dark World (Ecstasy the book)                0   \n",
       "38                                           Nonsense               90   \n",
       "39    ME! (feat. Brendon Urie of Panic! At The Disco)               80   \n",
       "40                                        Good In Bed               62   \n",
       "41                                     A Lovely Night               64   \n",
       "42                                        Blank Space               88   \n",
       "43                                           cardigan               89   \n",
       "44                             It's Not All About You               46   \n",
       "45                     erase me (feat. Jacob Collier)                1   \n",
       "46                         MALAMENTE - Cap.1: Augurio               70   \n",
       "47                                            Flowers               97   \n",
       "48                                          Modeh Ani                7   \n",
       "49                                  La Edad Que Tengo                0   \n",
       "\n",
       "                                    track_preview_url track_number_in_album   \n",
       "0   https://p.scdn.co/mp3-preview/c6693afdc743aa1b...                     1  \\\n",
       "1   https://p.scdn.co/mp3-preview/14ef132577de4995...                     2   \n",
       "2   https://p.scdn.co/mp3-preview/3b79d68fb7dc8b22...                     1   \n",
       "3   https://p.scdn.co/mp3-preview/a217624c0824f7e4...                     1   \n",
       "4   https://p.scdn.co/mp3-preview/459c3e9fe37b76ed...                     1   \n",
       "5   https://p.scdn.co/mp3-preview/cea8b79042cf7943...                     1   \n",
       "6   https://p.scdn.co/mp3-preview/669d7be9d1fa080c...                     1   \n",
       "7   https://p.scdn.co/mp3-preview/a0078bbdb4351ec2...                     9   \n",
       "8   https://p.scdn.co/mp3-preview/931a58a2a3d4a8b4...                     2   \n",
       "9   https://p.scdn.co/mp3-preview/a40862d3e14b3758...                     4   \n",
       "10  https://p.scdn.co/mp3-preview/c9076346853dd9b9...                     4   \n",
       "11  https://p.scdn.co/mp3-preview/24fa0b85ea58abcd...                     2   \n",
       "12  https://p.scdn.co/mp3-preview/e6426e9c87ba1c14...                     1   \n",
       "13  https://p.scdn.co/mp3-preview/8182ac34d71d8115...                     5   \n",
       "14  https://p.scdn.co/mp3-preview/fe2e489895adc1c3...                     2   \n",
       "15  https://p.scdn.co/mp3-preview/6e849e35b318ed68...                    10   \n",
       "16  https://p.scdn.co/mp3-preview/20063b69f912e042...                     5   \n",
       "17  https://p.scdn.co/mp3-preview/44b7c169577a7c80...                    11   \n",
       "18  https://p.scdn.co/mp3-preview/e3ea7622ca746e1e...                     1   \n",
       "19                                                NaN                     1   \n",
       "20  https://p.scdn.co/mp3-preview/0ed0e3241d7dd381...                    13   \n",
       "21  https://p.scdn.co/mp3-preview/d3f7ec6ec7263c5a...                     1   \n",
       "22  https://p.scdn.co/mp3-preview/c1626784be02379a...                     2   \n",
       "23  https://p.scdn.co/mp3-preview/b842388e0a8bb4c8...                     6   \n",
       "24  https://p.scdn.co/mp3-preview/ac28d1b0be285ed3...                     5   \n",
       "25  https://p.scdn.co/mp3-preview/f8af61e3c4c3b5bc...                     1   \n",
       "26  https://p.scdn.co/mp3-preview/e49eee42285a8933...                     2   \n",
       "27  https://p.scdn.co/mp3-preview/6780bddcdc6dde42...                     4   \n",
       "28  https://p.scdn.co/mp3-preview/655f2949de8bb74b...                     9   \n",
       "29  https://p.scdn.co/mp3-preview/a9c6773fd78c8887...                     8   \n",
       "30  https://p.scdn.co/mp3-preview/f607eb03a6c98938...                     1   \n",
       "31  https://p.scdn.co/mp3-preview/0d0f3c3fa0c956a9...                     1   \n",
       "32  https://p.scdn.co/mp3-preview/acb0003bcec4a6d8...                     5   \n",
       "33  https://p.scdn.co/mp3-preview/cfc6684fc467e40b...                     2   \n",
       "34  https://p.scdn.co/mp3-preview/8587a38f3496e9b1...                     3   \n",
       "35  https://p.scdn.co/mp3-preview/7389012f8a4f9892...                     1   \n",
       "36  https://p.scdn.co/mp3-preview/a9195cdfc82cde0f...                     1   \n",
       "37  https://p.scdn.co/mp3-preview/80e1c4d4142bb2e8...                     1   \n",
       "38  https://p.scdn.co/mp3-preview/e40303992e72f58b...                     9   \n",
       "39  https://p.scdn.co/mp3-preview/112259950773ea79...                    16   \n",
       "40  https://p.scdn.co/mp3-preview/545a54c3282c9d4a...                    10   \n",
       "41  https://p.scdn.co/mp3-preview/82639ed00add5352...                     4   \n",
       "42  https://p.scdn.co/mp3-preview/a4930adb3f973bf4...                     2   \n",
       "43  https://p.scdn.co/mp3-preview/45d916e1938d4a79...                     2   \n",
       "44  https://p.scdn.co/mp3-preview/b3d74c8580d0b8fe...                     7   \n",
       "45                                                NaN                     3   \n",
       "46  https://p.scdn.co/mp3-preview/2192c81582a6f79a...                     1   \n",
       "47  https://p.scdn.co/mp3-preview/9fbe346e805ed219...                     1   \n",
       "48  https://p.scdn.co/mp3-preview/2561aac5d1d2763a...                     1   \n",
       "49  https://p.scdn.co/mp3-preview/3dd9d368482406e4...                     4   \n",
       "\n",
       "                                           track_href                track_id   \n",
       "0   https://api.spotify.com/v1/tracks/6zrJLhslleCH...  6zrJLhslleCHby0wbUnvVy  \\\n",
       "1   https://api.spotify.com/v1/tracks/4OAuvHryIVv4...  4OAuvHryIVv4kMDNSLuPt6   \n",
       "2   https://api.spotify.com/v1/tracks/6lzc0Al0zfZO...  6lzc0Al0zfZOIFsFvBS1ki   \n",
       "3   https://api.spotify.com/v1/tracks/1sdOQxBSDlGc...  1sdOQxBSDlGc922jSMhPVy   \n",
       "4   https://api.spotify.com/v1/tracks/4HXYyIQSl8jC...  4HXYyIQSl8jCvvOo31bXMx   \n",
       "5   https://api.spotify.com/v1/tracks/5T1gpQGyqUMi...  5T1gpQGyqUMiKHmGBUAtHR   \n",
       "6   https://api.spotify.com/v1/tracks/0Hn9iSg0dwEf...  0Hn9iSg0dwEfw7a7o8JjUZ   \n",
       "7   https://api.spotify.com/v1/tracks/017PF4Q3l4DB...  017PF4Q3l4DBUiWoXk4OWT   \n",
       "8   https://api.spotify.com/v1/tracks/39ncDMVidHOe...  39ncDMVidHOeQgeC5anYZM   \n",
       "9   https://api.spotify.com/v1/tracks/3AzjcOeAmA57...  3AzjcOeAmA57TIOr9zF1ZW   \n",
       "10  https://api.spotify.com/v1/tracks/6AtZLIzUINvE...  6AtZLIzUINvExIUy4QhdjP   \n",
       "11  https://api.spotify.com/v1/tracks/4A036RsBqPPM...  4A036RsBqPPMaGAcle29eO   \n",
       "12  https://api.spotify.com/v1/tracks/28Qkq4zVzDQp...  28Qkq4zVzDQpNgIb4r00lu   \n",
       "13  https://api.spotify.com/v1/tracks/6IRdLKIyS4p7...  6IRdLKIyS4p7XNiP8r6rsx   \n",
       "14  https://api.spotify.com/v1/tracks/6Im9k8u9iIzK...  6Im9k8u9iIzKMrmV7BWtlF   \n",
       "15  https://api.spotify.com/v1/tracks/6ocbgoVGwYJh...  6ocbgoVGwYJhOv1GgI9NsF   \n",
       "16  https://api.spotify.com/v1/tracks/4U45aEWtQhrm...  4U45aEWtQhrm8A5mxPaFZ7   \n",
       "17  https://api.spotify.com/v1/tracks/3e9HZxeyfWwj...  3e9HZxeyfWwjeyPAMmWSSQ   \n",
       "18  https://api.spotify.com/v1/tracks/748mdHapucXQ...  748mdHapucXQri7IAO8yFK   \n",
       "19  https://api.spotify.com/v1/tracks/6bpZMLiRQDm2...  6bpZMLiRQDm2XcjZudu3xV   \n",
       "20  https://api.spotify.com/v1/tracks/1diS6nkxMQc3...  1diS6nkxMQc3wwC4G1j0bh   \n",
       "21  https://api.spotify.com/v1/tracks/5kRBzRZmZTXV...  5kRBzRZmZTXVg8okC7SJFZ   \n",
       "22  https://api.spotify.com/v1/tracks/0tZ3mElWcr74...  0tZ3mElWcr74OOhKEiNz1x   \n",
       "23  https://api.spotify.com/v1/tracks/4ZtFanR9U6nd...  4ZtFanR9U6ndgddUvNcjcG   \n",
       "24  https://api.spotify.com/v1/tracks/39LLxExYz6ew...  39LLxExYz6ewLAcYrzQQyP   \n",
       "25  https://api.spotify.com/v1/tracks/02vK8PPOQPDc...  02vK8PPOQPDcbxNe4YHdme   \n",
       "26  https://api.spotify.com/v1/tracks/6swFSkyUQ86v...  6swFSkyUQ86vj5On35JFaD   \n",
       "27  https://api.spotify.com/v1/tracks/3XF5xLJHOQQR...  3XF5xLJHOQQRbWya6hBp7d   \n",
       "28  https://api.spotify.com/v1/tracks/5d4ERnrRRe9o...  5d4ERnrRRe9o4I7aFLFTvP   \n",
       "29  https://api.spotify.com/v1/tracks/1RAeuvRyRzCw...  1RAeuvRyRzCweAK3jUT0ZW   \n",
       "30  https://api.spotify.com/v1/tracks/5PEIORAOmwjD...  5PEIORAOmwjDV7OYzxHsvd   \n",
       "31  https://api.spotify.com/v1/tracks/6KGxpbD7KFnQ...  6KGxpbD7KFnQWpIX67wRdP   \n",
       "32  https://api.spotify.com/v1/tracks/3n5iTxuhweOC...  3n5iTxuhweOCxLdQKn1qbz   \n",
       "33  https://api.spotify.com/v1/tracks/3PfIrDoz19wz...  3PfIrDoz19wz7qK7tYeu62   \n",
       "34  https://api.spotify.com/v1/tracks/0V3wPSX9ygBn...  0V3wPSX9ygBnCm8psDIegu   \n",
       "35  https://api.spotify.com/v1/tracks/0PeMHmjYZTbQ...  0PeMHmjYZTbQnWmQjYAM2k   \n",
       "36  https://api.spotify.com/v1/tracks/0fcun9QJUPhi...  0fcun9QJUPhiDEcDnadnxy   \n",
       "37  https://api.spotify.com/v1/tracks/7MfpfZynvDyi...  7MfpfZynvDyiAfg9YmvsCl   \n",
       "38  https://api.spotify.com/v1/tracks/6dgUya35uo96...  6dgUya35uo964z7GZXM07g   \n",
       "39  https://api.spotify.com/v1/tracks/2Rk4JlNc2TPm...  2Rk4JlNc2TPmZe2af99d45   \n",
       "40  https://api.spotify.com/v1/tracks/6uAFJ75WDAoA...  6uAFJ75WDAoAPyCWJAtvks   \n",
       "41  https://api.spotify.com/v1/tracks/4r9hiElqKWMP...  4r9hiElqKWMPT4Z3vN2exq   \n",
       "42  https://api.spotify.com/v1/tracks/1u8c2t2Cy7UB...  1u8c2t2Cy7UBoG4ArRcF5g   \n",
       "43  https://api.spotify.com/v1/tracks/4R2kfaDFhslZ...  4R2kfaDFhslZEMJqAFNpdd   \n",
       "44  https://api.spotify.com/v1/tracks/1oRACEX7ci9I...  1oRACEX7ci9IrxsbxfvAsw   \n",
       "45  https://api.spotify.com/v1/tracks/3WP4iglY7SPm...  3WP4iglY7SPmXucvNLJq2G   \n",
       "46  https://api.spotify.com/v1/tracks/1B0BQaSRHxhI...  1B0BQaSRHxhI0AUlItY3LK   \n",
       "47  https://api.spotify.com/v1/tracks/0yLdNVWF3Sre...  0yLdNVWF3Srea0uzk55zFn   \n",
       "48  https://api.spotify.com/v1/tracks/1PyXioCJ8Emf...  1PyXioCJ8EmfxtZ5ajGX2O   \n",
       "49  https://api.spotify.com/v1/tracks/3Meap9iW6gLf...  3Meap9iW6gLfrG7jzVlZxL   \n",
       "\n",
       "   track_explicit                            track_available_markets  \n",
       "0           False  ['AD', 'AE', 'AR', 'AU', 'BE', 'BG', 'BH', 'BO...  \n",
       "1           False  ['AD', 'AE', 'AR', 'AT', 'AU', 'BE', 'BG', 'BH...  \n",
       "2           False  ['AD', 'AE', 'AR', 'AT', 'AU', 'BE', 'BG', 'BH...  \n",
       "3            True  ['AD', 'AE', 'AR', 'AT', 'AU', 'BE', 'BG', 'BH...  \n",
       "4           False  ['AD', 'AE', 'AR', 'AT', 'AU', 'BE', 'BG', 'BH...  \n",
       "5           False  ['AD', 'AE', 'AR', 'AT', 'AU', 'BE', 'BG', 'BH...  \n",
       "6           False  ['AD', 'AE', 'AR', 'AT', 'AU', 'BE', 'BG', 'BH...  \n",
       "7           False  ['AD', 'AE', 'AR', 'AU', 'BE', 'BG', 'BH', 'BO...  \n",
       "8           False  ['AD', 'AE', 'AR', 'AT', 'AU', 'BE', 'BG', 'BH...  \n",
       "9           False  ['AD', 'AE', 'AR', 'AU', 'BE', 'BG', 'BH', 'BO...  \n",
       "10          False  ['AD', 'AE', 'AR', 'AT', 'AU', 'BE', 'BG', 'BH...  \n",
       "11           True  ['AD', 'AE', 'AR', 'AT', 'AU', 'BE', 'BG', 'BH...  \n",
       "12          False  ['AD', 'AE', 'AR', 'AT', 'AU', 'BE', 'BG', 'BH...  \n",
       "13          False  ['AD', 'AE', 'AR', 'AT', 'AU', 'BE', 'BG', 'BH...  \n",
       "14           True  ['AD', 'AE', 'AR', 'AT', 'AU', 'BE', 'BG', 'BH...  \n",
       "15           True  ['AD', 'AE', 'AR', 'AT', 'AU', 'BE', 'BG', 'BH...  \n",
       "16          False  ['AD', 'AE', 'AR', 'AT', 'AU', 'BE', 'BG', 'BH...  \n",
       "17           True  ['AD', 'AE', 'AR', 'AT', 'AU', 'BE', 'BG', 'BH...  \n",
       "18           True  ['AD', 'AE', 'AR', 'AT', 'AU', 'BE', 'BG', 'BH...  \n",
       "19          False                                                 []  \n",
       "20          False  ['AD', 'AE', 'AR', 'AU', 'BE', 'BG', 'BH', 'BO...  \n",
       "21          False  ['AD', 'AE', 'AR', 'AT', 'AU', 'BE', 'BG', 'BH...  \n",
       "22           True  ['AD', 'AE', 'AR', 'AT', 'AU', 'BE', 'BG', 'BH...  \n",
       "23           True  ['AD', 'AE', 'AR', 'AT', 'AU', 'BE', 'BG', 'BH...  \n",
       "24          False  ['AD', 'AE', 'AR', 'AU', 'BE', 'BG', 'BH', 'BO...  \n",
       "25          False  ['AD', 'AE', 'AR', 'AT', 'AU', 'BE', 'BG', 'BH...  \n",
       "26          False  ['AD', 'AE', 'AR', 'AT', 'AU', 'BE', 'BG', 'BH...  \n",
       "27          False  ['AD', 'AE', 'AR', 'AT', 'AU', 'BE', 'BG', 'BH...  \n",
       "28          False  ['AD', 'AE', 'AR', 'AT', 'AU', 'BE', 'BG', 'BH...  \n",
       "29          False  ['AD', 'AE', 'AR', 'AT', 'AU', 'BE', 'BG', 'BH...  \n",
       "30           True  ['AD', 'AE', 'AR', 'AT', 'AU', 'BE', 'BG', 'BH...  \n",
       "31          False  ['AD', 'AE', 'AR', 'AT', 'AU', 'BE', 'BG', 'BH...  \n",
       "32          False  ['AD', 'AE', 'AR', 'AT', 'AU', 'BE', 'BG', 'BH...  \n",
       "33          False  ['AD', 'AE', 'AR', 'AU', 'BE', 'BG', 'BH', 'BO...  \n",
       "34          False  ['AD', 'AE', 'AR', 'AT', 'AU', 'BE', 'BG', 'BH...  \n",
       "35          False  ['AD', 'AE', 'AR', 'AT', 'AU', 'BE', 'BG', 'BH...  \n",
       "36          False  ['AD', 'AE', 'AR', 'AT', 'AU', 'BE', 'BG', 'BH...  \n",
       "37          False  ['AD', 'AE', 'AR', 'AT', 'AU', 'BE', 'BG', 'BH...  \n",
       "38          False  ['AD', 'AE', 'AR', 'AT', 'AU', 'BE', 'BG', 'BH...  \n",
       "39          False  ['AD', 'AE', 'AR', 'AT', 'AU', 'BE', 'BG', 'BH...  \n",
       "40           True  ['AD', 'AE', 'AR', 'AU', 'BE', 'BG', 'BH', 'BO...  \n",
       "41          False  ['AD', 'AE', 'AR', 'AT', 'AU', 'BE', 'BG', 'BH...  \n",
       "42          False  ['AD', 'AE', 'AR', 'AT', 'AU', 'BE', 'BG', 'BH...  \n",
       "43          False  ['AD', 'AE', 'AR', 'AT', 'AU', 'BE', 'BG', 'BH...  \n",
       "44          False  ['AD', 'AE', 'AR', 'AT', 'AU', 'BE', 'BG', 'BH...  \n",
       "45          False                                                 []  \n",
       "46          False  ['AD', 'AE', 'AR', 'AT', 'AU', 'BE', 'BG', 'BH...  \n",
       "47          False  ['AD', 'AE', 'AR', 'AT', 'AU', 'BE', 'BG', 'BH...  \n",
       "48          False  ['AD', 'AE', 'AR', 'AT', 'AU', 'BE', 'BG', 'BH...  \n",
       "49          False  ['AD', 'AE', 'AR', 'AT', 'AU', 'BE', 'BG', 'BH...  \n",
       "\n",
       "[50 rows x 21 columns]"
      ]
     },
     "execution_count": 49,
     "metadata": {},
     "output_type": "execute_result"
    }
   ],
   "source": [
    "df_tr"
   ]
  },
  {
   "cell_type": "code",
   "execution_count": null,
   "id": "b8a4aed9",
   "metadata": {},
   "outputs": [],
   "source": []
  },
  {
   "cell_type": "code",
   "execution_count": null,
   "id": "1955f631",
   "metadata": {},
   "outputs": [],
   "source": []
  },
  {
   "cell_type": "code",
   "execution_count": null,
   "id": "75ba10cc",
   "metadata": {},
   "outputs": [],
   "source": []
  },
  {
   "cell_type": "code",
   "execution_count": null,
   "id": "1bfec268",
   "metadata": {},
   "outputs": [],
   "source": []
  },
  {
   "cell_type": "code",
   "execution_count": null,
   "id": "43b6617c",
   "metadata": {},
   "outputs": [],
   "source": []
  },
  {
   "cell_type": "code",
   "execution_count": null,
   "id": "2a345fff",
   "metadata": {},
   "outputs": [],
   "source": []
  },
  {
   "cell_type": "code",
   "execution_count": null,
   "id": "4e9d762a",
   "metadata": {},
   "outputs": [],
   "source": []
  },
  {
   "cell_type": "code",
   "execution_count": null,
   "id": "80c5319f",
   "metadata": {},
   "outputs": [],
   "source": []
  },
  {
   "cell_type": "code",
   "execution_count": null,
   "id": "765fe619",
   "metadata": {},
   "outputs": [],
   "source": []
  },
  {
   "cell_type": "code",
   "execution_count": null,
   "id": "3193ac75",
   "metadata": {},
   "outputs": [],
   "source": []
  },
  {
   "cell_type": "code",
   "execution_count": null,
   "id": "c4f73dcd",
   "metadata": {},
   "outputs": [],
   "source": []
  },
  {
   "cell_type": "code",
   "execution_count": null,
   "id": "0c7446c4",
   "metadata": {},
   "outputs": [],
   "source": []
  },
  {
   "cell_type": "code",
   "execution_count": 12,
   "id": "ae18c30a",
   "metadata": {},
   "outputs": [
    {
     "data": {
      "text/html": [
       "<div>\n",
       "<style scoped>\n",
       "    .dataframe tbody tr th:only-of-type {\n",
       "        vertical-align: middle;\n",
       "    }\n",
       "\n",
       "    .dataframe tbody tr th {\n",
       "        vertical-align: top;\n",
       "    }\n",
       "\n",
       "    .dataframe thead th {\n",
       "        text-align: right;\n",
       "    }\n",
       "</style>\n",
       "<table border=\"1\" class=\"dataframe\">\n",
       "  <thead>\n",
       "    <tr style=\"text-align: right;\">\n",
       "      <th></th>\n",
       "      <th>genero</th>\n",
       "      <th>artista</th>\n",
       "    </tr>\n",
       "  </thead>\n",
       "  <tbody>\n",
       "    <tr>\n",
       "      <th>0</th>\n",
       "      <td>rock nacional</td>\n",
       "      <td>fito</td>\n",
       "    </tr>\n",
       "    <tr>\n",
       "      <th>1</th>\n",
       "      <td>rock pop</td>\n",
       "      <td>fito</td>\n",
       "    </tr>\n",
       "    <tr>\n",
       "      <th>2</th>\n",
       "      <td>rock latino</td>\n",
       "      <td>fito</td>\n",
       "    </tr>\n",
       "    <tr>\n",
       "      <th>3</th>\n",
       "      <td>pop</td>\n",
       "      <td>fito</td>\n",
       "    </tr>\n",
       "    <tr>\n",
       "      <th>4</th>\n",
       "      <td>rock nacional</td>\n",
       "      <td>charly</td>\n",
       "    </tr>\n",
       "    <tr>\n",
       "      <th>5</th>\n",
       "      <td>rock pop</td>\n",
       "      <td>charly</td>\n",
       "    </tr>\n",
       "    <tr>\n",
       "      <th>6</th>\n",
       "      <td>rock latino</td>\n",
       "      <td>charly</td>\n",
       "    </tr>\n",
       "    <tr>\n",
       "      <th>7</th>\n",
       "      <td>pop</td>\n",
       "      <td>charly</td>\n",
       "    </tr>\n",
       "    <tr>\n",
       "      <th>8</th>\n",
       "      <td>pop</td>\n",
       "      <td>ariana</td>\n",
       "    </tr>\n",
       "    <tr>\n",
       "      <th>9</th>\n",
       "      <td>pop</td>\n",
       "      <td>taylor</td>\n",
       "    </tr>\n",
       "    <tr>\n",
       "      <th>10</th>\n",
       "      <td>pop</td>\n",
       "      <td>abel pintos</td>\n",
       "    </tr>\n",
       "    <tr>\n",
       "      <th>11</th>\n",
       "      <td>folklore</td>\n",
       "      <td>abel pintos</td>\n",
       "    </tr>\n",
       "  </tbody>\n",
       "</table>\n",
       "</div>"
      ],
      "text/plain": [
       "           genero      artista\n",
       "0   rock nacional         fito\n",
       "1        rock pop         fito\n",
       "2     rock latino         fito\n",
       "3             pop         fito\n",
       "4   rock nacional       charly\n",
       "5        rock pop       charly\n",
       "6     rock latino       charly\n",
       "7             pop       charly\n",
       "8             pop       ariana\n",
       "9             pop       taylor\n",
       "10            pop  abel pintos\n",
       "11       folklore  abel pintos"
      ]
     },
     "execution_count": 12,
     "metadata": {},
     "output_type": "execute_result"
    }
   ],
   "source": [
    "lista1 = [\"rock nacional\", \"rock pop\", \"rock latino\", \"pop\",\"rock nacional\", \"rock pop\", \"rock latino\", \"pop\", \"pop\", \"pop\", \"pop\", \"folklore\"] \n",
    "lista2 = [\"fito\", \"fito\", \"fito\", \"fito\", \"charly\", \"charly\", \"charly\", \"charly\", \"ariana\", \"taylor\", \"abel pintos\", \"abel pintos\"]\n",
    "testdf = pd.DataFrame({\"genero\": lista1, \"artista\": lista2})\n",
    "testdf"
   ]
  },
  {
   "cell_type": "code",
   "execution_count": 16,
   "id": "c32b0821",
   "metadata": {},
   "outputs": [
    {
     "data": {
      "text/html": [
       "<div>\n",
       "<style scoped>\n",
       "    .dataframe tbody tr th:only-of-type {\n",
       "        vertical-align: middle;\n",
       "    }\n",
       "\n",
       "    .dataframe tbody tr th {\n",
       "        vertical-align: top;\n",
       "    }\n",
       "\n",
       "    .dataframe thead th {\n",
       "        text-align: right;\n",
       "    }\n",
       "</style>\n",
       "<table border=\"1\" class=\"dataframe\">\n",
       "  <thead>\n",
       "    <tr style=\"text-align: right;\">\n",
       "      <th></th>\n",
       "      <th>artista</th>\n",
       "      <th>genero</th>\n",
       "    </tr>\n",
       "  </thead>\n",
       "  <tbody>\n",
       "    <tr>\n",
       "      <th>0</th>\n",
       "      <td>fito</td>\n",
       "      <td>[rock nacional, rock pop, rock latino, pop]</td>\n",
       "    </tr>\n",
       "    <tr>\n",
       "      <th>1</th>\n",
       "      <td>charly</td>\n",
       "      <td>[rock nacional, rock pop, rock latino, pop]</td>\n",
       "    </tr>\n",
       "    <tr>\n",
       "      <th>2</th>\n",
       "      <td>ariana</td>\n",
       "      <td>[pop]</td>\n",
       "    </tr>\n",
       "    <tr>\n",
       "      <th>3</th>\n",
       "      <td>taylor</td>\n",
       "      <td>[pop]</td>\n",
       "    </tr>\n",
       "    <tr>\n",
       "      <th>4</th>\n",
       "      <td>abel</td>\n",
       "      <td>[folklore, pop]</td>\n",
       "    </tr>\n",
       "  </tbody>\n",
       "</table>\n",
       "</div>"
      ],
      "text/plain": [
       "  artista                                       genero\n",
       "0    fito  [rock nacional, rock pop, rock latino, pop]\n",
       "1  charly  [rock nacional, rock pop, rock latino, pop]\n",
       "2  ariana                                        [pop]\n",
       "3  taylor                                        [pop]\n",
       "4    abel                              [folklore, pop]"
      ]
     },
     "execution_count": 16,
     "metadata": {},
     "output_type": "execute_result"
    }
   ],
   "source": [
    "lista3 = [\"fito\", \"charly\", \"ariana\", \"taylor\", \"abel\"]\n",
    "lista4 = [[\"rock nacional\", \"rock pop\", \"rock latino\", \"pop\"], \n",
    "          [\"rock nacional\", \"rock pop\", \"rock latino\", \"pop\"],\n",
    "          [\"pop\"],\n",
    "          [\"pop\"],\n",
    "          [\"folklore\", \"pop\"]]\n",
    "\n",
    "testdf2 = pd.DataFrame({\"artista\": lista3, \"genero\": lista4})\n",
    "testdf2"
   ]
  },
  {
   "cell_type": "code",
   "execution_count": 17,
   "id": "f6f6123b",
   "metadata": {},
   "outputs": [
    {
     "ename": "TypeError",
     "evalue": "unhashable type: 'list'",
     "output_type": "error",
     "traceback": [
      "\u001b[0;31m---------------------------------------------------------------------------\u001b[0m",
      "\u001b[0;31mTypeError\u001b[0m                                 Traceback (most recent call last)",
      "File \u001b[0;32m~/.pyenv/versions/spotistats/lib/python3.10/site-packages/pandas/core/arrays/categorical.py:425\u001b[0m, in \u001b[0;36mCategorical.__init__\u001b[0;34m(self, values, categories, ordered, dtype, fastpath, copy)\u001b[0m\n\u001b[1;32m    424\u001b[0m \u001b[38;5;28;01mtry\u001b[39;00m:\n\u001b[0;32m--> 425\u001b[0m     codes, categories \u001b[38;5;241m=\u001b[39m \u001b[43mfactorize\u001b[49m\u001b[43m(\u001b[49m\u001b[43mvalues\u001b[49m\u001b[43m,\u001b[49m\u001b[43m \u001b[49m\u001b[43msort\u001b[49m\u001b[38;5;241;43m=\u001b[39;49m\u001b[38;5;28;43;01mTrue\u001b[39;49;00m\u001b[43m)\u001b[49m\n\u001b[1;32m    426\u001b[0m \u001b[38;5;28;01mexcept\u001b[39;00m \u001b[38;5;167;01mTypeError\u001b[39;00m \u001b[38;5;28;01mas\u001b[39;00m err:\n",
      "File \u001b[0;32m~/.pyenv/versions/spotistats/lib/python3.10/site-packages/pandas/core/algorithms.py:779\u001b[0m, in \u001b[0;36mfactorize\u001b[0;34m(values, sort, use_na_sentinel, size_hint)\u001b[0m\n\u001b[1;32m    777\u001b[0m             values \u001b[38;5;241m=\u001b[39m np\u001b[38;5;241m.\u001b[39mwhere(null_mask, na_value, values)\n\u001b[0;32m--> 779\u001b[0m     codes, uniques \u001b[38;5;241m=\u001b[39m \u001b[43mfactorize_array\u001b[49m\u001b[43m(\u001b[49m\n\u001b[1;32m    780\u001b[0m \u001b[43m        \u001b[49m\u001b[43mvalues\u001b[49m\u001b[43m,\u001b[49m\n\u001b[1;32m    781\u001b[0m \u001b[43m        \u001b[49m\u001b[43muse_na_sentinel\u001b[49m\u001b[38;5;241;43m=\u001b[39;49m\u001b[43muse_na_sentinel\u001b[49m\u001b[43m,\u001b[49m\n\u001b[1;32m    782\u001b[0m \u001b[43m        \u001b[49m\u001b[43msize_hint\u001b[49m\u001b[38;5;241;43m=\u001b[39;49m\u001b[43msize_hint\u001b[49m\u001b[43m,\u001b[49m\n\u001b[1;32m    783\u001b[0m \u001b[43m    \u001b[49m\u001b[43m)\u001b[49m\n\u001b[1;32m    785\u001b[0m \u001b[38;5;28;01mif\u001b[39;00m sort \u001b[38;5;129;01mand\u001b[39;00m \u001b[38;5;28mlen\u001b[39m(uniques) \u001b[38;5;241m>\u001b[39m \u001b[38;5;241m0\u001b[39m:\n",
      "File \u001b[0;32m~/.pyenv/versions/spotistats/lib/python3.10/site-packages/pandas/core/algorithms.py:580\u001b[0m, in \u001b[0;36mfactorize_array\u001b[0;34m(values, use_na_sentinel, size_hint, na_value, mask)\u001b[0m\n\u001b[1;32m    579\u001b[0m table \u001b[38;5;241m=\u001b[39m hash_klass(size_hint \u001b[38;5;129;01mor\u001b[39;00m \u001b[38;5;28mlen\u001b[39m(values))\n\u001b[0;32m--> 580\u001b[0m uniques, codes \u001b[38;5;241m=\u001b[39m \u001b[43mtable\u001b[49m\u001b[38;5;241;43m.\u001b[39;49m\u001b[43mfactorize\u001b[49m\u001b[43m(\u001b[49m\n\u001b[1;32m    581\u001b[0m \u001b[43m    \u001b[49m\u001b[43mvalues\u001b[49m\u001b[43m,\u001b[49m\n\u001b[1;32m    582\u001b[0m \u001b[43m    \u001b[49m\u001b[43mna_sentinel\u001b[49m\u001b[38;5;241;43m=\u001b[39;49m\u001b[38;5;241;43m-\u001b[39;49m\u001b[38;5;241;43m1\u001b[39;49m\u001b[43m,\u001b[49m\n\u001b[1;32m    583\u001b[0m \u001b[43m    \u001b[49m\u001b[43mna_value\u001b[49m\u001b[38;5;241;43m=\u001b[39;49m\u001b[43mna_value\u001b[49m\u001b[43m,\u001b[49m\n\u001b[1;32m    584\u001b[0m \u001b[43m    \u001b[49m\u001b[43mmask\u001b[49m\u001b[38;5;241;43m=\u001b[39;49m\u001b[43mmask\u001b[49m\u001b[43m,\u001b[49m\n\u001b[1;32m    585\u001b[0m \u001b[43m    \u001b[49m\u001b[43mignore_na\u001b[49m\u001b[38;5;241;43m=\u001b[39;49m\u001b[43muse_na_sentinel\u001b[49m\u001b[43m,\u001b[49m\n\u001b[1;32m    586\u001b[0m \u001b[43m\u001b[49m\u001b[43m)\u001b[49m\n\u001b[1;32m    588\u001b[0m \u001b[38;5;66;03m# re-cast e.g. i8->dt64/td64, uint8->bool\u001b[39;00m\n",
      "File \u001b[0;32mpandas/_libs/hashtable_class_helper.pxi:7280\u001b[0m, in \u001b[0;36mpandas._libs.hashtable.PyObjectHashTable.factorize\u001b[0;34m()\u001b[0m\n",
      "File \u001b[0;32mpandas/_libs/hashtable_class_helper.pxi:7194\u001b[0m, in \u001b[0;36mpandas._libs.hashtable.PyObjectHashTable._unique\u001b[0;34m()\u001b[0m\n",
      "\u001b[0;31mTypeError\u001b[0m: unhashable type: 'list'",
      "\nDuring handling of the above exception, another exception occurred:\n",
      "\u001b[0;31mTypeError\u001b[0m                                 Traceback (most recent call last)",
      "Cell \u001b[0;32mIn[17], line 1\u001b[0m\n\u001b[0;32m----> 1\u001b[0m testfig \u001b[38;5;241m=\u001b[39m \u001b[43mpx\u001b[49m\u001b[38;5;241;43m.\u001b[39;49m\u001b[43msunburst\u001b[49m\u001b[43m(\u001b[49m\u001b[43mtestdf2\u001b[49m\u001b[43m,\u001b[49m\u001b[43m \u001b[49m\u001b[43mpath\u001b[49m\u001b[38;5;241;43m=\u001b[39;49m\u001b[43m[\u001b[49m\u001b[38;5;124;43m'\u001b[39;49m\u001b[38;5;124;43mgenero\u001b[39;49m\u001b[38;5;124;43m'\u001b[39;49m\u001b[43m,\u001b[49m\u001b[43m \u001b[49m\u001b[38;5;124;43m'\u001b[39;49m\u001b[38;5;124;43martista\u001b[39;49m\u001b[38;5;124;43m'\u001b[39;49m\u001b[43m]\u001b[49m\u001b[43m)\u001b[49m\n\u001b[1;32m      2\u001b[0m testfig\u001b[38;5;241m.\u001b[39mshow()\n",
      "File \u001b[0;32m~/.pyenv/versions/spotistats/lib/python3.10/site-packages/plotly/express/_chart_types.py:1541\u001b[0m, in \u001b[0;36msunburst\u001b[0;34m(data_frame, names, values, parents, path, ids, color, color_continuous_scale, range_color, color_continuous_midpoint, color_discrete_sequence, color_discrete_map, hover_name, hover_data, custom_data, labels, title, template, width, height, branchvalues, maxdepth)\u001b[0m\n\u001b[1;32m   1539\u001b[0m \u001b[38;5;28;01mif\u001b[39;00m path \u001b[38;5;129;01mis\u001b[39;00m \u001b[38;5;129;01mnot\u001b[39;00m \u001b[38;5;28;01mNone\u001b[39;00m \u001b[38;5;129;01mand\u001b[39;00m branchvalues \u001b[38;5;129;01mis\u001b[39;00m \u001b[38;5;28;01mNone\u001b[39;00m:\n\u001b[1;32m   1540\u001b[0m     branchvalues \u001b[38;5;241m=\u001b[39m \u001b[38;5;124m\"\u001b[39m\u001b[38;5;124mtotal\u001b[39m\u001b[38;5;124m\"\u001b[39m\n\u001b[0;32m-> 1541\u001b[0m \u001b[38;5;28;01mreturn\u001b[39;00m \u001b[43mmake_figure\u001b[49m\u001b[43m(\u001b[49m\n\u001b[1;32m   1542\u001b[0m \u001b[43m    \u001b[49m\u001b[43margs\u001b[49m\u001b[38;5;241;43m=\u001b[39;49m\u001b[38;5;28;43mlocals\u001b[39;49m\u001b[43m(\u001b[49m\u001b[43m)\u001b[49m\u001b[43m,\u001b[49m\n\u001b[1;32m   1543\u001b[0m \u001b[43m    \u001b[49m\u001b[43mconstructor\u001b[49m\u001b[38;5;241;43m=\u001b[39;49m\u001b[43mgo\u001b[49m\u001b[38;5;241;43m.\u001b[39;49m\u001b[43mSunburst\u001b[49m\u001b[43m,\u001b[49m\n\u001b[1;32m   1544\u001b[0m \u001b[43m    \u001b[49m\u001b[43mtrace_patch\u001b[49m\u001b[38;5;241;43m=\u001b[39;49m\u001b[38;5;28;43mdict\u001b[39;49m\u001b[43m(\u001b[49m\u001b[43mbranchvalues\u001b[49m\u001b[38;5;241;43m=\u001b[39;49m\u001b[43mbranchvalues\u001b[49m\u001b[43m,\u001b[49m\u001b[43m \u001b[49m\u001b[43mmaxdepth\u001b[49m\u001b[38;5;241;43m=\u001b[39;49m\u001b[43mmaxdepth\u001b[49m\u001b[43m)\u001b[49m\u001b[43m,\u001b[49m\n\u001b[1;32m   1545\u001b[0m \u001b[43m    \u001b[49m\u001b[43mlayout_patch\u001b[49m\u001b[38;5;241;43m=\u001b[39;49m\u001b[43mlayout_patch\u001b[49m\u001b[43m,\u001b[49m\n\u001b[1;32m   1546\u001b[0m \u001b[43m\u001b[49m\u001b[43m)\u001b[49m\n",
      "File \u001b[0;32m~/.pyenv/versions/spotistats/lib/python3.10/site-packages/plotly/express/_core.py:1998\u001b[0m, in \u001b[0;36mmake_figure\u001b[0;34m(args, constructor, trace_patch, layout_patch)\u001b[0m\n\u001b[1;32m   1996\u001b[0m args \u001b[38;5;241m=\u001b[39m build_dataframe(args, constructor)\n\u001b[1;32m   1997\u001b[0m \u001b[38;5;28;01mif\u001b[39;00m constructor \u001b[38;5;129;01min\u001b[39;00m [go\u001b[38;5;241m.\u001b[39mTreemap, go\u001b[38;5;241m.\u001b[39mSunburst, go\u001b[38;5;241m.\u001b[39mIcicle] \u001b[38;5;129;01mand\u001b[39;00m args[\u001b[38;5;124m\"\u001b[39m\u001b[38;5;124mpath\u001b[39m\u001b[38;5;124m\"\u001b[39m] \u001b[38;5;129;01mis\u001b[39;00m \u001b[38;5;129;01mnot\u001b[39;00m \u001b[38;5;28;01mNone\u001b[39;00m:\n\u001b[0;32m-> 1998\u001b[0m     args \u001b[38;5;241m=\u001b[39m \u001b[43mprocess_dataframe_hierarchy\u001b[49m\u001b[43m(\u001b[49m\u001b[43margs\u001b[49m\u001b[43m)\u001b[49m\n\u001b[1;32m   1999\u001b[0m \u001b[38;5;28;01mif\u001b[39;00m constructor \u001b[38;5;129;01min\u001b[39;00m [go\u001b[38;5;241m.\u001b[39mPie]:\n\u001b[1;32m   2000\u001b[0m     args, trace_patch \u001b[38;5;241m=\u001b[39m process_dataframe_pie(args, trace_patch)\n",
      "File \u001b[0;32m~/.pyenv/versions/spotistats/lib/python3.10/site-packages/plotly/express/_core.py:1549\u001b[0m, in \u001b[0;36mprocess_dataframe_hierarchy\u001b[0;34m(args)\u001b[0m\n\u001b[1;32m   1547\u001b[0m df \u001b[38;5;241m=\u001b[39m args[\u001b[38;5;124m\"\u001b[39m\u001b[38;5;124mdata_frame\u001b[39m\u001b[38;5;124m\"\u001b[39m]\n\u001b[1;32m   1548\u001b[0m path \u001b[38;5;241m=\u001b[39m args[\u001b[38;5;124m\"\u001b[39m\u001b[38;5;124mpath\u001b[39m\u001b[38;5;124m\"\u001b[39m][::\u001b[38;5;241m-\u001b[39m\u001b[38;5;241m1\u001b[39m]\n\u001b[0;32m-> 1549\u001b[0m \u001b[43m_check_dataframe_all_leaves\u001b[49m\u001b[43m(\u001b[49m\u001b[43mdf\u001b[49m\u001b[43m[\u001b[49m\u001b[43mpath\u001b[49m\u001b[43m[\u001b[49m\u001b[43m:\u001b[49m\u001b[43m:\u001b[49m\u001b[38;5;241;43m-\u001b[39;49m\u001b[38;5;241;43m1\u001b[39;49m\u001b[43m]\u001b[49m\u001b[43m]\u001b[49m\u001b[43m)\u001b[49m\n\u001b[1;32m   1550\u001b[0m discrete_color \u001b[38;5;241m=\u001b[39m \u001b[38;5;28;01mFalse\u001b[39;00m\n\u001b[1;32m   1552\u001b[0m new_path \u001b[38;5;241m=\u001b[39m []\n",
      "File \u001b[0;32m~/.pyenv/versions/spotistats/lib/python3.10/site-packages/plotly/express/_core.py:1520\u001b[0m, in \u001b[0;36m_check_dataframe_all_leaves\u001b[0;34m(df)\u001b[0m\n\u001b[1;32m   1519\u001b[0m \u001b[38;5;28;01mdef\u001b[39;00m \u001b[38;5;21m_check_dataframe_all_leaves\u001b[39m(df):\n\u001b[0;32m-> 1520\u001b[0m     df_sorted \u001b[38;5;241m=\u001b[39m \u001b[43mdf\u001b[49m\u001b[38;5;241;43m.\u001b[39;49m\u001b[43msort_values\u001b[49m\u001b[43m(\u001b[49m\u001b[43mby\u001b[49m\u001b[38;5;241;43m=\u001b[39;49m\u001b[38;5;28;43mlist\u001b[39;49m\u001b[43m(\u001b[49m\u001b[43mdf\u001b[49m\u001b[38;5;241;43m.\u001b[39;49m\u001b[43mcolumns\u001b[49m\u001b[43m)\u001b[49m\u001b[43m)\u001b[49m\n\u001b[1;32m   1521\u001b[0m     null_mask \u001b[38;5;241m=\u001b[39m df_sorted\u001b[38;5;241m.\u001b[39misnull()\n\u001b[1;32m   1522\u001b[0m     df_sorted \u001b[38;5;241m=\u001b[39m df_sorted\u001b[38;5;241m.\u001b[39mastype(\u001b[38;5;28mstr\u001b[39m)\n",
      "File \u001b[0;32m~/.pyenv/versions/spotistats/lib/python3.10/site-packages/pandas/core/frame.py:6761\u001b[0m, in \u001b[0;36mDataFrame.sort_values\u001b[0;34m(self, by, axis, ascending, inplace, kind, na_position, ignore_index, key)\u001b[0m\n\u001b[1;32m   6753\u001b[0m     \u001b[38;5;28;01mif\u001b[39;00m key \u001b[38;5;129;01mis\u001b[39;00m \u001b[38;5;129;01mnot\u001b[39;00m \u001b[38;5;28;01mNone\u001b[39;00m:\n\u001b[1;32m   6754\u001b[0m         \u001b[38;5;66;03m# error: List comprehension has incompatible type List[Series];\u001b[39;00m\n\u001b[1;32m   6755\u001b[0m         \u001b[38;5;66;03m# expected List[ndarray]\u001b[39;00m\n\u001b[1;32m   6756\u001b[0m         keys \u001b[38;5;241m=\u001b[39m [\n\u001b[1;32m   6757\u001b[0m             Series(k, name\u001b[38;5;241m=\u001b[39mname)  \u001b[38;5;66;03m# type: ignore[misc]\u001b[39;00m\n\u001b[1;32m   6758\u001b[0m             \u001b[38;5;28;01mfor\u001b[39;00m (k, name) \u001b[38;5;129;01min\u001b[39;00m \u001b[38;5;28mzip\u001b[39m(keys, by)\n\u001b[1;32m   6759\u001b[0m         ]\n\u001b[0;32m-> 6761\u001b[0m     indexer \u001b[38;5;241m=\u001b[39m \u001b[43mlexsort_indexer\u001b[49m\u001b[43m(\u001b[49m\n\u001b[1;32m   6762\u001b[0m \u001b[43m        \u001b[49m\u001b[43mkeys\u001b[49m\u001b[43m,\u001b[49m\u001b[43m \u001b[49m\u001b[43morders\u001b[49m\u001b[38;5;241;43m=\u001b[39;49m\u001b[43mascending\u001b[49m\u001b[43m,\u001b[49m\u001b[43m \u001b[49m\u001b[43mna_position\u001b[49m\u001b[38;5;241;43m=\u001b[39;49m\u001b[43mna_position\u001b[49m\u001b[43m,\u001b[49m\u001b[43m \u001b[49m\u001b[43mkey\u001b[49m\u001b[38;5;241;43m=\u001b[39;49m\u001b[43mkey\u001b[49m\n\u001b[1;32m   6763\u001b[0m \u001b[43m    \u001b[49m\u001b[43m)\u001b[49m\n\u001b[1;32m   6764\u001b[0m \u001b[38;5;28;01melif\u001b[39;00m \u001b[38;5;28mlen\u001b[39m(by):\n\u001b[1;32m   6765\u001b[0m     \u001b[38;5;66;03m# len(by) == 1\u001b[39;00m\n\u001b[1;32m   6767\u001b[0m     by \u001b[38;5;241m=\u001b[39m by[\u001b[38;5;241m0\u001b[39m]\n",
      "File \u001b[0;32m~/.pyenv/versions/spotistats/lib/python3.10/site-packages/pandas/core/sorting.py:341\u001b[0m, in \u001b[0;36mlexsort_indexer\u001b[0;34m(keys, orders, na_position, key)\u001b[0m\n\u001b[1;32m    338\u001b[0m keys \u001b[38;5;241m=\u001b[39m [ensure_key_mapped(k, key) \u001b[38;5;28;01mfor\u001b[39;00m k \u001b[38;5;129;01min\u001b[39;00m keys]\n\u001b[1;32m    340\u001b[0m \u001b[38;5;28;01mfor\u001b[39;00m k, order \u001b[38;5;129;01min\u001b[39;00m \u001b[38;5;28mzip\u001b[39m(keys, orders):\n\u001b[0;32m--> 341\u001b[0m     cat \u001b[38;5;241m=\u001b[39m \u001b[43mCategorical\u001b[49m\u001b[43m(\u001b[49m\u001b[43mk\u001b[49m\u001b[43m,\u001b[49m\u001b[43m \u001b[49m\u001b[43mordered\u001b[49m\u001b[38;5;241;43m=\u001b[39;49m\u001b[38;5;28;43;01mTrue\u001b[39;49;00m\u001b[43m)\u001b[49m\n\u001b[1;32m    343\u001b[0m     \u001b[38;5;28;01mif\u001b[39;00m na_position \u001b[38;5;129;01mnot\u001b[39;00m \u001b[38;5;129;01min\u001b[39;00m [\u001b[38;5;124m\"\u001b[39m\u001b[38;5;124mlast\u001b[39m\u001b[38;5;124m\"\u001b[39m, \u001b[38;5;124m\"\u001b[39m\u001b[38;5;124mfirst\u001b[39m\u001b[38;5;124m\"\u001b[39m]:\n\u001b[1;32m    344\u001b[0m         \u001b[38;5;28;01mraise\u001b[39;00m \u001b[38;5;167;01mValueError\u001b[39;00m(\u001b[38;5;124mf\u001b[39m\u001b[38;5;124m\"\u001b[39m\u001b[38;5;124minvalid na_position: \u001b[39m\u001b[38;5;132;01m{\u001b[39;00mna_position\u001b[38;5;132;01m}\u001b[39;00m\u001b[38;5;124m\"\u001b[39m)\n",
      "File \u001b[0;32m~/.pyenv/versions/spotistats/lib/python3.10/site-packages/pandas/core/arrays/categorical.py:427\u001b[0m, in \u001b[0;36mCategorical.__init__\u001b[0;34m(self, values, categories, ordered, dtype, fastpath, copy)\u001b[0m\n\u001b[1;32m    425\u001b[0m     codes, categories \u001b[38;5;241m=\u001b[39m factorize(values, sort\u001b[38;5;241m=\u001b[39m\u001b[38;5;28;01mTrue\u001b[39;00m)\n\u001b[1;32m    426\u001b[0m \u001b[38;5;28;01mexcept\u001b[39;00m \u001b[38;5;167;01mTypeError\u001b[39;00m \u001b[38;5;28;01mas\u001b[39;00m err:\n\u001b[0;32m--> 427\u001b[0m     codes, categories \u001b[38;5;241m=\u001b[39m \u001b[43mfactorize\u001b[49m\u001b[43m(\u001b[49m\u001b[43mvalues\u001b[49m\u001b[43m,\u001b[49m\u001b[43m \u001b[49m\u001b[43msort\u001b[49m\u001b[38;5;241;43m=\u001b[39;49m\u001b[38;5;28;43;01mFalse\u001b[39;49;00m\u001b[43m)\u001b[49m\n\u001b[1;32m    428\u001b[0m     \u001b[38;5;28;01mif\u001b[39;00m dtype\u001b[38;5;241m.\u001b[39mordered:\n\u001b[1;32m    429\u001b[0m         \u001b[38;5;66;03m# raise, as we don't have a sortable data structure and so\u001b[39;00m\n\u001b[1;32m    430\u001b[0m         \u001b[38;5;66;03m# the user should give us one by specifying categories\u001b[39;00m\n\u001b[1;32m    431\u001b[0m         \u001b[38;5;28;01mraise\u001b[39;00m \u001b[38;5;167;01mTypeError\u001b[39;00m(\n\u001b[1;32m    432\u001b[0m             \u001b[38;5;124m\"\u001b[39m\u001b[38;5;124m'\u001b[39m\u001b[38;5;124mvalues\u001b[39m\u001b[38;5;124m'\u001b[39m\u001b[38;5;124m is not ordered, please \u001b[39m\u001b[38;5;124m\"\u001b[39m\n\u001b[1;32m    433\u001b[0m             \u001b[38;5;124m\"\u001b[39m\u001b[38;5;124mexplicitly specify the categories order \u001b[39m\u001b[38;5;124m\"\u001b[39m\n\u001b[1;32m    434\u001b[0m             \u001b[38;5;124m\"\u001b[39m\u001b[38;5;124mby passing in a categories argument.\u001b[39m\u001b[38;5;124m\"\u001b[39m\n\u001b[1;32m    435\u001b[0m         ) \u001b[38;5;28;01mfrom\u001b[39;00m \u001b[38;5;21;01merr\u001b[39;00m\n",
      "File \u001b[0;32m~/.pyenv/versions/spotistats/lib/python3.10/site-packages/pandas/core/algorithms.py:779\u001b[0m, in \u001b[0;36mfactorize\u001b[0;34m(values, sort, use_na_sentinel, size_hint)\u001b[0m\n\u001b[1;32m    776\u001b[0m             \u001b[38;5;66;03m# Don't modify (potentially user-provided) array\u001b[39;00m\n\u001b[1;32m    777\u001b[0m             values \u001b[38;5;241m=\u001b[39m np\u001b[38;5;241m.\u001b[39mwhere(null_mask, na_value, values)\n\u001b[0;32m--> 779\u001b[0m     codes, uniques \u001b[38;5;241m=\u001b[39m \u001b[43mfactorize_array\u001b[49m\u001b[43m(\u001b[49m\n\u001b[1;32m    780\u001b[0m \u001b[43m        \u001b[49m\u001b[43mvalues\u001b[49m\u001b[43m,\u001b[49m\n\u001b[1;32m    781\u001b[0m \u001b[43m        \u001b[49m\u001b[43muse_na_sentinel\u001b[49m\u001b[38;5;241;43m=\u001b[39;49m\u001b[43muse_na_sentinel\u001b[49m\u001b[43m,\u001b[49m\n\u001b[1;32m    782\u001b[0m \u001b[43m        \u001b[49m\u001b[43msize_hint\u001b[49m\u001b[38;5;241;43m=\u001b[39;49m\u001b[43msize_hint\u001b[49m\u001b[43m,\u001b[49m\n\u001b[1;32m    783\u001b[0m \u001b[43m    \u001b[49m\u001b[43m)\u001b[49m\n\u001b[1;32m    785\u001b[0m \u001b[38;5;28;01mif\u001b[39;00m sort \u001b[38;5;129;01mand\u001b[39;00m \u001b[38;5;28mlen\u001b[39m(uniques) \u001b[38;5;241m>\u001b[39m \u001b[38;5;241m0\u001b[39m:\n\u001b[1;32m    786\u001b[0m     uniques, codes \u001b[38;5;241m=\u001b[39m safe_sort(\n\u001b[1;32m    787\u001b[0m         uniques,\n\u001b[1;32m    788\u001b[0m         codes,\n\u001b[0;32m   (...)\u001b[0m\n\u001b[1;32m    791\u001b[0m         verify\u001b[38;5;241m=\u001b[39m\u001b[38;5;28;01mFalse\u001b[39;00m,\n\u001b[1;32m    792\u001b[0m     )\n",
      "File \u001b[0;32m~/.pyenv/versions/spotistats/lib/python3.10/site-packages/pandas/core/algorithms.py:580\u001b[0m, in \u001b[0;36mfactorize_array\u001b[0;34m(values, use_na_sentinel, size_hint, na_value, mask)\u001b[0m\n\u001b[1;32m    577\u001b[0m hash_klass, values \u001b[38;5;241m=\u001b[39m _get_hashtable_algo(values)\n\u001b[1;32m    579\u001b[0m table \u001b[38;5;241m=\u001b[39m hash_klass(size_hint \u001b[38;5;129;01mor\u001b[39;00m \u001b[38;5;28mlen\u001b[39m(values))\n\u001b[0;32m--> 580\u001b[0m uniques, codes \u001b[38;5;241m=\u001b[39m \u001b[43mtable\u001b[49m\u001b[38;5;241;43m.\u001b[39;49m\u001b[43mfactorize\u001b[49m\u001b[43m(\u001b[49m\n\u001b[1;32m    581\u001b[0m \u001b[43m    \u001b[49m\u001b[43mvalues\u001b[49m\u001b[43m,\u001b[49m\n\u001b[1;32m    582\u001b[0m \u001b[43m    \u001b[49m\u001b[43mna_sentinel\u001b[49m\u001b[38;5;241;43m=\u001b[39;49m\u001b[38;5;241;43m-\u001b[39;49m\u001b[38;5;241;43m1\u001b[39;49m\u001b[43m,\u001b[49m\n\u001b[1;32m    583\u001b[0m \u001b[43m    \u001b[49m\u001b[43mna_value\u001b[49m\u001b[38;5;241;43m=\u001b[39;49m\u001b[43mna_value\u001b[49m\u001b[43m,\u001b[49m\n\u001b[1;32m    584\u001b[0m \u001b[43m    \u001b[49m\u001b[43mmask\u001b[49m\u001b[38;5;241;43m=\u001b[39;49m\u001b[43mmask\u001b[49m\u001b[43m,\u001b[49m\n\u001b[1;32m    585\u001b[0m \u001b[43m    \u001b[49m\u001b[43mignore_na\u001b[49m\u001b[38;5;241;43m=\u001b[39;49m\u001b[43muse_na_sentinel\u001b[49m\u001b[43m,\u001b[49m\n\u001b[1;32m    586\u001b[0m \u001b[43m\u001b[49m\u001b[43m)\u001b[49m\n\u001b[1;32m    588\u001b[0m \u001b[38;5;66;03m# re-cast e.g. i8->dt64/td64, uint8->bool\u001b[39;00m\n\u001b[1;32m    589\u001b[0m uniques \u001b[38;5;241m=\u001b[39m _reconstruct_data(uniques, original\u001b[38;5;241m.\u001b[39mdtype, original)\n",
      "File \u001b[0;32mpandas/_libs/hashtable_class_helper.pxi:7280\u001b[0m, in \u001b[0;36mpandas._libs.hashtable.PyObjectHashTable.factorize\u001b[0;34m()\u001b[0m\n",
      "File \u001b[0;32mpandas/_libs/hashtable_class_helper.pxi:7194\u001b[0m, in \u001b[0;36mpandas._libs.hashtable.PyObjectHashTable._unique\u001b[0;34m()\u001b[0m\n",
      "\u001b[0;31mTypeError\u001b[0m: unhashable type: 'list'"
     ]
    }
   ],
   "source": [
    "testfig = px.sunburst(testdf2, path=['genero', 'artista'])\n",
    "testfig.show()"
   ]
  },
  {
   "cell_type": "code",
   "execution_count": null,
   "id": "d284bb6e",
   "metadata": {},
   "outputs": [],
   "source": []
  },
  {
   "cell_type": "code",
   "execution_count": null,
   "id": "331ba8b3",
   "metadata": {},
   "outputs": [],
   "source": []
  },
  {
   "cell_type": "code",
   "execution_count": null,
   "id": "a52597a5",
   "metadata": {},
   "outputs": [],
   "source": []
  },
  {
   "cell_type": "code",
   "execution_count": 11,
   "id": "00fed368",
   "metadata": {},
   "outputs": [
    {
     "data": {
      "application/vnd.plotly.v1+json": {
       "config": {
        "plotlyServerURL": "https://plot.ly"
       },
       "data": [
        {
         "branchvalues": "total",
         "domain": {
          "x": [
           0,
           1
          ],
          "y": [
           0,
           1
          ]
         },
         "hovertemplate": "labels=%{label}<br>count=%{value}<br>parent=%{parent}<br>id=%{id}<extra></extra>",
         "ids": [
          "['pop']/Ariana Grande",
          "['art pop', 'electropop', 'pop']/Billie Eilish",
          "['dance pop', 'pop']/Britney Spears",
          "['folklore argentino']/Chango Spasiuk",
          "['argentine rock', 'latin alternative', 'latin rock', 'post-punk argentina', 'rock en espanol']/Charly García",
          "['instrumental funk']/Cory Wong",
          "[]/Crazy Ex-Girlfriend Cast",
          "['classical', 'classical performance', 'israeli classical piano', 'orchestral performance']/Daniel Barenboim",
          "[]/Destruyan a Los Robots",
          "['dance pop', 'pop', 'uk pop']/Dua Lipa",
          "['album rock', 'blues rock', 'classic rock', 'electric blues', 'mellow gold', 'rock', 'singer-songwriter', 'soft rock']/Eric Clapton",
          "['argentine rock', 'latin alternative', 'latin rock', 'rock en espanol']/Fito Paez",
          "[]/Himesh Patel",
          "['hard rock', 'metal', 'nwobhm', 'rock']/Iron Maiden",
          "['argentine rock', 'folklore argentino', 'rock nacional']/Juan Carlos Baglietto",
          "[]/Julian R. Fogel",
          "['hollywood', 'movie tunes', 'soundtrack']/Justin Hurwitz",
          "['nyc pop', 'retro soul']/Lawrence",
          "['canadian singer-songwriter', 'melancholia', 'permanent wave', 'singer-songwriter']/Leonard Cohen",
          "['alt z', 'boston folk', 'indie pop']/Lizzy McAlpine",
          "['argentine rock', 'latin alternative', 'latin rock', 'rock en espanol', 'ska argentino']/Los Auténticos Decadentes",
          "['pop']/Maroon 5",
          "['cancion infantil latinoamericana', 'musica para ninos']/María Elena Walsh",
          "['alternative metal', 'hard rock', 'melodic thrash', 'metal', 'nu metal', 'old school thrash', 'rock', 'speed metal', 'thrash metal']/Megadeth",
          "['latin alternative', 'latin pop']/Mon Laferte",
          "['british folk', 'folk', 'melancholia', 'singer-songwriter']/Nick Drake",
          "['argentine hip hop', 'r&b argentino', 'trap argentino', 'trap latino', 'urbano latino']/Nicki Nicole",
          "['fantasy metal', 'finnish metal', 'finnish power metal', 'gothic metal', 'gothic symphonic metal', 'opera metal', 'power metal', 'symphonic metal']/Nightwish",
          "['dance pop', 'dance rock', 'permanent wave', 'pop rock', 'rock']/No Doubt",
          "['alternative metal', 'metal', 'progressive death metal', 'progressive metal', 'swedish metal', 'swedish progressive metal']/Opeth",
          "[]/Pacific",
          "['argentine rock', 'rock nacional']/Pedro Aznar",
          "['album rock', 'art rock', 'classic rock', 'progressive rock', 'psychedelic rock', 'rock', 'symphonic rock']/Pink Floyd",
          "['progressive metal', 'progressive rock']/Porcupine Tree",
          "['pop', 'r&b en espanol']/ROSALÍA",
          "['indie pop', 'lilith', 'piano rock']/Regina Spektor",
          "['nueva cancion']/Rolando Alarcon",
          "['colombian pop', 'dance pop', 'latin pop', 'pop']/Shakira",
          "[]/Shefa",
          "['argentine rock', 'latin alternative', 'latin rock', 'post-punk argentina', 'rock en espanol', 'ska argentino']/Soda Stereo",
          "['folklore argentino', 'folklore surero']/Soledad",
          "['alternative metal', 'nu metal', 'rap metal', 'rock']/System Of A Down",
          "['pop']/Taylor Swift",
          "[]/The Barnevelders",
          "['beatlesque', 'british invasion', 'classic rock', 'merseybeat', 'psychedelic rock', 'rock']/The Beatles",
          "['musique militaire', 'russian folk']/The Red Army Choir",
          "['downtempo', 'dream pop', 'indietronica', 'modern rock']/The xx",
          "['ann arbor indie', 'funk rock', 'instrumental funk']/Vulfpeck",
          "[]/b schmidt",
          "['lo-fi beats']/ocha",
          "['album rock', 'art rock', 'classic rock', 'progressive rock', 'psychedelic rock', 'rock', 'symphonic rock']",
          "['album rock', 'blues rock', 'classic rock', 'electric blues', 'mellow gold', 'rock', 'singer-songwriter', 'soft rock']",
          "['alt z', 'boston folk', 'indie pop']",
          "['alternative metal', 'hard rock', 'melodic thrash', 'metal', 'nu metal', 'old school thrash', 'rock', 'speed metal', 'thrash metal']",
          "['alternative metal', 'metal', 'progressive death metal', 'progressive metal', 'swedish metal', 'swedish progressive metal']",
          "['alternative metal', 'nu metal', 'rap metal', 'rock']",
          "['ann arbor indie', 'funk rock', 'instrumental funk']",
          "['argentine hip hop', 'r&b argentino', 'trap argentino', 'trap latino', 'urbano latino']",
          "['argentine rock', 'folklore argentino', 'rock nacional']",
          "['argentine rock', 'latin alternative', 'latin rock', 'post-punk argentina', 'rock en espanol', 'ska argentino']",
          "['argentine rock', 'latin alternative', 'latin rock', 'post-punk argentina', 'rock en espanol']",
          "['argentine rock', 'latin alternative', 'latin rock', 'rock en espanol', 'ska argentino']",
          "['argentine rock', 'latin alternative', 'latin rock', 'rock en espanol']",
          "['argentine rock', 'rock nacional']",
          "['art pop', 'electropop', 'pop']",
          "['beatlesque', 'british invasion', 'classic rock', 'merseybeat', 'psychedelic rock', 'rock']",
          "['british folk', 'folk', 'melancholia', 'singer-songwriter']",
          "['canadian singer-songwriter', 'melancholia', 'permanent wave', 'singer-songwriter']",
          "['cancion infantil latinoamericana', 'musica para ninos']",
          "['classical', 'classical performance', 'israeli classical piano', 'orchestral performance']",
          "['colombian pop', 'dance pop', 'latin pop', 'pop']",
          "['dance pop', 'dance rock', 'permanent wave', 'pop rock', 'rock']",
          "['dance pop', 'pop', 'uk pop']",
          "['dance pop', 'pop']",
          "['downtempo', 'dream pop', 'indietronica', 'modern rock']",
          "['fantasy metal', 'finnish metal', 'finnish power metal', 'gothic metal', 'gothic symphonic metal', 'opera metal', 'power metal', 'symphonic metal']",
          "['folklore argentino', 'folklore surero']",
          "['folklore argentino']",
          "['hard rock', 'metal', 'nwobhm', 'rock']",
          "['hollywood', 'movie tunes', 'soundtrack']",
          "['indie pop', 'lilith', 'piano rock']",
          "['instrumental funk']",
          "['latin alternative', 'latin pop']",
          "['lo-fi beats']",
          "['musique militaire', 'russian folk']",
          "['nueva cancion']",
          "['nyc pop', 'retro soul']",
          "['pop', 'r&b en espanol']",
          "['pop']",
          "['progressive metal', 'progressive rock']",
          "[]"
         ],
         "labels": [
          "Ariana Grande",
          "Billie Eilish",
          "Britney Spears",
          "Chango Spasiuk",
          "Charly García",
          "Cory Wong",
          "Crazy Ex-Girlfriend Cast",
          "Daniel Barenboim",
          "Destruyan a Los Robots",
          "Dua Lipa",
          "Eric Clapton",
          "Fito Paez",
          "Himesh Patel",
          "Iron Maiden",
          "Juan Carlos Baglietto",
          "Julian R. Fogel",
          "Justin Hurwitz",
          "Lawrence",
          "Leonard Cohen",
          "Lizzy McAlpine",
          "Los Auténticos Decadentes",
          "Maroon 5",
          "María Elena Walsh",
          "Megadeth",
          "Mon Laferte",
          "Nick Drake",
          "Nicki Nicole",
          "Nightwish",
          "No Doubt",
          "Opeth",
          "Pacific",
          "Pedro Aznar",
          "Pink Floyd",
          "Porcupine Tree",
          "ROSALÍA",
          "Regina Spektor",
          "Rolando Alarcon",
          "Shakira",
          "Shefa",
          "Soda Stereo",
          "Soledad",
          "System Of A Down",
          "Taylor Swift",
          "The Barnevelders",
          "The Beatles",
          "The Red Army Choir",
          "The xx",
          "Vulfpeck",
          "b schmidt",
          "ocha",
          "['album rock', 'art rock', 'classic rock', 'progressive rock', 'psychedelic rock', 'rock', 'symphonic rock']",
          "['album rock', 'blues rock', 'classic rock', 'electric blues', 'mellow gold', 'rock', 'singer-songwriter', 'soft rock']",
          "['alt z', 'boston folk', 'indie pop']",
          "['alternative metal', 'hard rock', 'melodic thrash', 'metal', 'nu metal', 'old school thrash', 'rock', 'speed metal', 'thrash metal']",
          "['alternative metal', 'metal', 'progressive death metal', 'progressive metal', 'swedish metal', 'swedish progressive metal']",
          "['alternative metal', 'nu metal', 'rap metal', 'rock']",
          "['ann arbor indie', 'funk rock', 'instrumental funk']",
          "['argentine hip hop', 'r&b argentino', 'trap argentino', 'trap latino', 'urbano latino']",
          "['argentine rock', 'folklore argentino', 'rock nacional']",
          "['argentine rock', 'latin alternative', 'latin rock', 'post-punk argentina', 'rock en espanol', 'ska argentino']",
          "['argentine rock', 'latin alternative', 'latin rock', 'post-punk argentina', 'rock en espanol']",
          "['argentine rock', 'latin alternative', 'latin rock', 'rock en espanol', 'ska argentino']",
          "['argentine rock', 'latin alternative', 'latin rock', 'rock en espanol']",
          "['argentine rock', 'rock nacional']",
          "['art pop', 'electropop', 'pop']",
          "['beatlesque', 'british invasion', 'classic rock', 'merseybeat', 'psychedelic rock', 'rock']",
          "['british folk', 'folk', 'melancholia', 'singer-songwriter']",
          "['canadian singer-songwriter', 'melancholia', 'permanent wave', 'singer-songwriter']",
          "['cancion infantil latinoamericana', 'musica para ninos']",
          "['classical', 'classical performance', 'israeli classical piano', 'orchestral performance']",
          "['colombian pop', 'dance pop', 'latin pop', 'pop']",
          "['dance pop', 'dance rock', 'permanent wave', 'pop rock', 'rock']",
          "['dance pop', 'pop', 'uk pop']",
          "['dance pop', 'pop']",
          "['downtempo', 'dream pop', 'indietronica', 'modern rock']",
          "['fantasy metal', 'finnish metal', 'finnish power metal', 'gothic metal', 'gothic symphonic metal', 'opera metal', 'power metal', 'symphonic metal']",
          "['folklore argentino', 'folklore surero']",
          "['folklore argentino']",
          "['hard rock', 'metal', 'nwobhm', 'rock']",
          "['hollywood', 'movie tunes', 'soundtrack']",
          "['indie pop', 'lilith', 'piano rock']",
          "['instrumental funk']",
          "['latin alternative', 'latin pop']",
          "['lo-fi beats']",
          "['musique militaire', 'russian folk']",
          "['nueva cancion']",
          "['nyc pop', 'retro soul']",
          "['pop', 'r&b en espanol']",
          "['pop']",
          "['progressive metal', 'progressive rock']",
          "[]"
         ],
         "name": "",
         "parents": [
          "['pop']",
          "['art pop', 'electropop', 'pop']",
          "['dance pop', 'pop']",
          "['folklore argentino']",
          "['argentine rock', 'latin alternative', 'latin rock', 'post-punk argentina', 'rock en espanol']",
          "['instrumental funk']",
          "[]",
          "['classical', 'classical performance', 'israeli classical piano', 'orchestral performance']",
          "[]",
          "['dance pop', 'pop', 'uk pop']",
          "['album rock', 'blues rock', 'classic rock', 'electric blues', 'mellow gold', 'rock', 'singer-songwriter', 'soft rock']",
          "['argentine rock', 'latin alternative', 'latin rock', 'rock en espanol']",
          "[]",
          "['hard rock', 'metal', 'nwobhm', 'rock']",
          "['argentine rock', 'folklore argentino', 'rock nacional']",
          "[]",
          "['hollywood', 'movie tunes', 'soundtrack']",
          "['nyc pop', 'retro soul']",
          "['canadian singer-songwriter', 'melancholia', 'permanent wave', 'singer-songwriter']",
          "['alt z', 'boston folk', 'indie pop']",
          "['argentine rock', 'latin alternative', 'latin rock', 'rock en espanol', 'ska argentino']",
          "['pop']",
          "['cancion infantil latinoamericana', 'musica para ninos']",
          "['alternative metal', 'hard rock', 'melodic thrash', 'metal', 'nu metal', 'old school thrash', 'rock', 'speed metal', 'thrash metal']",
          "['latin alternative', 'latin pop']",
          "['british folk', 'folk', 'melancholia', 'singer-songwriter']",
          "['argentine hip hop', 'r&b argentino', 'trap argentino', 'trap latino', 'urbano latino']",
          "['fantasy metal', 'finnish metal', 'finnish power metal', 'gothic metal', 'gothic symphonic metal', 'opera metal', 'power metal', 'symphonic metal']",
          "['dance pop', 'dance rock', 'permanent wave', 'pop rock', 'rock']",
          "['alternative metal', 'metal', 'progressive death metal', 'progressive metal', 'swedish metal', 'swedish progressive metal']",
          "[]",
          "['argentine rock', 'rock nacional']",
          "['album rock', 'art rock', 'classic rock', 'progressive rock', 'psychedelic rock', 'rock', 'symphonic rock']",
          "['progressive metal', 'progressive rock']",
          "['pop', 'r&b en espanol']",
          "['indie pop', 'lilith', 'piano rock']",
          "['nueva cancion']",
          "['colombian pop', 'dance pop', 'latin pop', 'pop']",
          "[]",
          "['argentine rock', 'latin alternative', 'latin rock', 'post-punk argentina', 'rock en espanol', 'ska argentino']",
          "['folklore argentino', 'folklore surero']",
          "['alternative metal', 'nu metal', 'rap metal', 'rock']",
          "['pop']",
          "[]",
          "['beatlesque', 'british invasion', 'classic rock', 'merseybeat', 'psychedelic rock', 'rock']",
          "['musique militaire', 'russian folk']",
          "['downtempo', 'dream pop', 'indietronica', 'modern rock']",
          "['ann arbor indie', 'funk rock', 'instrumental funk']",
          "[]",
          "['lo-fi beats']",
          "",
          "",
          "",
          "",
          "",
          "",
          "",
          "",
          "",
          "",
          "",
          "",
          "",
          "",
          "",
          "",
          "",
          "",
          "",
          "",
          "",
          "",
          "",
          "",
          "",
          "",
          "",
          "",
          "",
          "",
          "",
          "",
          "",
          "",
          "",
          "",
          "",
          "",
          "",
          "",
          ""
         ],
         "type": "sunburst",
         "values": [
          1,
          1,
          1,
          1,
          1,
          1,
          1,
          1,
          1,
          1,
          1,
          1,
          1,
          1,
          1,
          1,
          1,
          1,
          1,
          1,
          1,
          1,
          1,
          1,
          1,
          1,
          1,
          1,
          1,
          1,
          1,
          1,
          1,
          1,
          1,
          1,
          1,
          1,
          1,
          1,
          1,
          1,
          1,
          1,
          1,
          1,
          1,
          1,
          1,
          1,
          1,
          1,
          1,
          1,
          1,
          1,
          1,
          1,
          1,
          1,
          1,
          1,
          1,
          1,
          1,
          1,
          1,
          1,
          1,
          1,
          1,
          1,
          1,
          1,
          1,
          1,
          1,
          1,
          1,
          1,
          1,
          1,
          1,
          1,
          1,
          1,
          1,
          1,
          3,
          1,
          8
         ]
        }
       ],
       "layout": {
        "legend": {
         "tracegroupgap": 0
        },
        "margin": {
         "t": 60
        },
        "template": {
         "data": {
          "bar": [
           {
            "error_x": {
             "color": "#2a3f5f"
            },
            "error_y": {
             "color": "#2a3f5f"
            },
            "marker": {
             "line": {
              "color": "#E5ECF6",
              "width": 0.5
             },
             "pattern": {
              "fillmode": "overlay",
              "size": 10,
              "solidity": 0.2
             }
            },
            "type": "bar"
           }
          ],
          "barpolar": [
           {
            "marker": {
             "line": {
              "color": "#E5ECF6",
              "width": 0.5
             },
             "pattern": {
              "fillmode": "overlay",
              "size": 10,
              "solidity": 0.2
             }
            },
            "type": "barpolar"
           }
          ],
          "carpet": [
           {
            "aaxis": {
             "endlinecolor": "#2a3f5f",
             "gridcolor": "white",
             "linecolor": "white",
             "minorgridcolor": "white",
             "startlinecolor": "#2a3f5f"
            },
            "baxis": {
             "endlinecolor": "#2a3f5f",
             "gridcolor": "white",
             "linecolor": "white",
             "minorgridcolor": "white",
             "startlinecolor": "#2a3f5f"
            },
            "type": "carpet"
           }
          ],
          "choropleth": [
           {
            "colorbar": {
             "outlinewidth": 0,
             "ticks": ""
            },
            "type": "choropleth"
           }
          ],
          "contour": [
           {
            "colorbar": {
             "outlinewidth": 0,
             "ticks": ""
            },
            "colorscale": [
             [
              0,
              "#0d0887"
             ],
             [
              0.1111111111111111,
              "#46039f"
             ],
             [
              0.2222222222222222,
              "#7201a8"
             ],
             [
              0.3333333333333333,
              "#9c179e"
             ],
             [
              0.4444444444444444,
              "#bd3786"
             ],
             [
              0.5555555555555556,
              "#d8576b"
             ],
             [
              0.6666666666666666,
              "#ed7953"
             ],
             [
              0.7777777777777778,
              "#fb9f3a"
             ],
             [
              0.8888888888888888,
              "#fdca26"
             ],
             [
              1,
              "#f0f921"
             ]
            ],
            "type": "contour"
           }
          ],
          "contourcarpet": [
           {
            "colorbar": {
             "outlinewidth": 0,
             "ticks": ""
            },
            "type": "contourcarpet"
           }
          ],
          "heatmap": [
           {
            "colorbar": {
             "outlinewidth": 0,
             "ticks": ""
            },
            "colorscale": [
             [
              0,
              "#0d0887"
             ],
             [
              0.1111111111111111,
              "#46039f"
             ],
             [
              0.2222222222222222,
              "#7201a8"
             ],
             [
              0.3333333333333333,
              "#9c179e"
             ],
             [
              0.4444444444444444,
              "#bd3786"
             ],
             [
              0.5555555555555556,
              "#d8576b"
             ],
             [
              0.6666666666666666,
              "#ed7953"
             ],
             [
              0.7777777777777778,
              "#fb9f3a"
             ],
             [
              0.8888888888888888,
              "#fdca26"
             ],
             [
              1,
              "#f0f921"
             ]
            ],
            "type": "heatmap"
           }
          ],
          "heatmapgl": [
           {
            "colorbar": {
             "outlinewidth": 0,
             "ticks": ""
            },
            "colorscale": [
             [
              0,
              "#0d0887"
             ],
             [
              0.1111111111111111,
              "#46039f"
             ],
             [
              0.2222222222222222,
              "#7201a8"
             ],
             [
              0.3333333333333333,
              "#9c179e"
             ],
             [
              0.4444444444444444,
              "#bd3786"
             ],
             [
              0.5555555555555556,
              "#d8576b"
             ],
             [
              0.6666666666666666,
              "#ed7953"
             ],
             [
              0.7777777777777778,
              "#fb9f3a"
             ],
             [
              0.8888888888888888,
              "#fdca26"
             ],
             [
              1,
              "#f0f921"
             ]
            ],
            "type": "heatmapgl"
           }
          ],
          "histogram": [
           {
            "marker": {
             "pattern": {
              "fillmode": "overlay",
              "size": 10,
              "solidity": 0.2
             }
            },
            "type": "histogram"
           }
          ],
          "histogram2d": [
           {
            "colorbar": {
             "outlinewidth": 0,
             "ticks": ""
            },
            "colorscale": [
             [
              0,
              "#0d0887"
             ],
             [
              0.1111111111111111,
              "#46039f"
             ],
             [
              0.2222222222222222,
              "#7201a8"
             ],
             [
              0.3333333333333333,
              "#9c179e"
             ],
             [
              0.4444444444444444,
              "#bd3786"
             ],
             [
              0.5555555555555556,
              "#d8576b"
             ],
             [
              0.6666666666666666,
              "#ed7953"
             ],
             [
              0.7777777777777778,
              "#fb9f3a"
             ],
             [
              0.8888888888888888,
              "#fdca26"
             ],
             [
              1,
              "#f0f921"
             ]
            ],
            "type": "histogram2d"
           }
          ],
          "histogram2dcontour": [
           {
            "colorbar": {
             "outlinewidth": 0,
             "ticks": ""
            },
            "colorscale": [
             [
              0,
              "#0d0887"
             ],
             [
              0.1111111111111111,
              "#46039f"
             ],
             [
              0.2222222222222222,
              "#7201a8"
             ],
             [
              0.3333333333333333,
              "#9c179e"
             ],
             [
              0.4444444444444444,
              "#bd3786"
             ],
             [
              0.5555555555555556,
              "#d8576b"
             ],
             [
              0.6666666666666666,
              "#ed7953"
             ],
             [
              0.7777777777777778,
              "#fb9f3a"
             ],
             [
              0.8888888888888888,
              "#fdca26"
             ],
             [
              1,
              "#f0f921"
             ]
            ],
            "type": "histogram2dcontour"
           }
          ],
          "mesh3d": [
           {
            "colorbar": {
             "outlinewidth": 0,
             "ticks": ""
            },
            "type": "mesh3d"
           }
          ],
          "parcoords": [
           {
            "line": {
             "colorbar": {
              "outlinewidth": 0,
              "ticks": ""
             }
            },
            "type": "parcoords"
           }
          ],
          "pie": [
           {
            "automargin": true,
            "type": "pie"
           }
          ],
          "scatter": [
           {
            "fillpattern": {
             "fillmode": "overlay",
             "size": 10,
             "solidity": 0.2
            },
            "type": "scatter"
           }
          ],
          "scatter3d": [
           {
            "line": {
             "colorbar": {
              "outlinewidth": 0,
              "ticks": ""
             }
            },
            "marker": {
             "colorbar": {
              "outlinewidth": 0,
              "ticks": ""
             }
            },
            "type": "scatter3d"
           }
          ],
          "scattercarpet": [
           {
            "marker": {
             "colorbar": {
              "outlinewidth": 0,
              "ticks": ""
             }
            },
            "type": "scattercarpet"
           }
          ],
          "scattergeo": [
           {
            "marker": {
             "colorbar": {
              "outlinewidth": 0,
              "ticks": ""
             }
            },
            "type": "scattergeo"
           }
          ],
          "scattergl": [
           {
            "marker": {
             "colorbar": {
              "outlinewidth": 0,
              "ticks": ""
             }
            },
            "type": "scattergl"
           }
          ],
          "scattermapbox": [
           {
            "marker": {
             "colorbar": {
              "outlinewidth": 0,
              "ticks": ""
             }
            },
            "type": "scattermapbox"
           }
          ],
          "scatterpolar": [
           {
            "marker": {
             "colorbar": {
              "outlinewidth": 0,
              "ticks": ""
             }
            },
            "type": "scatterpolar"
           }
          ],
          "scatterpolargl": [
           {
            "marker": {
             "colorbar": {
              "outlinewidth": 0,
              "ticks": ""
             }
            },
            "type": "scatterpolargl"
           }
          ],
          "scatterternary": [
           {
            "marker": {
             "colorbar": {
              "outlinewidth": 0,
              "ticks": ""
             }
            },
            "type": "scatterternary"
           }
          ],
          "surface": [
           {
            "colorbar": {
             "outlinewidth": 0,
             "ticks": ""
            },
            "colorscale": [
             [
              0,
              "#0d0887"
             ],
             [
              0.1111111111111111,
              "#46039f"
             ],
             [
              0.2222222222222222,
              "#7201a8"
             ],
             [
              0.3333333333333333,
              "#9c179e"
             ],
             [
              0.4444444444444444,
              "#bd3786"
             ],
             [
              0.5555555555555556,
              "#d8576b"
             ],
             [
              0.6666666666666666,
              "#ed7953"
             ],
             [
              0.7777777777777778,
              "#fb9f3a"
             ],
             [
              0.8888888888888888,
              "#fdca26"
             ],
             [
              1,
              "#f0f921"
             ]
            ],
            "type": "surface"
           }
          ],
          "table": [
           {
            "cells": {
             "fill": {
              "color": "#EBF0F8"
             },
             "line": {
              "color": "white"
             }
            },
            "header": {
             "fill": {
              "color": "#C8D4E3"
             },
             "line": {
              "color": "white"
             }
            },
            "type": "table"
           }
          ]
         },
         "layout": {
          "annotationdefaults": {
           "arrowcolor": "#2a3f5f",
           "arrowhead": 0,
           "arrowwidth": 1
          },
          "autotypenumbers": "strict",
          "coloraxis": {
           "colorbar": {
            "outlinewidth": 0,
            "ticks": ""
           }
          },
          "colorscale": {
           "diverging": [
            [
             0,
             "#8e0152"
            ],
            [
             0.1,
             "#c51b7d"
            ],
            [
             0.2,
             "#de77ae"
            ],
            [
             0.3,
             "#f1b6da"
            ],
            [
             0.4,
             "#fde0ef"
            ],
            [
             0.5,
             "#f7f7f7"
            ],
            [
             0.6,
             "#e6f5d0"
            ],
            [
             0.7,
             "#b8e186"
            ],
            [
             0.8,
             "#7fbc41"
            ],
            [
             0.9,
             "#4d9221"
            ],
            [
             1,
             "#276419"
            ]
           ],
           "sequential": [
            [
             0,
             "#0d0887"
            ],
            [
             0.1111111111111111,
             "#46039f"
            ],
            [
             0.2222222222222222,
             "#7201a8"
            ],
            [
             0.3333333333333333,
             "#9c179e"
            ],
            [
             0.4444444444444444,
             "#bd3786"
            ],
            [
             0.5555555555555556,
             "#d8576b"
            ],
            [
             0.6666666666666666,
             "#ed7953"
            ],
            [
             0.7777777777777778,
             "#fb9f3a"
            ],
            [
             0.8888888888888888,
             "#fdca26"
            ],
            [
             1,
             "#f0f921"
            ]
           ],
           "sequentialminus": [
            [
             0,
             "#0d0887"
            ],
            [
             0.1111111111111111,
             "#46039f"
            ],
            [
             0.2222222222222222,
             "#7201a8"
            ],
            [
             0.3333333333333333,
             "#9c179e"
            ],
            [
             0.4444444444444444,
             "#bd3786"
            ],
            [
             0.5555555555555556,
             "#d8576b"
            ],
            [
             0.6666666666666666,
             "#ed7953"
            ],
            [
             0.7777777777777778,
             "#fb9f3a"
            ],
            [
             0.8888888888888888,
             "#fdca26"
            ],
            [
             1,
             "#f0f921"
            ]
           ]
          },
          "colorway": [
           "#636efa",
           "#EF553B",
           "#00cc96",
           "#ab63fa",
           "#FFA15A",
           "#19d3f3",
           "#FF6692",
           "#B6E880",
           "#FF97FF",
           "#FECB52"
          ],
          "font": {
           "color": "#2a3f5f"
          },
          "geo": {
           "bgcolor": "white",
           "lakecolor": "white",
           "landcolor": "#E5ECF6",
           "showlakes": true,
           "showland": true,
           "subunitcolor": "white"
          },
          "hoverlabel": {
           "align": "left"
          },
          "hovermode": "closest",
          "mapbox": {
           "style": "light"
          },
          "paper_bgcolor": "white",
          "plot_bgcolor": "#E5ECF6",
          "polar": {
           "angularaxis": {
            "gridcolor": "white",
            "linecolor": "white",
            "ticks": ""
           },
           "bgcolor": "#E5ECF6",
           "radialaxis": {
            "gridcolor": "white",
            "linecolor": "white",
            "ticks": ""
           }
          },
          "scene": {
           "xaxis": {
            "backgroundcolor": "#E5ECF6",
            "gridcolor": "white",
            "gridwidth": 2,
            "linecolor": "white",
            "showbackground": true,
            "ticks": "",
            "zerolinecolor": "white"
           },
           "yaxis": {
            "backgroundcolor": "#E5ECF6",
            "gridcolor": "white",
            "gridwidth": 2,
            "linecolor": "white",
            "showbackground": true,
            "ticks": "",
            "zerolinecolor": "white"
           },
           "zaxis": {
            "backgroundcolor": "#E5ECF6",
            "gridcolor": "white",
            "gridwidth": 2,
            "linecolor": "white",
            "showbackground": true,
            "ticks": "",
            "zerolinecolor": "white"
           }
          },
          "shapedefaults": {
           "line": {
            "color": "#2a3f5f"
           }
          },
          "ternary": {
           "aaxis": {
            "gridcolor": "white",
            "linecolor": "white",
            "ticks": ""
           },
           "baxis": {
            "gridcolor": "white",
            "linecolor": "white",
            "ticks": ""
           },
           "bgcolor": "#E5ECF6",
           "caxis": {
            "gridcolor": "white",
            "linecolor": "white",
            "ticks": ""
           }
          },
          "title": {
           "x": 0.05
          },
          "xaxis": {
           "automargin": true,
           "gridcolor": "white",
           "linecolor": "white",
           "ticks": "",
           "title": {
            "standoff": 15
           },
           "zerolinecolor": "white",
           "zerolinewidth": 2
          },
          "yaxis": {
           "automargin": true,
           "gridcolor": "white",
           "linecolor": "white",
           "ticks": "",
           "title": {
            "standoff": 15
           },
           "zerolinecolor": "white",
           "zerolinewidth": 2
          }
         }
        }
       }
      },
      "text/html": [
       "<div>                            <div id=\"b5c5c7da-a664-45af-bc6d-ff489cef7ddf\" class=\"plotly-graph-div\" style=\"height:525px; width:100%;\"></div>            <script type=\"text/javascript\">                require([\"plotly\"], function(Plotly) {                    window.PLOTLYENV=window.PLOTLYENV || {};                                    if (document.getElementById(\"b5c5c7da-a664-45af-bc6d-ff489cef7ddf\")) {                    Plotly.newPlot(                        \"b5c5c7da-a664-45af-bc6d-ff489cef7ddf\",                        [{\"branchvalues\":\"total\",\"domain\":{\"x\":[0.0,1.0],\"y\":[0.0,1.0]},\"hovertemplate\":\"labels=%{label}<br>count=%{value}<br>parent=%{parent}<br>id=%{id}<extra></extra>\",\"ids\":[\"['pop']/Ariana Grande\",\"['art pop', 'electropop', 'pop']/Billie Eilish\",\"['dance pop', 'pop']/Britney Spears\",\"['folklore argentino']/Chango Spasiuk\",\"['argentine rock', 'latin alternative', 'latin rock', 'post-punk argentina', 'rock en espanol']/Charly Garc\\u00eda\",\"['instrumental funk']/Cory Wong\",\"[]/Crazy Ex-Girlfriend Cast\",\"['classical', 'classical performance', 'israeli classical piano', 'orchestral performance']/Daniel Barenboim\",\"[]/Destruyan a Los Robots\",\"['dance pop', 'pop', 'uk pop']/Dua Lipa\",\"['album rock', 'blues rock', 'classic rock', 'electric blues', 'mellow gold', 'rock', 'singer-songwriter', 'soft rock']/Eric Clapton\",\"['argentine rock', 'latin alternative', 'latin rock', 'rock en espanol']/Fito Paez\",\"[]/Himesh Patel\",\"['hard rock', 'metal', 'nwobhm', 'rock']/Iron Maiden\",\"['argentine rock', 'folklore argentino', 'rock nacional']/Juan Carlos Baglietto\",\"[]/Julian R. Fogel\",\"['hollywood', 'movie tunes', 'soundtrack']/Justin Hurwitz\",\"['nyc pop', 'retro soul']/Lawrence\",\"['canadian singer-songwriter', 'melancholia', 'permanent wave', 'singer-songwriter']/Leonard Cohen\",\"['alt z', 'boston folk', 'indie pop']/Lizzy McAlpine\",\"['argentine rock', 'latin alternative', 'latin rock', 'rock en espanol', 'ska argentino']/Los Aut\\u00e9nticos Decadentes\",\"['pop']/Maroon 5\",\"['cancion infantil latinoamericana', 'musica para ninos']/Mar\\u00eda Elena Walsh\",\"['alternative metal', 'hard rock', 'melodic thrash', 'metal', 'nu metal', 'old school thrash', 'rock', 'speed metal', 'thrash metal']/Megadeth\",\"['latin alternative', 'latin pop']/Mon Laferte\",\"['british folk', 'folk', 'melancholia', 'singer-songwriter']/Nick Drake\",\"['argentine hip hop', 'r&b argentino', 'trap argentino', 'trap latino', 'urbano latino']/Nicki Nicole\",\"['fantasy metal', 'finnish metal', 'finnish power metal', 'gothic metal', 'gothic symphonic metal', 'opera metal', 'power metal', 'symphonic metal']/Nightwish\",\"['dance pop', 'dance rock', 'permanent wave', 'pop rock', 'rock']/No Doubt\",\"['alternative metal', 'metal', 'progressive death metal', 'progressive metal', 'swedish metal', 'swedish progressive metal']/Opeth\",\"[]/Pacific\",\"['argentine rock', 'rock nacional']/Pedro Aznar\",\"['album rock', 'art rock', 'classic rock', 'progressive rock', 'psychedelic rock', 'rock', 'symphonic rock']/Pink Floyd\",\"['progressive metal', 'progressive rock']/Porcupine Tree\",\"['pop', 'r&b en espanol']/ROSAL\\u00cdA\",\"['indie pop', 'lilith', 'piano rock']/Regina Spektor\",\"['nueva cancion']/Rolando Alarcon\",\"['colombian pop', 'dance pop', 'latin pop', 'pop']/Shakira\",\"[]/Shefa\",\"['argentine rock', 'latin alternative', 'latin rock', 'post-punk argentina', 'rock en espanol', 'ska argentino']/Soda Stereo\",\"['folklore argentino', 'folklore surero']/Soledad\",\"['alternative metal', 'nu metal', 'rap metal', 'rock']/System Of A Down\",\"['pop']/Taylor Swift\",\"[]/The Barnevelders\",\"['beatlesque', 'british invasion', 'classic rock', 'merseybeat', 'psychedelic rock', 'rock']/The Beatles\",\"['musique militaire', 'russian folk']/The Red Army Choir\",\"['downtempo', 'dream pop', 'indietronica', 'modern rock']/The xx\",\"['ann arbor indie', 'funk rock', 'instrumental funk']/Vulfpeck\",\"[]/b schmidt\",\"['lo-fi beats']/ocha\",\"['album rock', 'art rock', 'classic rock', 'progressive rock', 'psychedelic rock', 'rock', 'symphonic rock']\",\"['album rock', 'blues rock', 'classic rock', 'electric blues', 'mellow gold', 'rock', 'singer-songwriter', 'soft rock']\",\"['alt z', 'boston folk', 'indie pop']\",\"['alternative metal', 'hard rock', 'melodic thrash', 'metal', 'nu metal', 'old school thrash', 'rock', 'speed metal', 'thrash metal']\",\"['alternative metal', 'metal', 'progressive death metal', 'progressive metal', 'swedish metal', 'swedish progressive metal']\",\"['alternative metal', 'nu metal', 'rap metal', 'rock']\",\"['ann arbor indie', 'funk rock', 'instrumental funk']\",\"['argentine hip hop', 'r&b argentino', 'trap argentino', 'trap latino', 'urbano latino']\",\"['argentine rock', 'folklore argentino', 'rock nacional']\",\"['argentine rock', 'latin alternative', 'latin rock', 'post-punk argentina', 'rock en espanol', 'ska argentino']\",\"['argentine rock', 'latin alternative', 'latin rock', 'post-punk argentina', 'rock en espanol']\",\"['argentine rock', 'latin alternative', 'latin rock', 'rock en espanol', 'ska argentino']\",\"['argentine rock', 'latin alternative', 'latin rock', 'rock en espanol']\",\"['argentine rock', 'rock nacional']\",\"['art pop', 'electropop', 'pop']\",\"['beatlesque', 'british invasion', 'classic rock', 'merseybeat', 'psychedelic rock', 'rock']\",\"['british folk', 'folk', 'melancholia', 'singer-songwriter']\",\"['canadian singer-songwriter', 'melancholia', 'permanent wave', 'singer-songwriter']\",\"['cancion infantil latinoamericana', 'musica para ninos']\",\"['classical', 'classical performance', 'israeli classical piano', 'orchestral performance']\",\"['colombian pop', 'dance pop', 'latin pop', 'pop']\",\"['dance pop', 'dance rock', 'permanent wave', 'pop rock', 'rock']\",\"['dance pop', 'pop', 'uk pop']\",\"['dance pop', 'pop']\",\"['downtempo', 'dream pop', 'indietronica', 'modern rock']\",\"['fantasy metal', 'finnish metal', 'finnish power metal', 'gothic metal', 'gothic symphonic metal', 'opera metal', 'power metal', 'symphonic metal']\",\"['folklore argentino', 'folklore surero']\",\"['folklore argentino']\",\"['hard rock', 'metal', 'nwobhm', 'rock']\",\"['hollywood', 'movie tunes', 'soundtrack']\",\"['indie pop', 'lilith', 'piano rock']\",\"['instrumental funk']\",\"['latin alternative', 'latin pop']\",\"['lo-fi beats']\",\"['musique militaire', 'russian folk']\",\"['nueva cancion']\",\"['nyc pop', 'retro soul']\",\"['pop', 'r&b en espanol']\",\"['pop']\",\"['progressive metal', 'progressive rock']\",\"[]\"],\"labels\":[\"Ariana Grande\",\"Billie Eilish\",\"Britney Spears\",\"Chango Spasiuk\",\"Charly Garc\\u00eda\",\"Cory Wong\",\"Crazy Ex-Girlfriend Cast\",\"Daniel Barenboim\",\"Destruyan a Los Robots\",\"Dua Lipa\",\"Eric Clapton\",\"Fito Paez\",\"Himesh Patel\",\"Iron Maiden\",\"Juan Carlos Baglietto\",\"Julian R. Fogel\",\"Justin Hurwitz\",\"Lawrence\",\"Leonard Cohen\",\"Lizzy McAlpine\",\"Los Aut\\u00e9nticos Decadentes\",\"Maroon 5\",\"Mar\\u00eda Elena Walsh\",\"Megadeth\",\"Mon Laferte\",\"Nick Drake\",\"Nicki Nicole\",\"Nightwish\",\"No Doubt\",\"Opeth\",\"Pacific\",\"Pedro Aznar\",\"Pink Floyd\",\"Porcupine Tree\",\"ROSAL\\u00cdA\",\"Regina Spektor\",\"Rolando Alarcon\",\"Shakira\",\"Shefa\",\"Soda Stereo\",\"Soledad\",\"System Of A Down\",\"Taylor Swift\",\"The Barnevelders\",\"The Beatles\",\"The Red Army Choir\",\"The xx\",\"Vulfpeck\",\"b schmidt\",\"ocha\",\"['album rock', 'art rock', 'classic rock', 'progressive rock', 'psychedelic rock', 'rock', 'symphonic rock']\",\"['album rock', 'blues rock', 'classic rock', 'electric blues', 'mellow gold', 'rock', 'singer-songwriter', 'soft rock']\",\"['alt z', 'boston folk', 'indie pop']\",\"['alternative metal', 'hard rock', 'melodic thrash', 'metal', 'nu metal', 'old school thrash', 'rock', 'speed metal', 'thrash metal']\",\"['alternative metal', 'metal', 'progressive death metal', 'progressive metal', 'swedish metal', 'swedish progressive metal']\",\"['alternative metal', 'nu metal', 'rap metal', 'rock']\",\"['ann arbor indie', 'funk rock', 'instrumental funk']\",\"['argentine hip hop', 'r&b argentino', 'trap argentino', 'trap latino', 'urbano latino']\",\"['argentine rock', 'folklore argentino', 'rock nacional']\",\"['argentine rock', 'latin alternative', 'latin rock', 'post-punk argentina', 'rock en espanol', 'ska argentino']\",\"['argentine rock', 'latin alternative', 'latin rock', 'post-punk argentina', 'rock en espanol']\",\"['argentine rock', 'latin alternative', 'latin rock', 'rock en espanol', 'ska argentino']\",\"['argentine rock', 'latin alternative', 'latin rock', 'rock en espanol']\",\"['argentine rock', 'rock nacional']\",\"['art pop', 'electropop', 'pop']\",\"['beatlesque', 'british invasion', 'classic rock', 'merseybeat', 'psychedelic rock', 'rock']\",\"['british folk', 'folk', 'melancholia', 'singer-songwriter']\",\"['canadian singer-songwriter', 'melancholia', 'permanent wave', 'singer-songwriter']\",\"['cancion infantil latinoamericana', 'musica para ninos']\",\"['classical', 'classical performance', 'israeli classical piano', 'orchestral performance']\",\"['colombian pop', 'dance pop', 'latin pop', 'pop']\",\"['dance pop', 'dance rock', 'permanent wave', 'pop rock', 'rock']\",\"['dance pop', 'pop', 'uk pop']\",\"['dance pop', 'pop']\",\"['downtempo', 'dream pop', 'indietronica', 'modern rock']\",\"['fantasy metal', 'finnish metal', 'finnish power metal', 'gothic metal', 'gothic symphonic metal', 'opera metal', 'power metal', 'symphonic metal']\",\"['folklore argentino', 'folklore surero']\",\"['folklore argentino']\",\"['hard rock', 'metal', 'nwobhm', 'rock']\",\"['hollywood', 'movie tunes', 'soundtrack']\",\"['indie pop', 'lilith', 'piano rock']\",\"['instrumental funk']\",\"['latin alternative', 'latin pop']\",\"['lo-fi beats']\",\"['musique militaire', 'russian folk']\",\"['nueva cancion']\",\"['nyc pop', 'retro soul']\",\"['pop', 'r&b en espanol']\",\"['pop']\",\"['progressive metal', 'progressive rock']\",\"[]\"],\"name\":\"\",\"parents\":[\"['pop']\",\"['art pop', 'electropop', 'pop']\",\"['dance pop', 'pop']\",\"['folklore argentino']\",\"['argentine rock', 'latin alternative', 'latin rock', 'post-punk argentina', 'rock en espanol']\",\"['instrumental funk']\",\"[]\",\"['classical', 'classical performance', 'israeli classical piano', 'orchestral performance']\",\"[]\",\"['dance pop', 'pop', 'uk pop']\",\"['album rock', 'blues rock', 'classic rock', 'electric blues', 'mellow gold', 'rock', 'singer-songwriter', 'soft rock']\",\"['argentine rock', 'latin alternative', 'latin rock', 'rock en espanol']\",\"[]\",\"['hard rock', 'metal', 'nwobhm', 'rock']\",\"['argentine rock', 'folklore argentino', 'rock nacional']\",\"[]\",\"['hollywood', 'movie tunes', 'soundtrack']\",\"['nyc pop', 'retro soul']\",\"['canadian singer-songwriter', 'melancholia', 'permanent wave', 'singer-songwriter']\",\"['alt z', 'boston folk', 'indie pop']\",\"['argentine rock', 'latin alternative', 'latin rock', 'rock en espanol', 'ska argentino']\",\"['pop']\",\"['cancion infantil latinoamericana', 'musica para ninos']\",\"['alternative metal', 'hard rock', 'melodic thrash', 'metal', 'nu metal', 'old school thrash', 'rock', 'speed metal', 'thrash metal']\",\"['latin alternative', 'latin pop']\",\"['british folk', 'folk', 'melancholia', 'singer-songwriter']\",\"['argentine hip hop', 'r&b argentino', 'trap argentino', 'trap latino', 'urbano latino']\",\"['fantasy metal', 'finnish metal', 'finnish power metal', 'gothic metal', 'gothic symphonic metal', 'opera metal', 'power metal', 'symphonic metal']\",\"['dance pop', 'dance rock', 'permanent wave', 'pop rock', 'rock']\",\"['alternative metal', 'metal', 'progressive death metal', 'progressive metal', 'swedish metal', 'swedish progressive metal']\",\"[]\",\"['argentine rock', 'rock nacional']\",\"['album rock', 'art rock', 'classic rock', 'progressive rock', 'psychedelic rock', 'rock', 'symphonic rock']\",\"['progressive metal', 'progressive rock']\",\"['pop', 'r&b en espanol']\",\"['indie pop', 'lilith', 'piano rock']\",\"['nueva cancion']\",\"['colombian pop', 'dance pop', 'latin pop', 'pop']\",\"[]\",\"['argentine rock', 'latin alternative', 'latin rock', 'post-punk argentina', 'rock en espanol', 'ska argentino']\",\"['folklore argentino', 'folklore surero']\",\"['alternative metal', 'nu metal', 'rap metal', 'rock']\",\"['pop']\",\"[]\",\"['beatlesque', 'british invasion', 'classic rock', 'merseybeat', 'psychedelic rock', 'rock']\",\"['musique militaire', 'russian folk']\",\"['downtempo', 'dream pop', 'indietronica', 'modern rock']\",\"['ann arbor indie', 'funk rock', 'instrumental funk']\",\"[]\",\"['lo-fi beats']\",\"\",\"\",\"\",\"\",\"\",\"\",\"\",\"\",\"\",\"\",\"\",\"\",\"\",\"\",\"\",\"\",\"\",\"\",\"\",\"\",\"\",\"\",\"\",\"\",\"\",\"\",\"\",\"\",\"\",\"\",\"\",\"\",\"\",\"\",\"\",\"\",\"\",\"\",\"\",\"\",\"\"],\"values\":[1,1,1,1,1,1,1,1,1,1,1,1,1,1,1,1,1,1,1,1,1,1,1,1,1,1,1,1,1,1,1,1,1,1,1,1,1,1,1,1,1,1,1,1,1,1,1,1,1,1,1,1,1,1,1,1,1,1,1,1,1,1,1,1,1,1,1,1,1,1,1,1,1,1,1,1,1,1,1,1,1,1,1,1,1,1,1,1,3,1,8],\"type\":\"sunburst\"}],                        {\"template\":{\"data\":{\"histogram2dcontour\":[{\"type\":\"histogram2dcontour\",\"colorbar\":{\"outlinewidth\":0,\"ticks\":\"\"},\"colorscale\":[[0.0,\"#0d0887\"],[0.1111111111111111,\"#46039f\"],[0.2222222222222222,\"#7201a8\"],[0.3333333333333333,\"#9c179e\"],[0.4444444444444444,\"#bd3786\"],[0.5555555555555556,\"#d8576b\"],[0.6666666666666666,\"#ed7953\"],[0.7777777777777778,\"#fb9f3a\"],[0.8888888888888888,\"#fdca26\"],[1.0,\"#f0f921\"]]}],\"choropleth\":[{\"type\":\"choropleth\",\"colorbar\":{\"outlinewidth\":0,\"ticks\":\"\"}}],\"histogram2d\":[{\"type\":\"histogram2d\",\"colorbar\":{\"outlinewidth\":0,\"ticks\":\"\"},\"colorscale\":[[0.0,\"#0d0887\"],[0.1111111111111111,\"#46039f\"],[0.2222222222222222,\"#7201a8\"],[0.3333333333333333,\"#9c179e\"],[0.4444444444444444,\"#bd3786\"],[0.5555555555555556,\"#d8576b\"],[0.6666666666666666,\"#ed7953\"],[0.7777777777777778,\"#fb9f3a\"],[0.8888888888888888,\"#fdca26\"],[1.0,\"#f0f921\"]]}],\"heatmap\":[{\"type\":\"heatmap\",\"colorbar\":{\"outlinewidth\":0,\"ticks\":\"\"},\"colorscale\":[[0.0,\"#0d0887\"],[0.1111111111111111,\"#46039f\"],[0.2222222222222222,\"#7201a8\"],[0.3333333333333333,\"#9c179e\"],[0.4444444444444444,\"#bd3786\"],[0.5555555555555556,\"#d8576b\"],[0.6666666666666666,\"#ed7953\"],[0.7777777777777778,\"#fb9f3a\"],[0.8888888888888888,\"#fdca26\"],[1.0,\"#f0f921\"]]}],\"heatmapgl\":[{\"type\":\"heatmapgl\",\"colorbar\":{\"outlinewidth\":0,\"ticks\":\"\"},\"colorscale\":[[0.0,\"#0d0887\"],[0.1111111111111111,\"#46039f\"],[0.2222222222222222,\"#7201a8\"],[0.3333333333333333,\"#9c179e\"],[0.4444444444444444,\"#bd3786\"],[0.5555555555555556,\"#d8576b\"],[0.6666666666666666,\"#ed7953\"],[0.7777777777777778,\"#fb9f3a\"],[0.8888888888888888,\"#fdca26\"],[1.0,\"#f0f921\"]]}],\"contourcarpet\":[{\"type\":\"contourcarpet\",\"colorbar\":{\"outlinewidth\":0,\"ticks\":\"\"}}],\"contour\":[{\"type\":\"contour\",\"colorbar\":{\"outlinewidth\":0,\"ticks\":\"\"},\"colorscale\":[[0.0,\"#0d0887\"],[0.1111111111111111,\"#46039f\"],[0.2222222222222222,\"#7201a8\"],[0.3333333333333333,\"#9c179e\"],[0.4444444444444444,\"#bd3786\"],[0.5555555555555556,\"#d8576b\"],[0.6666666666666666,\"#ed7953\"],[0.7777777777777778,\"#fb9f3a\"],[0.8888888888888888,\"#fdca26\"],[1.0,\"#f0f921\"]]}],\"surface\":[{\"type\":\"surface\",\"colorbar\":{\"outlinewidth\":0,\"ticks\":\"\"},\"colorscale\":[[0.0,\"#0d0887\"],[0.1111111111111111,\"#46039f\"],[0.2222222222222222,\"#7201a8\"],[0.3333333333333333,\"#9c179e\"],[0.4444444444444444,\"#bd3786\"],[0.5555555555555556,\"#d8576b\"],[0.6666666666666666,\"#ed7953\"],[0.7777777777777778,\"#fb9f3a\"],[0.8888888888888888,\"#fdca26\"],[1.0,\"#f0f921\"]]}],\"mesh3d\":[{\"type\":\"mesh3d\",\"colorbar\":{\"outlinewidth\":0,\"ticks\":\"\"}}],\"scatter\":[{\"fillpattern\":{\"fillmode\":\"overlay\",\"size\":10,\"solidity\":0.2},\"type\":\"scatter\"}],\"parcoords\":[{\"type\":\"parcoords\",\"line\":{\"colorbar\":{\"outlinewidth\":0,\"ticks\":\"\"}}}],\"scatterpolargl\":[{\"type\":\"scatterpolargl\",\"marker\":{\"colorbar\":{\"outlinewidth\":0,\"ticks\":\"\"}}}],\"bar\":[{\"error_x\":{\"color\":\"#2a3f5f\"},\"error_y\":{\"color\":\"#2a3f5f\"},\"marker\":{\"line\":{\"color\":\"#E5ECF6\",\"width\":0.5},\"pattern\":{\"fillmode\":\"overlay\",\"size\":10,\"solidity\":0.2}},\"type\":\"bar\"}],\"scattergeo\":[{\"type\":\"scattergeo\",\"marker\":{\"colorbar\":{\"outlinewidth\":0,\"ticks\":\"\"}}}],\"scatterpolar\":[{\"type\":\"scatterpolar\",\"marker\":{\"colorbar\":{\"outlinewidth\":0,\"ticks\":\"\"}}}],\"histogram\":[{\"marker\":{\"pattern\":{\"fillmode\":\"overlay\",\"size\":10,\"solidity\":0.2}},\"type\":\"histogram\"}],\"scattergl\":[{\"type\":\"scattergl\",\"marker\":{\"colorbar\":{\"outlinewidth\":0,\"ticks\":\"\"}}}],\"scatter3d\":[{\"type\":\"scatter3d\",\"line\":{\"colorbar\":{\"outlinewidth\":0,\"ticks\":\"\"}},\"marker\":{\"colorbar\":{\"outlinewidth\":0,\"ticks\":\"\"}}}],\"scattermapbox\":[{\"type\":\"scattermapbox\",\"marker\":{\"colorbar\":{\"outlinewidth\":0,\"ticks\":\"\"}}}],\"scatterternary\":[{\"type\":\"scatterternary\",\"marker\":{\"colorbar\":{\"outlinewidth\":0,\"ticks\":\"\"}}}],\"scattercarpet\":[{\"type\":\"scattercarpet\",\"marker\":{\"colorbar\":{\"outlinewidth\":0,\"ticks\":\"\"}}}],\"carpet\":[{\"aaxis\":{\"endlinecolor\":\"#2a3f5f\",\"gridcolor\":\"white\",\"linecolor\":\"white\",\"minorgridcolor\":\"white\",\"startlinecolor\":\"#2a3f5f\"},\"baxis\":{\"endlinecolor\":\"#2a3f5f\",\"gridcolor\":\"white\",\"linecolor\":\"white\",\"minorgridcolor\":\"white\",\"startlinecolor\":\"#2a3f5f\"},\"type\":\"carpet\"}],\"table\":[{\"cells\":{\"fill\":{\"color\":\"#EBF0F8\"},\"line\":{\"color\":\"white\"}},\"header\":{\"fill\":{\"color\":\"#C8D4E3\"},\"line\":{\"color\":\"white\"}},\"type\":\"table\"}],\"barpolar\":[{\"marker\":{\"line\":{\"color\":\"#E5ECF6\",\"width\":0.5},\"pattern\":{\"fillmode\":\"overlay\",\"size\":10,\"solidity\":0.2}},\"type\":\"barpolar\"}],\"pie\":[{\"automargin\":true,\"type\":\"pie\"}]},\"layout\":{\"autotypenumbers\":\"strict\",\"colorway\":[\"#636efa\",\"#EF553B\",\"#00cc96\",\"#ab63fa\",\"#FFA15A\",\"#19d3f3\",\"#FF6692\",\"#B6E880\",\"#FF97FF\",\"#FECB52\"],\"font\":{\"color\":\"#2a3f5f\"},\"hovermode\":\"closest\",\"hoverlabel\":{\"align\":\"left\"},\"paper_bgcolor\":\"white\",\"plot_bgcolor\":\"#E5ECF6\",\"polar\":{\"bgcolor\":\"#E5ECF6\",\"angularaxis\":{\"gridcolor\":\"white\",\"linecolor\":\"white\",\"ticks\":\"\"},\"radialaxis\":{\"gridcolor\":\"white\",\"linecolor\":\"white\",\"ticks\":\"\"}},\"ternary\":{\"bgcolor\":\"#E5ECF6\",\"aaxis\":{\"gridcolor\":\"white\",\"linecolor\":\"white\",\"ticks\":\"\"},\"baxis\":{\"gridcolor\":\"white\",\"linecolor\":\"white\",\"ticks\":\"\"},\"caxis\":{\"gridcolor\":\"white\",\"linecolor\":\"white\",\"ticks\":\"\"}},\"coloraxis\":{\"colorbar\":{\"outlinewidth\":0,\"ticks\":\"\"}},\"colorscale\":{\"sequential\":[[0.0,\"#0d0887\"],[0.1111111111111111,\"#46039f\"],[0.2222222222222222,\"#7201a8\"],[0.3333333333333333,\"#9c179e\"],[0.4444444444444444,\"#bd3786\"],[0.5555555555555556,\"#d8576b\"],[0.6666666666666666,\"#ed7953\"],[0.7777777777777778,\"#fb9f3a\"],[0.8888888888888888,\"#fdca26\"],[1.0,\"#f0f921\"]],\"sequentialminus\":[[0.0,\"#0d0887\"],[0.1111111111111111,\"#46039f\"],[0.2222222222222222,\"#7201a8\"],[0.3333333333333333,\"#9c179e\"],[0.4444444444444444,\"#bd3786\"],[0.5555555555555556,\"#d8576b\"],[0.6666666666666666,\"#ed7953\"],[0.7777777777777778,\"#fb9f3a\"],[0.8888888888888888,\"#fdca26\"],[1.0,\"#f0f921\"]],\"diverging\":[[0,\"#8e0152\"],[0.1,\"#c51b7d\"],[0.2,\"#de77ae\"],[0.3,\"#f1b6da\"],[0.4,\"#fde0ef\"],[0.5,\"#f7f7f7\"],[0.6,\"#e6f5d0\"],[0.7,\"#b8e186\"],[0.8,\"#7fbc41\"],[0.9,\"#4d9221\"],[1,\"#276419\"]]},\"xaxis\":{\"gridcolor\":\"white\",\"linecolor\":\"white\",\"ticks\":\"\",\"title\":{\"standoff\":15},\"zerolinecolor\":\"white\",\"automargin\":true,\"zerolinewidth\":2},\"yaxis\":{\"gridcolor\":\"white\",\"linecolor\":\"white\",\"ticks\":\"\",\"title\":{\"standoff\":15},\"zerolinecolor\":\"white\",\"automargin\":true,\"zerolinewidth\":2},\"scene\":{\"xaxis\":{\"backgroundcolor\":\"#E5ECF6\",\"gridcolor\":\"white\",\"linecolor\":\"white\",\"showbackground\":true,\"ticks\":\"\",\"zerolinecolor\":\"white\",\"gridwidth\":2},\"yaxis\":{\"backgroundcolor\":\"#E5ECF6\",\"gridcolor\":\"white\",\"linecolor\":\"white\",\"showbackground\":true,\"ticks\":\"\",\"zerolinecolor\":\"white\",\"gridwidth\":2},\"zaxis\":{\"backgroundcolor\":\"#E5ECF6\",\"gridcolor\":\"white\",\"linecolor\":\"white\",\"showbackground\":true,\"ticks\":\"\",\"zerolinecolor\":\"white\",\"gridwidth\":2}},\"shapedefaults\":{\"line\":{\"color\":\"#2a3f5f\"}},\"annotationdefaults\":{\"arrowcolor\":\"#2a3f5f\",\"arrowhead\":0,\"arrowwidth\":1},\"geo\":{\"bgcolor\":\"white\",\"landcolor\":\"#E5ECF6\",\"subunitcolor\":\"white\",\"showland\":true,\"showlakes\":true,\"lakecolor\":\"white\"},\"title\":{\"x\":0.05},\"mapbox\":{\"style\":\"light\"}}},\"legend\":{\"tracegroupgap\":0},\"margin\":{\"t\":60}},                        {\"responsive\": true}                    ).then(function(){\n",
       "                            \n",
       "var gd = document.getElementById('b5c5c7da-a664-45af-bc6d-ff489cef7ddf');\n",
       "var x = new MutationObserver(function (mutations, observer) {{\n",
       "        var display = window.getComputedStyle(gd).display;\n",
       "        if (!display || display === 'none') {{\n",
       "            console.log([gd, 'removed!']);\n",
       "            Plotly.purge(gd);\n",
       "            observer.disconnect();\n",
       "        }}\n",
       "}});\n",
       "\n",
       "// Listen for the removal of the full notebook cells\n",
       "var notebookContainer = gd.closest('#notebook-container');\n",
       "if (notebookContainer) {{\n",
       "    x.observe(notebookContainer, {childList: true});\n",
       "}}\n",
       "\n",
       "// Listen for the clearing of the current output cell\n",
       "var outputEl = gd.closest('.output');\n",
       "if (outputEl) {{\n",
       "    x.observe(outputEl, {childList: true});\n",
       "}}\n",
       "\n",
       "                        })                };                });            </script>        </div>"
      ]
     },
     "metadata": {},
     "output_type": "display_data"
    }
   ],
   "source": [
    "# intentar solo con datos de artistas\n",
    "fig = px.sunburst(df_art, path=['genres', 'artist_name'])\n",
    "fig.show()"
   ]
  },
  {
   "cell_type": "code",
   "execution_count": null,
   "id": "2c3e4399",
   "metadata": {},
   "outputs": [],
   "source": []
  },
  {
   "cell_type": "code",
   "execution_count": null,
   "id": "9633297c",
   "metadata": {},
   "outputs": [],
   "source": []
  },
  {
   "cell_type": "code",
   "execution_count": null,
   "id": "6dc28697",
   "metadata": {},
   "outputs": [],
   "source": []
  },
  {
   "cell_type": "code",
   "execution_count": null,
   "id": "bbffbf1b",
   "metadata": {},
   "outputs": [],
   "source": []
  },
  {
   "cell_type": "code",
   "execution_count": 9,
   "id": "10497578",
   "metadata": {},
   "outputs": [
    {
     "data": {
      "text/html": [
       "<div>\n",
       "<style scoped>\n",
       "    .dataframe tbody tr th:only-of-type {\n",
       "        vertical-align: middle;\n",
       "    }\n",
       "\n",
       "    .dataframe tbody tr th {\n",
       "        vertical-align: top;\n",
       "    }\n",
       "\n",
       "    .dataframe thead th {\n",
       "        text-align: right;\n",
       "    }\n",
       "</style>\n",
       "<table border=\"1\" class=\"dataframe\">\n",
       "  <thead>\n",
       "    <tr style=\"text-align: right;\">\n",
       "      <th></th>\n",
       "      <th>total_bill</th>\n",
       "      <th>tip</th>\n",
       "      <th>sex</th>\n",
       "      <th>smoker</th>\n",
       "      <th>day</th>\n",
       "      <th>time</th>\n",
       "      <th>size</th>\n",
       "    </tr>\n",
       "  </thead>\n",
       "  <tbody>\n",
       "    <tr>\n",
       "      <th>0</th>\n",
       "      <td>16.99</td>\n",
       "      <td>1.01</td>\n",
       "      <td>Female</td>\n",
       "      <td>No</td>\n",
       "      <td>Sun</td>\n",
       "      <td>Dinner</td>\n",
       "      <td>2</td>\n",
       "    </tr>\n",
       "    <tr>\n",
       "      <th>1</th>\n",
       "      <td>10.34</td>\n",
       "      <td>1.66</td>\n",
       "      <td>Male</td>\n",
       "      <td>No</td>\n",
       "      <td>Sun</td>\n",
       "      <td>Dinner</td>\n",
       "      <td>3</td>\n",
       "    </tr>\n",
       "    <tr>\n",
       "      <th>2</th>\n",
       "      <td>21.01</td>\n",
       "      <td>3.50</td>\n",
       "      <td>Male</td>\n",
       "      <td>No</td>\n",
       "      <td>Sun</td>\n",
       "      <td>Dinner</td>\n",
       "      <td>3</td>\n",
       "    </tr>\n",
       "    <tr>\n",
       "      <th>3</th>\n",
       "      <td>23.68</td>\n",
       "      <td>3.31</td>\n",
       "      <td>Male</td>\n",
       "      <td>No</td>\n",
       "      <td>Sun</td>\n",
       "      <td>Dinner</td>\n",
       "      <td>2</td>\n",
       "    </tr>\n",
       "    <tr>\n",
       "      <th>4</th>\n",
       "      <td>24.59</td>\n",
       "      <td>3.61</td>\n",
       "      <td>Female</td>\n",
       "      <td>No</td>\n",
       "      <td>Sun</td>\n",
       "      <td>Dinner</td>\n",
       "      <td>4</td>\n",
       "    </tr>\n",
       "    <tr>\n",
       "      <th>...</th>\n",
       "      <td>...</td>\n",
       "      <td>...</td>\n",
       "      <td>...</td>\n",
       "      <td>...</td>\n",
       "      <td>...</td>\n",
       "      <td>...</td>\n",
       "      <td>...</td>\n",
       "    </tr>\n",
       "    <tr>\n",
       "      <th>239</th>\n",
       "      <td>29.03</td>\n",
       "      <td>5.92</td>\n",
       "      <td>Male</td>\n",
       "      <td>No</td>\n",
       "      <td>Sat</td>\n",
       "      <td>Dinner</td>\n",
       "      <td>3</td>\n",
       "    </tr>\n",
       "    <tr>\n",
       "      <th>240</th>\n",
       "      <td>27.18</td>\n",
       "      <td>2.00</td>\n",
       "      <td>Female</td>\n",
       "      <td>Yes</td>\n",
       "      <td>Sat</td>\n",
       "      <td>Dinner</td>\n",
       "      <td>2</td>\n",
       "    </tr>\n",
       "    <tr>\n",
       "      <th>241</th>\n",
       "      <td>22.67</td>\n",
       "      <td>2.00</td>\n",
       "      <td>Male</td>\n",
       "      <td>Yes</td>\n",
       "      <td>Sat</td>\n",
       "      <td>Dinner</td>\n",
       "      <td>2</td>\n",
       "    </tr>\n",
       "    <tr>\n",
       "      <th>242</th>\n",
       "      <td>17.82</td>\n",
       "      <td>1.75</td>\n",
       "      <td>Male</td>\n",
       "      <td>No</td>\n",
       "      <td>Sat</td>\n",
       "      <td>Dinner</td>\n",
       "      <td>2</td>\n",
       "    </tr>\n",
       "    <tr>\n",
       "      <th>243</th>\n",
       "      <td>18.78</td>\n",
       "      <td>3.00</td>\n",
       "      <td>Female</td>\n",
       "      <td>No</td>\n",
       "      <td>Thur</td>\n",
       "      <td>Dinner</td>\n",
       "      <td>2</td>\n",
       "    </tr>\n",
       "  </tbody>\n",
       "</table>\n",
       "<p>244 rows × 7 columns</p>\n",
       "</div>"
      ],
      "text/plain": [
       "     total_bill   tip     sex smoker   day    time  size\n",
       "0         16.99  1.01  Female     No   Sun  Dinner     2\n",
       "1         10.34  1.66    Male     No   Sun  Dinner     3\n",
       "2         21.01  3.50    Male     No   Sun  Dinner     3\n",
       "3         23.68  3.31    Male     No   Sun  Dinner     2\n",
       "4         24.59  3.61  Female     No   Sun  Dinner     4\n",
       "..          ...   ...     ...    ...   ...     ...   ...\n",
       "239       29.03  5.92    Male     No   Sat  Dinner     3\n",
       "240       27.18  2.00  Female    Yes   Sat  Dinner     2\n",
       "241       22.67  2.00    Male    Yes   Sat  Dinner     2\n",
       "242       17.82  1.75    Male     No   Sat  Dinner     2\n",
       "243       18.78  3.00  Female     No  Thur  Dinner     2\n",
       "\n",
       "[244 rows x 7 columns]"
      ]
     },
     "execution_count": 9,
     "metadata": {},
     "output_type": "execute_result"
    }
   ],
   "source": [
    "tips = px.data.tips()\n",
    "tips"
   ]
  },
  {
   "cell_type": "code",
   "execution_count": 8,
   "id": "8a6af194",
   "metadata": {},
   "outputs": [
    {
     "data": {
      "application/vnd.plotly.v1+json": {
       "config": {
        "plotlyServerURL": "https://plot.ly"
       },
       "data": [
        {
         "branchvalues": "total",
         "domain": {
          "x": [
           0,
           1
          ],
          "y": [
           0,
           1
          ]
         },
         "hovertemplate": "labels=%{label}<br>total_bill=%{value}<br>parent=%{parent}<br>id=%{id}<extra></extra>",
         "ids": [
          "Fri/Dinner/Female/No",
          "Sat/Dinner/Female/No",
          "Sun/Dinner/Female/No",
          "Thur/Dinner/Female/No",
          "Fri/Lunch/Female/No",
          "Thur/Lunch/Female/No",
          "Fri/Dinner/Male/No",
          "Sat/Dinner/Male/No",
          "Sun/Dinner/Male/No",
          "Thur/Lunch/Male/No",
          "Fri/Dinner/Female/Yes",
          "Sat/Dinner/Female/Yes",
          "Sun/Dinner/Female/Yes",
          "Fri/Lunch/Female/Yes",
          "Thur/Lunch/Female/Yes",
          "Fri/Dinner/Male/Yes",
          "Sat/Dinner/Male/Yes",
          "Sun/Dinner/Male/Yes",
          "Fri/Lunch/Male/Yes",
          "Thur/Lunch/Male/Yes",
          "Fri/Dinner/Female",
          "Sat/Dinner/Female",
          "Sun/Dinner/Female",
          "Thur/Dinner/Female",
          "Fri/Lunch/Female",
          "Thur/Lunch/Female",
          "Fri/Dinner/Male",
          "Sat/Dinner/Male",
          "Sun/Dinner/Male",
          "Fri/Lunch/Male",
          "Thur/Lunch/Male",
          "Fri/Dinner",
          "Sat/Dinner",
          "Sun/Dinner",
          "Thur/Dinner",
          "Fri/Lunch",
          "Thur/Lunch",
          "Fri",
          "Sat",
          "Sun",
          "Thur"
         ],
         "labels": [
          "No",
          "No",
          "No",
          "No",
          "No",
          "No",
          "No",
          "No",
          "No",
          "No",
          "Yes",
          "Yes",
          "Yes",
          "Yes",
          "Yes",
          "Yes",
          "Yes",
          "Yes",
          "Yes",
          "Yes",
          "Female",
          "Female",
          "Female",
          "Female",
          "Female",
          "Female",
          "Male",
          "Male",
          "Male",
          "Male",
          "Male",
          "Dinner",
          "Dinner",
          "Dinner",
          "Dinner",
          "Lunch",
          "Lunch",
          "Fri",
          "Sat",
          "Sun",
          "Thur"
         ],
         "name": "",
         "parents": [
          "Fri/Dinner/Female",
          "Sat/Dinner/Female",
          "Sun/Dinner/Female",
          "Thur/Dinner/Female",
          "Fri/Lunch/Female",
          "Thur/Lunch/Female",
          "Fri/Dinner/Male",
          "Sat/Dinner/Male",
          "Sun/Dinner/Male",
          "Thur/Lunch/Male",
          "Fri/Dinner/Female",
          "Sat/Dinner/Female",
          "Sun/Dinner/Female",
          "Fri/Lunch/Female",
          "Thur/Lunch/Female",
          "Fri/Dinner/Male",
          "Sat/Dinner/Male",
          "Sun/Dinner/Male",
          "Fri/Lunch/Male",
          "Thur/Lunch/Male",
          "Fri/Dinner",
          "Sat/Dinner",
          "Sun/Dinner",
          "Thur/Dinner",
          "Fri/Lunch",
          "Thur/Lunch",
          "Fri/Dinner",
          "Sat/Dinner",
          "Sun/Dinner",
          "Fri/Lunch",
          "Thur/Lunch",
          "Fri",
          "Sat",
          "Sun",
          "Thur",
          "Fri",
          "Thur",
          "",
          "",
          "",
          ""
         ],
         "type": "sunburst",
         "values": [
          22.75,
          247.05,
          291.54,
          18.78,
          15.98,
          381.58,
          34.95,
          637.73,
          877.34,
          369.73,
          48.8,
          304,
          66.16,
          39.78,
          134.53,
          129.46,
          589.62,
          392.12,
          34.16,
          191.71,
          71.55,
          551.05,
          357.7,
          18.78,
          55.760000000000005,
          516.11,
          164.41,
          1227.35,
          1269.46,
          34.16,
          561.4399999999999,
          235.96,
          1778.4,
          1627.16,
          18.78,
          89.92,
          1077.55,
          325.88,
          1778.4,
          1627.16,
          1096.33
         ]
        }
       ],
       "layout": {
        "legend": {
         "tracegroupgap": 0
        },
        "margin": {
         "t": 60
        },
        "template": {
         "data": {
          "bar": [
           {
            "error_x": {
             "color": "#2a3f5f"
            },
            "error_y": {
             "color": "#2a3f5f"
            },
            "marker": {
             "line": {
              "color": "#E5ECF6",
              "width": 0.5
             },
             "pattern": {
              "fillmode": "overlay",
              "size": 10,
              "solidity": 0.2
             }
            },
            "type": "bar"
           }
          ],
          "barpolar": [
           {
            "marker": {
             "line": {
              "color": "#E5ECF6",
              "width": 0.5
             },
             "pattern": {
              "fillmode": "overlay",
              "size": 10,
              "solidity": 0.2
             }
            },
            "type": "barpolar"
           }
          ],
          "carpet": [
           {
            "aaxis": {
             "endlinecolor": "#2a3f5f",
             "gridcolor": "white",
             "linecolor": "white",
             "minorgridcolor": "white",
             "startlinecolor": "#2a3f5f"
            },
            "baxis": {
             "endlinecolor": "#2a3f5f",
             "gridcolor": "white",
             "linecolor": "white",
             "minorgridcolor": "white",
             "startlinecolor": "#2a3f5f"
            },
            "type": "carpet"
           }
          ],
          "choropleth": [
           {
            "colorbar": {
             "outlinewidth": 0,
             "ticks": ""
            },
            "type": "choropleth"
           }
          ],
          "contour": [
           {
            "colorbar": {
             "outlinewidth": 0,
             "ticks": ""
            },
            "colorscale": [
             [
              0,
              "#0d0887"
             ],
             [
              0.1111111111111111,
              "#46039f"
             ],
             [
              0.2222222222222222,
              "#7201a8"
             ],
             [
              0.3333333333333333,
              "#9c179e"
             ],
             [
              0.4444444444444444,
              "#bd3786"
             ],
             [
              0.5555555555555556,
              "#d8576b"
             ],
             [
              0.6666666666666666,
              "#ed7953"
             ],
             [
              0.7777777777777778,
              "#fb9f3a"
             ],
             [
              0.8888888888888888,
              "#fdca26"
             ],
             [
              1,
              "#f0f921"
             ]
            ],
            "type": "contour"
           }
          ],
          "contourcarpet": [
           {
            "colorbar": {
             "outlinewidth": 0,
             "ticks": ""
            },
            "type": "contourcarpet"
           }
          ],
          "heatmap": [
           {
            "colorbar": {
             "outlinewidth": 0,
             "ticks": ""
            },
            "colorscale": [
             [
              0,
              "#0d0887"
             ],
             [
              0.1111111111111111,
              "#46039f"
             ],
             [
              0.2222222222222222,
              "#7201a8"
             ],
             [
              0.3333333333333333,
              "#9c179e"
             ],
             [
              0.4444444444444444,
              "#bd3786"
             ],
             [
              0.5555555555555556,
              "#d8576b"
             ],
             [
              0.6666666666666666,
              "#ed7953"
             ],
             [
              0.7777777777777778,
              "#fb9f3a"
             ],
             [
              0.8888888888888888,
              "#fdca26"
             ],
             [
              1,
              "#f0f921"
             ]
            ],
            "type": "heatmap"
           }
          ],
          "heatmapgl": [
           {
            "colorbar": {
             "outlinewidth": 0,
             "ticks": ""
            },
            "colorscale": [
             [
              0,
              "#0d0887"
             ],
             [
              0.1111111111111111,
              "#46039f"
             ],
             [
              0.2222222222222222,
              "#7201a8"
             ],
             [
              0.3333333333333333,
              "#9c179e"
             ],
             [
              0.4444444444444444,
              "#bd3786"
             ],
             [
              0.5555555555555556,
              "#d8576b"
             ],
             [
              0.6666666666666666,
              "#ed7953"
             ],
             [
              0.7777777777777778,
              "#fb9f3a"
             ],
             [
              0.8888888888888888,
              "#fdca26"
             ],
             [
              1,
              "#f0f921"
             ]
            ],
            "type": "heatmapgl"
           }
          ],
          "histogram": [
           {
            "marker": {
             "pattern": {
              "fillmode": "overlay",
              "size": 10,
              "solidity": 0.2
             }
            },
            "type": "histogram"
           }
          ],
          "histogram2d": [
           {
            "colorbar": {
             "outlinewidth": 0,
             "ticks": ""
            },
            "colorscale": [
             [
              0,
              "#0d0887"
             ],
             [
              0.1111111111111111,
              "#46039f"
             ],
             [
              0.2222222222222222,
              "#7201a8"
             ],
             [
              0.3333333333333333,
              "#9c179e"
             ],
             [
              0.4444444444444444,
              "#bd3786"
             ],
             [
              0.5555555555555556,
              "#d8576b"
             ],
             [
              0.6666666666666666,
              "#ed7953"
             ],
             [
              0.7777777777777778,
              "#fb9f3a"
             ],
             [
              0.8888888888888888,
              "#fdca26"
             ],
             [
              1,
              "#f0f921"
             ]
            ],
            "type": "histogram2d"
           }
          ],
          "histogram2dcontour": [
           {
            "colorbar": {
             "outlinewidth": 0,
             "ticks": ""
            },
            "colorscale": [
             [
              0,
              "#0d0887"
             ],
             [
              0.1111111111111111,
              "#46039f"
             ],
             [
              0.2222222222222222,
              "#7201a8"
             ],
             [
              0.3333333333333333,
              "#9c179e"
             ],
             [
              0.4444444444444444,
              "#bd3786"
             ],
             [
              0.5555555555555556,
              "#d8576b"
             ],
             [
              0.6666666666666666,
              "#ed7953"
             ],
             [
              0.7777777777777778,
              "#fb9f3a"
             ],
             [
              0.8888888888888888,
              "#fdca26"
             ],
             [
              1,
              "#f0f921"
             ]
            ],
            "type": "histogram2dcontour"
           }
          ],
          "mesh3d": [
           {
            "colorbar": {
             "outlinewidth": 0,
             "ticks": ""
            },
            "type": "mesh3d"
           }
          ],
          "parcoords": [
           {
            "line": {
             "colorbar": {
              "outlinewidth": 0,
              "ticks": ""
             }
            },
            "type": "parcoords"
           }
          ],
          "pie": [
           {
            "automargin": true,
            "type": "pie"
           }
          ],
          "scatter": [
           {
            "fillpattern": {
             "fillmode": "overlay",
             "size": 10,
             "solidity": 0.2
            },
            "type": "scatter"
           }
          ],
          "scatter3d": [
           {
            "line": {
             "colorbar": {
              "outlinewidth": 0,
              "ticks": ""
             }
            },
            "marker": {
             "colorbar": {
              "outlinewidth": 0,
              "ticks": ""
             }
            },
            "type": "scatter3d"
           }
          ],
          "scattercarpet": [
           {
            "marker": {
             "colorbar": {
              "outlinewidth": 0,
              "ticks": ""
             }
            },
            "type": "scattercarpet"
           }
          ],
          "scattergeo": [
           {
            "marker": {
             "colorbar": {
              "outlinewidth": 0,
              "ticks": ""
             }
            },
            "type": "scattergeo"
           }
          ],
          "scattergl": [
           {
            "marker": {
             "colorbar": {
              "outlinewidth": 0,
              "ticks": ""
             }
            },
            "type": "scattergl"
           }
          ],
          "scattermapbox": [
           {
            "marker": {
             "colorbar": {
              "outlinewidth": 0,
              "ticks": ""
             }
            },
            "type": "scattermapbox"
           }
          ],
          "scatterpolar": [
           {
            "marker": {
             "colorbar": {
              "outlinewidth": 0,
              "ticks": ""
             }
            },
            "type": "scatterpolar"
           }
          ],
          "scatterpolargl": [
           {
            "marker": {
             "colorbar": {
              "outlinewidth": 0,
              "ticks": ""
             }
            },
            "type": "scatterpolargl"
           }
          ],
          "scatterternary": [
           {
            "marker": {
             "colorbar": {
              "outlinewidth": 0,
              "ticks": ""
             }
            },
            "type": "scatterternary"
           }
          ],
          "surface": [
           {
            "colorbar": {
             "outlinewidth": 0,
             "ticks": ""
            },
            "colorscale": [
             [
              0,
              "#0d0887"
             ],
             [
              0.1111111111111111,
              "#46039f"
             ],
             [
              0.2222222222222222,
              "#7201a8"
             ],
             [
              0.3333333333333333,
              "#9c179e"
             ],
             [
              0.4444444444444444,
              "#bd3786"
             ],
             [
              0.5555555555555556,
              "#d8576b"
             ],
             [
              0.6666666666666666,
              "#ed7953"
             ],
             [
              0.7777777777777778,
              "#fb9f3a"
             ],
             [
              0.8888888888888888,
              "#fdca26"
             ],
             [
              1,
              "#f0f921"
             ]
            ],
            "type": "surface"
           }
          ],
          "table": [
           {
            "cells": {
             "fill": {
              "color": "#EBF0F8"
             },
             "line": {
              "color": "white"
             }
            },
            "header": {
             "fill": {
              "color": "#C8D4E3"
             },
             "line": {
              "color": "white"
             }
            },
            "type": "table"
           }
          ]
         },
         "layout": {
          "annotationdefaults": {
           "arrowcolor": "#2a3f5f",
           "arrowhead": 0,
           "arrowwidth": 1
          },
          "autotypenumbers": "strict",
          "coloraxis": {
           "colorbar": {
            "outlinewidth": 0,
            "ticks": ""
           }
          },
          "colorscale": {
           "diverging": [
            [
             0,
             "#8e0152"
            ],
            [
             0.1,
             "#c51b7d"
            ],
            [
             0.2,
             "#de77ae"
            ],
            [
             0.3,
             "#f1b6da"
            ],
            [
             0.4,
             "#fde0ef"
            ],
            [
             0.5,
             "#f7f7f7"
            ],
            [
             0.6,
             "#e6f5d0"
            ],
            [
             0.7,
             "#b8e186"
            ],
            [
             0.8,
             "#7fbc41"
            ],
            [
             0.9,
             "#4d9221"
            ],
            [
             1,
             "#276419"
            ]
           ],
           "sequential": [
            [
             0,
             "#0d0887"
            ],
            [
             0.1111111111111111,
             "#46039f"
            ],
            [
             0.2222222222222222,
             "#7201a8"
            ],
            [
             0.3333333333333333,
             "#9c179e"
            ],
            [
             0.4444444444444444,
             "#bd3786"
            ],
            [
             0.5555555555555556,
             "#d8576b"
            ],
            [
             0.6666666666666666,
             "#ed7953"
            ],
            [
             0.7777777777777778,
             "#fb9f3a"
            ],
            [
             0.8888888888888888,
             "#fdca26"
            ],
            [
             1,
             "#f0f921"
            ]
           ],
           "sequentialminus": [
            [
             0,
             "#0d0887"
            ],
            [
             0.1111111111111111,
             "#46039f"
            ],
            [
             0.2222222222222222,
             "#7201a8"
            ],
            [
             0.3333333333333333,
             "#9c179e"
            ],
            [
             0.4444444444444444,
             "#bd3786"
            ],
            [
             0.5555555555555556,
             "#d8576b"
            ],
            [
             0.6666666666666666,
             "#ed7953"
            ],
            [
             0.7777777777777778,
             "#fb9f3a"
            ],
            [
             0.8888888888888888,
             "#fdca26"
            ],
            [
             1,
             "#f0f921"
            ]
           ]
          },
          "colorway": [
           "#636efa",
           "#EF553B",
           "#00cc96",
           "#ab63fa",
           "#FFA15A",
           "#19d3f3",
           "#FF6692",
           "#B6E880",
           "#FF97FF",
           "#FECB52"
          ],
          "font": {
           "color": "#2a3f5f"
          },
          "geo": {
           "bgcolor": "white",
           "lakecolor": "white",
           "landcolor": "#E5ECF6",
           "showlakes": true,
           "showland": true,
           "subunitcolor": "white"
          },
          "hoverlabel": {
           "align": "left"
          },
          "hovermode": "closest",
          "mapbox": {
           "style": "light"
          },
          "paper_bgcolor": "white",
          "plot_bgcolor": "#E5ECF6",
          "polar": {
           "angularaxis": {
            "gridcolor": "white",
            "linecolor": "white",
            "ticks": ""
           },
           "bgcolor": "#E5ECF6",
           "radialaxis": {
            "gridcolor": "white",
            "linecolor": "white",
            "ticks": ""
           }
          },
          "scene": {
           "xaxis": {
            "backgroundcolor": "#E5ECF6",
            "gridcolor": "white",
            "gridwidth": 2,
            "linecolor": "white",
            "showbackground": true,
            "ticks": "",
            "zerolinecolor": "white"
           },
           "yaxis": {
            "backgroundcolor": "#E5ECF6",
            "gridcolor": "white",
            "gridwidth": 2,
            "linecolor": "white",
            "showbackground": true,
            "ticks": "",
            "zerolinecolor": "white"
           },
           "zaxis": {
            "backgroundcolor": "#E5ECF6",
            "gridcolor": "white",
            "gridwidth": 2,
            "linecolor": "white",
            "showbackground": true,
            "ticks": "",
            "zerolinecolor": "white"
           }
          },
          "shapedefaults": {
           "line": {
            "color": "#2a3f5f"
           }
          },
          "ternary": {
           "aaxis": {
            "gridcolor": "white",
            "linecolor": "white",
            "ticks": ""
           },
           "baxis": {
            "gridcolor": "white",
            "linecolor": "white",
            "ticks": ""
           },
           "bgcolor": "#E5ECF6",
           "caxis": {
            "gridcolor": "white",
            "linecolor": "white",
            "ticks": ""
           }
          },
          "title": {
           "x": 0.05
          },
          "xaxis": {
           "automargin": true,
           "gridcolor": "white",
           "linecolor": "white",
           "ticks": "",
           "title": {
            "standoff": 15
           },
           "zerolinecolor": "white",
           "zerolinewidth": 2
          },
          "yaxis": {
           "automargin": true,
           "gridcolor": "white",
           "linecolor": "white",
           "ticks": "",
           "title": {
            "standoff": 15
           },
           "zerolinecolor": "white",
           "zerolinewidth": 2
          }
         }
        }
       }
      },
      "text/html": [
       "<div>                            <div id=\"d308b805-4d23-4b22-8e6a-5c63d9d2cbb4\" class=\"plotly-graph-div\" style=\"height:525px; width:100%;\"></div>            <script type=\"text/javascript\">                require([\"plotly\"], function(Plotly) {                    window.PLOTLYENV=window.PLOTLYENV || {};                                    if (document.getElementById(\"d308b805-4d23-4b22-8e6a-5c63d9d2cbb4\")) {                    Plotly.newPlot(                        \"d308b805-4d23-4b22-8e6a-5c63d9d2cbb4\",                        [{\"branchvalues\":\"total\",\"domain\":{\"x\":[0.0,1.0],\"y\":[0.0,1.0]},\"hovertemplate\":\"labels=%{label}<br>total_bill=%{value}<br>parent=%{parent}<br>id=%{id}<extra></extra>\",\"ids\":[\"Fri/Dinner/Female/No\",\"Sat/Dinner/Female/No\",\"Sun/Dinner/Female/No\",\"Thur/Dinner/Female/No\",\"Fri/Lunch/Female/No\",\"Thur/Lunch/Female/No\",\"Fri/Dinner/Male/No\",\"Sat/Dinner/Male/No\",\"Sun/Dinner/Male/No\",\"Thur/Lunch/Male/No\",\"Fri/Dinner/Female/Yes\",\"Sat/Dinner/Female/Yes\",\"Sun/Dinner/Female/Yes\",\"Fri/Lunch/Female/Yes\",\"Thur/Lunch/Female/Yes\",\"Fri/Dinner/Male/Yes\",\"Sat/Dinner/Male/Yes\",\"Sun/Dinner/Male/Yes\",\"Fri/Lunch/Male/Yes\",\"Thur/Lunch/Male/Yes\",\"Fri/Dinner/Female\",\"Sat/Dinner/Female\",\"Sun/Dinner/Female\",\"Thur/Dinner/Female\",\"Fri/Lunch/Female\",\"Thur/Lunch/Female\",\"Fri/Dinner/Male\",\"Sat/Dinner/Male\",\"Sun/Dinner/Male\",\"Fri/Lunch/Male\",\"Thur/Lunch/Male\",\"Fri/Dinner\",\"Sat/Dinner\",\"Sun/Dinner\",\"Thur/Dinner\",\"Fri/Lunch\",\"Thur/Lunch\",\"Fri\",\"Sat\",\"Sun\",\"Thur\"],\"labels\":[\"No\",\"No\",\"No\",\"No\",\"No\",\"No\",\"No\",\"No\",\"No\",\"No\",\"Yes\",\"Yes\",\"Yes\",\"Yes\",\"Yes\",\"Yes\",\"Yes\",\"Yes\",\"Yes\",\"Yes\",\"Female\",\"Female\",\"Female\",\"Female\",\"Female\",\"Female\",\"Male\",\"Male\",\"Male\",\"Male\",\"Male\",\"Dinner\",\"Dinner\",\"Dinner\",\"Dinner\",\"Lunch\",\"Lunch\",\"Fri\",\"Sat\",\"Sun\",\"Thur\"],\"name\":\"\",\"parents\":[\"Fri/Dinner/Female\",\"Sat/Dinner/Female\",\"Sun/Dinner/Female\",\"Thur/Dinner/Female\",\"Fri/Lunch/Female\",\"Thur/Lunch/Female\",\"Fri/Dinner/Male\",\"Sat/Dinner/Male\",\"Sun/Dinner/Male\",\"Thur/Lunch/Male\",\"Fri/Dinner/Female\",\"Sat/Dinner/Female\",\"Sun/Dinner/Female\",\"Fri/Lunch/Female\",\"Thur/Lunch/Female\",\"Fri/Dinner/Male\",\"Sat/Dinner/Male\",\"Sun/Dinner/Male\",\"Fri/Lunch/Male\",\"Thur/Lunch/Male\",\"Fri/Dinner\",\"Sat/Dinner\",\"Sun/Dinner\",\"Thur/Dinner\",\"Fri/Lunch\",\"Thur/Lunch\",\"Fri/Dinner\",\"Sat/Dinner\",\"Sun/Dinner\",\"Fri/Lunch\",\"Thur/Lunch\",\"Fri\",\"Sat\",\"Sun\",\"Thur\",\"Fri\",\"Thur\",\"\",\"\",\"\",\"\"],\"values\":[22.75,247.05,291.54,18.78,15.98,381.58,34.95,637.73,877.34,369.73,48.8,304.0,66.16,39.78,134.53,129.46,589.62,392.12,34.16,191.71,71.55,551.05,357.7,18.78,55.760000000000005,516.11,164.41,1227.35,1269.46,34.16,561.4399999999999,235.96,1778.4,1627.16,18.78,89.92,1077.55,325.88,1778.4,1627.16,1096.33],\"type\":\"sunburst\"}],                        {\"template\":{\"data\":{\"histogram2dcontour\":[{\"type\":\"histogram2dcontour\",\"colorbar\":{\"outlinewidth\":0,\"ticks\":\"\"},\"colorscale\":[[0.0,\"#0d0887\"],[0.1111111111111111,\"#46039f\"],[0.2222222222222222,\"#7201a8\"],[0.3333333333333333,\"#9c179e\"],[0.4444444444444444,\"#bd3786\"],[0.5555555555555556,\"#d8576b\"],[0.6666666666666666,\"#ed7953\"],[0.7777777777777778,\"#fb9f3a\"],[0.8888888888888888,\"#fdca26\"],[1.0,\"#f0f921\"]]}],\"choropleth\":[{\"type\":\"choropleth\",\"colorbar\":{\"outlinewidth\":0,\"ticks\":\"\"}}],\"histogram2d\":[{\"type\":\"histogram2d\",\"colorbar\":{\"outlinewidth\":0,\"ticks\":\"\"},\"colorscale\":[[0.0,\"#0d0887\"],[0.1111111111111111,\"#46039f\"],[0.2222222222222222,\"#7201a8\"],[0.3333333333333333,\"#9c179e\"],[0.4444444444444444,\"#bd3786\"],[0.5555555555555556,\"#d8576b\"],[0.6666666666666666,\"#ed7953\"],[0.7777777777777778,\"#fb9f3a\"],[0.8888888888888888,\"#fdca26\"],[1.0,\"#f0f921\"]]}],\"heatmap\":[{\"type\":\"heatmap\",\"colorbar\":{\"outlinewidth\":0,\"ticks\":\"\"},\"colorscale\":[[0.0,\"#0d0887\"],[0.1111111111111111,\"#46039f\"],[0.2222222222222222,\"#7201a8\"],[0.3333333333333333,\"#9c179e\"],[0.4444444444444444,\"#bd3786\"],[0.5555555555555556,\"#d8576b\"],[0.6666666666666666,\"#ed7953\"],[0.7777777777777778,\"#fb9f3a\"],[0.8888888888888888,\"#fdca26\"],[1.0,\"#f0f921\"]]}],\"heatmapgl\":[{\"type\":\"heatmapgl\",\"colorbar\":{\"outlinewidth\":0,\"ticks\":\"\"},\"colorscale\":[[0.0,\"#0d0887\"],[0.1111111111111111,\"#46039f\"],[0.2222222222222222,\"#7201a8\"],[0.3333333333333333,\"#9c179e\"],[0.4444444444444444,\"#bd3786\"],[0.5555555555555556,\"#d8576b\"],[0.6666666666666666,\"#ed7953\"],[0.7777777777777778,\"#fb9f3a\"],[0.8888888888888888,\"#fdca26\"],[1.0,\"#f0f921\"]]}],\"contourcarpet\":[{\"type\":\"contourcarpet\",\"colorbar\":{\"outlinewidth\":0,\"ticks\":\"\"}}],\"contour\":[{\"type\":\"contour\",\"colorbar\":{\"outlinewidth\":0,\"ticks\":\"\"},\"colorscale\":[[0.0,\"#0d0887\"],[0.1111111111111111,\"#46039f\"],[0.2222222222222222,\"#7201a8\"],[0.3333333333333333,\"#9c179e\"],[0.4444444444444444,\"#bd3786\"],[0.5555555555555556,\"#d8576b\"],[0.6666666666666666,\"#ed7953\"],[0.7777777777777778,\"#fb9f3a\"],[0.8888888888888888,\"#fdca26\"],[1.0,\"#f0f921\"]]}],\"surface\":[{\"type\":\"surface\",\"colorbar\":{\"outlinewidth\":0,\"ticks\":\"\"},\"colorscale\":[[0.0,\"#0d0887\"],[0.1111111111111111,\"#46039f\"],[0.2222222222222222,\"#7201a8\"],[0.3333333333333333,\"#9c179e\"],[0.4444444444444444,\"#bd3786\"],[0.5555555555555556,\"#d8576b\"],[0.6666666666666666,\"#ed7953\"],[0.7777777777777778,\"#fb9f3a\"],[0.8888888888888888,\"#fdca26\"],[1.0,\"#f0f921\"]]}],\"mesh3d\":[{\"type\":\"mesh3d\",\"colorbar\":{\"outlinewidth\":0,\"ticks\":\"\"}}],\"scatter\":[{\"fillpattern\":{\"fillmode\":\"overlay\",\"size\":10,\"solidity\":0.2},\"type\":\"scatter\"}],\"parcoords\":[{\"type\":\"parcoords\",\"line\":{\"colorbar\":{\"outlinewidth\":0,\"ticks\":\"\"}}}],\"scatterpolargl\":[{\"type\":\"scatterpolargl\",\"marker\":{\"colorbar\":{\"outlinewidth\":0,\"ticks\":\"\"}}}],\"bar\":[{\"error_x\":{\"color\":\"#2a3f5f\"},\"error_y\":{\"color\":\"#2a3f5f\"},\"marker\":{\"line\":{\"color\":\"#E5ECF6\",\"width\":0.5},\"pattern\":{\"fillmode\":\"overlay\",\"size\":10,\"solidity\":0.2}},\"type\":\"bar\"}],\"scattergeo\":[{\"type\":\"scattergeo\",\"marker\":{\"colorbar\":{\"outlinewidth\":0,\"ticks\":\"\"}}}],\"scatterpolar\":[{\"type\":\"scatterpolar\",\"marker\":{\"colorbar\":{\"outlinewidth\":0,\"ticks\":\"\"}}}],\"histogram\":[{\"marker\":{\"pattern\":{\"fillmode\":\"overlay\",\"size\":10,\"solidity\":0.2}},\"type\":\"histogram\"}],\"scattergl\":[{\"type\":\"scattergl\",\"marker\":{\"colorbar\":{\"outlinewidth\":0,\"ticks\":\"\"}}}],\"scatter3d\":[{\"type\":\"scatter3d\",\"line\":{\"colorbar\":{\"outlinewidth\":0,\"ticks\":\"\"}},\"marker\":{\"colorbar\":{\"outlinewidth\":0,\"ticks\":\"\"}}}],\"scattermapbox\":[{\"type\":\"scattermapbox\",\"marker\":{\"colorbar\":{\"outlinewidth\":0,\"ticks\":\"\"}}}],\"scatterternary\":[{\"type\":\"scatterternary\",\"marker\":{\"colorbar\":{\"outlinewidth\":0,\"ticks\":\"\"}}}],\"scattercarpet\":[{\"type\":\"scattercarpet\",\"marker\":{\"colorbar\":{\"outlinewidth\":0,\"ticks\":\"\"}}}],\"carpet\":[{\"aaxis\":{\"endlinecolor\":\"#2a3f5f\",\"gridcolor\":\"white\",\"linecolor\":\"white\",\"minorgridcolor\":\"white\",\"startlinecolor\":\"#2a3f5f\"},\"baxis\":{\"endlinecolor\":\"#2a3f5f\",\"gridcolor\":\"white\",\"linecolor\":\"white\",\"minorgridcolor\":\"white\",\"startlinecolor\":\"#2a3f5f\"},\"type\":\"carpet\"}],\"table\":[{\"cells\":{\"fill\":{\"color\":\"#EBF0F8\"},\"line\":{\"color\":\"white\"}},\"header\":{\"fill\":{\"color\":\"#C8D4E3\"},\"line\":{\"color\":\"white\"}},\"type\":\"table\"}],\"barpolar\":[{\"marker\":{\"line\":{\"color\":\"#E5ECF6\",\"width\":0.5},\"pattern\":{\"fillmode\":\"overlay\",\"size\":10,\"solidity\":0.2}},\"type\":\"barpolar\"}],\"pie\":[{\"automargin\":true,\"type\":\"pie\"}]},\"layout\":{\"autotypenumbers\":\"strict\",\"colorway\":[\"#636efa\",\"#EF553B\",\"#00cc96\",\"#ab63fa\",\"#FFA15A\",\"#19d3f3\",\"#FF6692\",\"#B6E880\",\"#FF97FF\",\"#FECB52\"],\"font\":{\"color\":\"#2a3f5f\"},\"hovermode\":\"closest\",\"hoverlabel\":{\"align\":\"left\"},\"paper_bgcolor\":\"white\",\"plot_bgcolor\":\"#E5ECF6\",\"polar\":{\"bgcolor\":\"#E5ECF6\",\"angularaxis\":{\"gridcolor\":\"white\",\"linecolor\":\"white\",\"ticks\":\"\"},\"radialaxis\":{\"gridcolor\":\"white\",\"linecolor\":\"white\",\"ticks\":\"\"}},\"ternary\":{\"bgcolor\":\"#E5ECF6\",\"aaxis\":{\"gridcolor\":\"white\",\"linecolor\":\"white\",\"ticks\":\"\"},\"baxis\":{\"gridcolor\":\"white\",\"linecolor\":\"white\",\"ticks\":\"\"},\"caxis\":{\"gridcolor\":\"white\",\"linecolor\":\"white\",\"ticks\":\"\"}},\"coloraxis\":{\"colorbar\":{\"outlinewidth\":0,\"ticks\":\"\"}},\"colorscale\":{\"sequential\":[[0.0,\"#0d0887\"],[0.1111111111111111,\"#46039f\"],[0.2222222222222222,\"#7201a8\"],[0.3333333333333333,\"#9c179e\"],[0.4444444444444444,\"#bd3786\"],[0.5555555555555556,\"#d8576b\"],[0.6666666666666666,\"#ed7953\"],[0.7777777777777778,\"#fb9f3a\"],[0.8888888888888888,\"#fdca26\"],[1.0,\"#f0f921\"]],\"sequentialminus\":[[0.0,\"#0d0887\"],[0.1111111111111111,\"#46039f\"],[0.2222222222222222,\"#7201a8\"],[0.3333333333333333,\"#9c179e\"],[0.4444444444444444,\"#bd3786\"],[0.5555555555555556,\"#d8576b\"],[0.6666666666666666,\"#ed7953\"],[0.7777777777777778,\"#fb9f3a\"],[0.8888888888888888,\"#fdca26\"],[1.0,\"#f0f921\"]],\"diverging\":[[0,\"#8e0152\"],[0.1,\"#c51b7d\"],[0.2,\"#de77ae\"],[0.3,\"#f1b6da\"],[0.4,\"#fde0ef\"],[0.5,\"#f7f7f7\"],[0.6,\"#e6f5d0\"],[0.7,\"#b8e186\"],[0.8,\"#7fbc41\"],[0.9,\"#4d9221\"],[1,\"#276419\"]]},\"xaxis\":{\"gridcolor\":\"white\",\"linecolor\":\"white\",\"ticks\":\"\",\"title\":{\"standoff\":15},\"zerolinecolor\":\"white\",\"automargin\":true,\"zerolinewidth\":2},\"yaxis\":{\"gridcolor\":\"white\",\"linecolor\":\"white\",\"ticks\":\"\",\"title\":{\"standoff\":15},\"zerolinecolor\":\"white\",\"automargin\":true,\"zerolinewidth\":2},\"scene\":{\"xaxis\":{\"backgroundcolor\":\"#E5ECF6\",\"gridcolor\":\"white\",\"linecolor\":\"white\",\"showbackground\":true,\"ticks\":\"\",\"zerolinecolor\":\"white\",\"gridwidth\":2},\"yaxis\":{\"backgroundcolor\":\"#E5ECF6\",\"gridcolor\":\"white\",\"linecolor\":\"white\",\"showbackground\":true,\"ticks\":\"\",\"zerolinecolor\":\"white\",\"gridwidth\":2},\"zaxis\":{\"backgroundcolor\":\"#E5ECF6\",\"gridcolor\":\"white\",\"linecolor\":\"white\",\"showbackground\":true,\"ticks\":\"\",\"zerolinecolor\":\"white\",\"gridwidth\":2}},\"shapedefaults\":{\"line\":{\"color\":\"#2a3f5f\"}},\"annotationdefaults\":{\"arrowcolor\":\"#2a3f5f\",\"arrowhead\":0,\"arrowwidth\":1},\"geo\":{\"bgcolor\":\"white\",\"landcolor\":\"#E5ECF6\",\"subunitcolor\":\"white\",\"showland\":true,\"showlakes\":true,\"lakecolor\":\"white\"},\"title\":{\"x\":0.05},\"mapbox\":{\"style\":\"light\"}}},\"legend\":{\"tracegroupgap\":0},\"margin\":{\"t\":60}},                        {\"responsive\": true}                    ).then(function(){\n",
       "                            \n",
       "var gd = document.getElementById('d308b805-4d23-4b22-8e6a-5c63d9d2cbb4');\n",
       "var x = new MutationObserver(function (mutations, observer) {{\n",
       "        var display = window.getComputedStyle(gd).display;\n",
       "        if (!display || display === 'none') {{\n",
       "            console.log([gd, 'removed!']);\n",
       "            Plotly.purge(gd);\n",
       "            observer.disconnect();\n",
       "        }}\n",
       "}});\n",
       "\n",
       "// Listen for the removal of the full notebook cells\n",
       "var notebookContainer = gd.closest('#notebook-container');\n",
       "if (notebookContainer) {{\n",
       "    x.observe(notebookContainer, {childList: true});\n",
       "}}\n",
       "\n",
       "// Listen for the clearing of the current output cell\n",
       "var outputEl = gd.closest('.output');\n",
       "if (outputEl) {{\n",
       "    x.observe(outputEl, {childList: true});\n",
       "}}\n",
       "\n",
       "                        })                };                });            </script>        </div>"
      ]
     },
     "metadata": {},
     "output_type": "display_data"
    }
   ],
   "source": [
    "fig = px.sunburst(tips, path=['day', 'time', 'sex', \"smoker\"], values='total_bill')\n",
    "fig.show()"
   ]
  }
 ],
 "metadata": {
  "kernelspec": {
   "display_name": "Python 3 (ipykernel)",
   "language": "python",
   "name": "python3"
  },
  "language_info": {
   "codemirror_mode": {
    "name": "ipython",
    "version": 3
   },
   "file_extension": ".py",
   "mimetype": "text/x-python",
   "name": "python",
   "nbconvert_exporter": "python",
   "pygments_lexer": "ipython3",
   "version": "3.10.6"
  },
  "toc": {
   "base_numbering": 1,
   "nav_menu": {},
   "number_sections": true,
   "sideBar": true,
   "skip_h1_title": false,
   "title_cell": "Table of Contents",
   "title_sidebar": "Contents",
   "toc_cell": false,
   "toc_position": {},
   "toc_section_display": true,
   "toc_window_display": false
  }
 },
 "nbformat": 4,
 "nbformat_minor": 5
}

{
 "cells": [
  {
   "cell_type": "code",
   "execution_count": null,
   "id": "86e5e53d",
   "metadata": {},
   "outputs": [],
   "source": [
    "'''\n",
    "1. Tomar df de largo plazo de tracks\n",
    "2. Por cada item, intentar tomar genero\n",
    "3. Si el genero esta, append to list\n",
    "4. Si genero = NaN ir al df largo plazo de artistas, buscar le artista, unpack & append los generos\n",
    "\n",
    "5. Armar la estadistica, insistencia del genero escuchado sobre total\n",
    "6. Armar pie chart (la funcion se armaria en app)\n",
    "\n",
    "7. Repetir para los mt, y st\n",
    "\n",
    "\n",
    "\n",
    "'''"
   ]
  },
  {
   "cell_type": "code",
   "execution_count": null,
   "id": "312291ba",
   "metadata": {},
   "outputs": [],
   "source": [
    "def genre_piechart_attempt:\n",
    "    '''Attempt at a pie chart of genres, not working yet'''\n",
    "\n",
    "    # Get genres from Spotify API\n",
    "    genres = sp.recommendation_genre_seeds()\n",
    "\n",
    "    # Create empty dataframe\n",
    "    genre_df = pd.DataFrame()\n",
    "\n",
    "    # Iterate over genres and add to dataframe\n",
    "    for genre in genres['genres']:\n",
    "        genre_df = genre_df.append({'genre': genre}, ignore_index=True)\n",
    "\n",
    "    # Create empty list for genre popularity\n",
    "    genre_popularity = []\n",
    "\n",
    "    # Iterate over genres and get popularity\n",
    "    for genre in genres['genres']:\n",
    "        genre_popularity.append(sp.search(q=f'genre:{genre}', type='artist')['artists']['items'][0]['popularity'])\n",
    "\n",
    "    # Add popularity to dataframe\n",
    "    genre_df['popularity'] = genre_popularity\n",
    "\n",
    "    # Create pie chart\n",
    "    fig = px.pie(genre_df, values='popularity', names='genre', title='Genre Popularity')\n",
    "    fig.show()\n",
    "\n",
    "    return fig\n"
   ]
  }
 ],
 "metadata": {
  "kernelspec": {
   "display_name": "Python 3 (ipykernel)",
   "language": "python",
   "name": "python3"
  },
  "language_info": {
   "codemirror_mode": {
    "name": "ipython",
    "version": 3
   },
   "file_extension": ".py",
   "mimetype": "text/x-python",
   "name": "python",
   "nbconvert_exporter": "python",
   "pygments_lexer": "ipython3",
   "version": "3.10.6"
  },
  "toc": {
   "base_numbering": 1,
   "nav_menu": {},
   "number_sections": true,
   "sideBar": true,
   "skip_h1_title": false,
   "title_cell": "Table of Contents",
   "title_sidebar": "Contents",
   "toc_cell": false,
   "toc_position": {},
   "toc_section_display": true,
   "toc_window_display": false
  }
 },
 "nbformat": 4,
 "nbformat_minor": 5
}
